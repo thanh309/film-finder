{
 "cells": [
  {
   "cell_type": "markdown",
   "metadata": {},
   "source": [
    "## **Movies Recommendation: Neighborhood-Based Collaborative filtering**\n",
    "\n",
    "### **Import necessary library**"
   ]
  },
  {
   "cell_type": "code",
   "execution_count": 1,
   "metadata": {},
   "outputs": [],
   "source": [
    "import pandas as pd \n",
    "import numpy as np \n",
    "from utilities import *\n",
    "from collaborative_filtering import NeighborhoodCF, build_utility_matrix, eval"
   ]
  },
  {
   "cell_type": "code",
   "execution_count": 2,
   "metadata": {},
   "outputs": [],
   "source": [
    "train_data = pd.read_csv('resources/data/train_val_test/ratings_train.csv', header=None, names=['UserID', 'MovieID', 'Rating'])\n",
    "test_data = pd.read_csv('resources/data/train_val_test/ratings_test.csv', header=None, names=['UserID', 'MovieID', 'Rating'])\n",
    "val_data = pd.read_csv('resources/data/train_val_test/ratings_val.csv', header=None, names=['UserID', 'MovieID', 'Rating'])"
   ]
  },
  {
   "cell_type": "code",
   "execution_count": 3,
   "metadata": {},
   "outputs": [],
   "source": [
    "train_data = pd.concat([train_data, val_data], ignore_index=True)\n",
    "train_data = train_data.reset_index()\n",
    "train_data = train_data.drop(columns=['index'])"
   ]
  },
  {
   "cell_type": "code",
   "execution_count": 4,
   "metadata": {},
   "outputs": [
    {
     "data": {
      "text/html": [
       "<div>\n",
       "<style scoped>\n",
       "    .dataframe tbody tr th:only-of-type {\n",
       "        vertical-align: middle;\n",
       "    }\n",
       "\n",
       "    .dataframe tbody tr th {\n",
       "        vertical-align: top;\n",
       "    }\n",
       "\n",
       "    .dataframe thead th {\n",
       "        text-align: right;\n",
       "    }\n",
       "</style>\n",
       "<table border=\"1\" class=\"dataframe\">\n",
       "  <thead>\n",
       "    <tr style=\"text-align: right;\">\n",
       "      <th></th>\n",
       "      <th>UserID</th>\n",
       "      <th>MovieID</th>\n",
       "      <th>Rating</th>\n",
       "    </tr>\n",
       "  </thead>\n",
       "  <tbody>\n",
       "    <tr>\n",
       "      <th>0</th>\n",
       "      <td>36527471</td>\n",
       "      <td>1659337</td>\n",
       "      <td>8</td>\n",
       "    </tr>\n",
       "    <tr>\n",
       "      <th>1</th>\n",
       "      <td>65089494</td>\n",
       "      <td>105695</td>\n",
       "      <td>10</td>\n",
       "    </tr>\n",
       "    <tr>\n",
       "      <th>2</th>\n",
       "      <td>23249666</td>\n",
       "      <td>1628064</td>\n",
       "      <td>9</td>\n",
       "    </tr>\n",
       "    <tr>\n",
       "      <th>3</th>\n",
       "      <td>7776823</td>\n",
       "      <td>110413</td>\n",
       "      <td>10</td>\n",
       "    </tr>\n",
       "    <tr>\n",
       "      <th>4</th>\n",
       "      <td>122607281</td>\n",
       "      <td>2948372</td>\n",
       "      <td>6</td>\n",
       "    </tr>\n",
       "  </tbody>\n",
       "</table>\n",
       "</div>"
      ],
      "text/plain": [
       "      UserID  MovieID  Rating\n",
       "0   36527471  1659337       8\n",
       "1   65089494   105695      10\n",
       "2   23249666  1628064       9\n",
       "3    7776823   110413      10\n",
       "4  122607281  2948372       6"
      ]
     },
     "execution_count": 4,
     "metadata": {},
     "output_type": "execute_result"
    }
   ],
   "source": [
    "train_data.head()"
   ]
  },
  {
   "cell_type": "code",
   "execution_count": 5,
   "metadata": {},
   "outputs": [
    {
     "data": {
      "text/html": [
       "<div>\n",
       "<style scoped>\n",
       "    .dataframe tbody tr th:only-of-type {\n",
       "        vertical-align: middle;\n",
       "    }\n",
       "\n",
       "    .dataframe tbody tr th {\n",
       "        vertical-align: top;\n",
       "    }\n",
       "\n",
       "    .dataframe thead th {\n",
       "        text-align: right;\n",
       "    }\n",
       "</style>\n",
       "<table border=\"1\" class=\"dataframe\">\n",
       "  <thead>\n",
       "    <tr style=\"text-align: right;\">\n",
       "      <th></th>\n",
       "      <th>UserID</th>\n",
       "      <th>MovieID</th>\n",
       "      <th>Rating</th>\n",
       "    </tr>\n",
       "  </thead>\n",
       "  <tbody>\n",
       "    <tr>\n",
       "      <th>4161861</th>\n",
       "      <td>77954315</td>\n",
       "      <td>113870</td>\n",
       "      <td>7</td>\n",
       "    </tr>\n",
       "    <tr>\n",
       "      <th>4161862</th>\n",
       "      <td>4580541</td>\n",
       "      <td>91877</td>\n",
       "      <td>6</td>\n",
       "    </tr>\n",
       "    <tr>\n",
       "      <th>4161863</th>\n",
       "      <td>25506300</td>\n",
       "      <td>1877832</td>\n",
       "      <td>9</td>\n",
       "    </tr>\n",
       "    <tr>\n",
       "      <th>4161864</th>\n",
       "      <td>27367887</td>\n",
       "      <td>435761</td>\n",
       "      <td>8</td>\n",
       "    </tr>\n",
       "    <tr>\n",
       "      <th>4161865</th>\n",
       "      <td>364025</td>\n",
       "      <td>185014</td>\n",
       "      <td>9</td>\n",
       "    </tr>\n",
       "  </tbody>\n",
       "</table>\n",
       "</div>"
      ],
      "text/plain": [
       "           UserID  MovieID  Rating\n",
       "4161861  77954315   113870       7\n",
       "4161862   4580541    91877       6\n",
       "4161863  25506300  1877832       9\n",
       "4161864  27367887   435761       8\n",
       "4161865    364025   185014       9"
      ]
     },
     "execution_count": 5,
     "metadata": {},
     "output_type": "execute_result"
    }
   ],
   "source": [
    "train_data.tail()"
   ]
  },
  {
   "cell_type": "code",
   "execution_count": 6,
   "metadata": {},
   "outputs": [
    {
     "data": {
      "text/plain": [
       "(9130, 9814)"
      ]
     },
     "execution_count": 6,
     "metadata": {},
     "output_type": "execute_result"
    }
   ],
   "source": [
    "num_users = train_data.UserID.unique().shape[0]\n",
    "num_movies = train_data.MovieID.unique().shape[0]\n",
    "num_users, num_movies"
   ]
  },
  {
   "cell_type": "code",
   "execution_count": 7,
   "metadata": {},
   "outputs": [
    {
     "data": {
      "text/html": [
       "<div>\n",
       "<style scoped>\n",
       "    .dataframe tbody tr th:only-of-type {\n",
       "        vertical-align: middle;\n",
       "    }\n",
       "\n",
       "    .dataframe tbody tr th {\n",
       "        vertical-align: top;\n",
       "    }\n",
       "\n",
       "    .dataframe thead th {\n",
       "        text-align: right;\n",
       "    }\n",
       "</style>\n",
       "<table border=\"1\" class=\"dataframe\">\n",
       "  <thead>\n",
       "    <tr style=\"text-align: right;\">\n",
       "      <th></th>\n",
       "      <th>UserID</th>\n",
       "      <th>MovieID</th>\n",
       "      <th>Rating</th>\n",
       "    </tr>\n",
       "  </thead>\n",
       "  <tbody>\n",
       "    <tr>\n",
       "      <th>0</th>\n",
       "      <td>45430544</td>\n",
       "      <td>83798</td>\n",
       "      <td>7</td>\n",
       "    </tr>\n",
       "    <tr>\n",
       "      <th>1</th>\n",
       "      <td>34807113</td>\n",
       "      <td>1250777</td>\n",
       "      <td>9</td>\n",
       "    </tr>\n",
       "    <tr>\n",
       "      <th>2</th>\n",
       "      <td>67646271</td>\n",
       "      <td>80120</td>\n",
       "      <td>4</td>\n",
       "    </tr>\n",
       "    <tr>\n",
       "      <th>3</th>\n",
       "      <td>51265424</td>\n",
       "      <td>1490017</td>\n",
       "      <td>8</td>\n",
       "    </tr>\n",
       "    <tr>\n",
       "      <th>4</th>\n",
       "      <td>51235794</td>\n",
       "      <td>11813216</td>\n",
       "      <td>8</td>\n",
       "    </tr>\n",
       "  </tbody>\n",
       "</table>\n",
       "</div>"
      ],
      "text/plain": [
       "     UserID   MovieID  Rating\n",
       "0  45430544     83798       7\n",
       "1  34807113   1250777       9\n",
       "2  67646271     80120       4\n",
       "3  51265424   1490017       8\n",
       "4  51235794  11813216       8"
      ]
     },
     "execution_count": 7,
     "metadata": {},
     "output_type": "execute_result"
    }
   ],
   "source": [
    "test_data.head()"
   ]
  },
  {
   "cell_type": "code",
   "execution_count": 8,
   "metadata": {},
   "outputs": [
    {
     "data": {
      "text/html": [
       "<div>\n",
       "<style scoped>\n",
       "    .dataframe tbody tr th:only-of-type {\n",
       "        vertical-align: middle;\n",
       "    }\n",
       "\n",
       "    .dataframe tbody tr th {\n",
       "        vertical-align: top;\n",
       "    }\n",
       "\n",
       "    .dataframe thead th {\n",
       "        text-align: right;\n",
       "    }\n",
       "</style>\n",
       "<table border=\"1\" class=\"dataframe\">\n",
       "  <thead>\n",
       "    <tr style=\"text-align: right;\">\n",
       "      <th></th>\n",
       "      <th>UserID</th>\n",
       "      <th>MovieID</th>\n",
       "      <th>Rating</th>\n",
       "    </tr>\n",
       "  </thead>\n",
       "  <tbody>\n",
       "    <tr>\n",
       "      <th>462425</th>\n",
       "      <td>30899304</td>\n",
       "      <td>1136608</td>\n",
       "      <td>9</td>\n",
       "    </tr>\n",
       "    <tr>\n",
       "      <th>462426</th>\n",
       "      <td>22328566</td>\n",
       "      <td>108783</td>\n",
       "      <td>10</td>\n",
       "    </tr>\n",
       "    <tr>\n",
       "      <th>462427</th>\n",
       "      <td>26159893</td>\n",
       "      <td>333780</td>\n",
       "      <td>7</td>\n",
       "    </tr>\n",
       "    <tr>\n",
       "      <th>462428</th>\n",
       "      <td>35725947</td>\n",
       "      <td>3569230</td>\n",
       "      <td>6</td>\n",
       "    </tr>\n",
       "    <tr>\n",
       "      <th>462429</th>\n",
       "      <td>23018536</td>\n",
       "      <td>1232829</td>\n",
       "      <td>8</td>\n",
       "    </tr>\n",
       "  </tbody>\n",
       "</table>\n",
       "</div>"
      ],
      "text/plain": [
       "          UserID  MovieID  Rating\n",
       "462425  30899304  1136608       9\n",
       "462426  22328566   108783      10\n",
       "462427  26159893   333780       7\n",
       "462428  35725947  3569230       6\n",
       "462429  23018536  1232829       8"
      ]
     },
     "execution_count": 8,
     "metadata": {},
     "output_type": "execute_result"
    }
   ],
   "source": [
    "test_data.tail()"
   ]
  },
  {
   "cell_type": "code",
   "execution_count": 9,
   "metadata": {},
   "outputs": [
    {
     "data": {
      "text/plain": [
       "(9130, 9814)"
      ]
     },
     "execution_count": 9,
     "metadata": {},
     "output_type": "execute_result"
    }
   ],
   "source": [
    "num_users = test_data.UserID.unique().shape[0]\n",
    "num_movies = test_data.MovieID.unique().shape[0]\n",
    "num_users, num_movies"
   ]
  },
  {
   "cell_type": "code",
   "execution_count": 10,
   "metadata": {},
   "outputs": [],
   "source": [
    "movies = train_data.MovieID.drop_duplicates()\n",
    "movies = pd.DataFrame(movies, columns=['MovieID'])\n",
    "movies = movies.sort_values('MovieID', ascending=True)\n",
    "movies = movies[['MovieID']]\n",
    "movies = movies.reset_index()"
   ]
  },
  {
   "cell_type": "code",
   "execution_count": 11,
   "metadata": {},
   "outputs": [],
   "source": [
    "users = train_data.UserID.drop_duplicates()\n",
    "users = pd.DataFrame(users, columns=['UserID'])\n",
    "users = users.sort_values('UserID', ascending=True)\n",
    "users = users[['UserID']]\n",
    "users = users.reset_index()"
   ]
  },
  {
   "cell_type": "markdown",
   "metadata": {},
   "source": [
    "### **Build Utility Matrix**"
   ]
  },
  {
   "cell_type": "code",
   "execution_count": 12,
   "metadata": {},
   "outputs": [
    {
     "data": {
      "text/plain": [
       "(9130, 9814)"
      ]
     },
     "execution_count": 12,
     "metadata": {},
     "output_type": "execute_result"
    }
   ],
   "source": [
    "utility_matrix = build_utility_matrix(train_data)\n",
    "utility_matrix.shape"
   ]
  },
  {
   "cell_type": "markdown",
   "metadata": {},
   "source": [
    "## **User-User CF**"
   ]
  },
  {
   "cell_type": "code",
   "execution_count": 13,
   "metadata": {},
   "outputs": [],
   "source": [
    "UUCF_cosine = NeighborhoodCF(utility_matrix=utility_matrix, k_neighbors=50)"
   ]
  },
  {
   "cell_type": "code",
   "execution_count": 14,
   "metadata": {},
   "outputs": [
    {
     "data": {
      "text/plain": [
       "9130"
      ]
     },
     "execution_count": 14,
     "metadata": {},
     "output_type": "execute_result"
    }
   ],
   "source": [
    "cosine_uu_predicted_ratings, length = UUCF_cosine.predict_ratings()\n",
    "length"
   ]
  },
  {
   "cell_type": "code",
   "execution_count": 15,
   "metadata": {},
   "outputs": [
    {
     "data": {
      "text/plain": [
       "{'RMSE': 1.670311975492313,\n",
       " 'Precision': 0.9069937963895703,\n",
       " 'Recall': 0.6937897725803243,\n",
       " 'F1': 0.7861937515185968}"
      ]
     },
     "execution_count": 15,
     "metadata": {},
     "output_type": "execute_result"
    }
   ],
   "source": [
    "eval(\n",
    "    cosine_uu_predicted_ratings,\n",
    "    test_data = test_data,\n",
    "    users=users,\n",
    "    movies=movies\n",
    ")"
   ]
  },
  {
   "cell_type": "code",
   "execution_count": 16,
   "metadata": {},
   "outputs": [
    {
     "name": "stdout",
     "output_type": "stream",
     "text": [
      "Recommend movies for user 685 and predicted ratings:\n"
     ]
    },
    {
     "data": {
      "text/plain": [
       "[(50083, 9),\n",
       " (54215, 9),\n",
       " (60196, 9),\n",
       " (62622, 9),\n",
       " (73486, 9),\n",
       " (75314, 8),\n",
       " (76759, 8),\n",
       " (78748, 8),\n",
       " (78788, 8),\n",
       " (80684, 8),\n",
       " (81398, 8),\n",
       " (99685, 8),\n",
       " (111161, 8),\n",
       " (114709, 8),\n",
       " (120737, 8),\n",
       " (133093, 8),\n",
       " (167261, 8),\n",
       " (338013, 8),\n",
       " (425112, 8),\n",
       " (469494, 8),\n",
       " (1856101, 8),\n",
       " (2024544, 8),\n",
       " (2267998, 8),\n",
       " (2278388, 8),\n",
       " (2562232, 8)]"
      ]
     },
     "execution_count": 16,
     "metadata": {},
     "output_type": "execute_result"
    }
   ],
   "source": [
    "recommendation = UUCF_cosine.recommend_using_predicted_ratings(id=685, predicted_ratings=cosine_uu_predicted_ratings, movies=movies, users=users, top_n=25)\n",
    "print('Recommend movies for user 685 and predicted ratings:')\n",
    "recommendation"
   ]
  },
  {
   "cell_type": "code",
   "execution_count": 17,
   "metadata": {},
   "outputs": [
    {
     "name": "stdout",
     "output_type": "stream",
     "text": [
      "Recommend movies for user 685 and predicted ratings:\n"
     ]
    },
    {
     "data": {
      "text/plain": [
       "[(50083, 9),\n",
       " (54215, 9),\n",
       " (60196, 9),\n",
       " (62622, 9),\n",
       " (73486, 9),\n",
       " (75314, 8),\n",
       " (76759, 8),\n",
       " (78748, 8),\n",
       " (78788, 8),\n",
       " (80684, 8),\n",
       " (81398, 8),\n",
       " (99685, 8),\n",
       " (111161, 8),\n",
       " (114709, 8),\n",
       " (120737, 8),\n",
       " (133093, 8),\n",
       " (167261, 8),\n",
       " (338013, 8),\n",
       " (425112, 8),\n",
       " (469494, 8),\n",
       " (1856101, 8),\n",
       " (2024544, 8),\n",
       " (2267998, 8),\n",
       " (2278388, 8),\n",
       " (2562232, 8)]"
      ]
     },
     "execution_count": 17,
     "metadata": {},
     "output_type": "execute_result"
    }
   ],
   "source": [
    "recommendation = UUCF_cosine.recommend(id=685, movies=movies, users=users, top_n=25)\n",
    "print('Recommend movies for user 685 and predicted ratings:')\n",
    "recommendation"
   ]
  },
  {
   "cell_type": "code",
   "execution_count": 18,
   "metadata": {},
   "outputs": [],
   "source": [
    "# UUCF_cosine.print_recommendation(predicted_ratings=cosine_uu_predicted_ratings, movies=movies, users=users)"
   ]
  },
  {
   "cell_type": "markdown",
   "metadata": {},
   "source": [
    "## **Item-Item CF**"
   ]
  },
  {
   "cell_type": "code",
   "execution_count": 19,
   "metadata": {},
   "outputs": [],
   "source": [
    "IICF_cosine = NeighborhoodCF(utility_matrix=utility_matrix, k_neighbors=30, uu_cf=False)"
   ]
  },
  {
   "cell_type": "code",
   "execution_count": 20,
   "metadata": {},
   "outputs": [
    {
     "data": {
      "text/plain": [
       "9814"
      ]
     },
     "execution_count": 20,
     "metadata": {},
     "output_type": "execute_result"
    }
   ],
   "source": [
    "cosine_ii_predicted_ratings, length = IICF_cosine.predict_ratings()\n",
    "length"
   ]
  },
  {
   "cell_type": "code",
   "execution_count": 21,
   "metadata": {},
   "outputs": [
    {
     "data": {
      "text/plain": [
       "{'RMSE': 1.6331672788697844,\n",
       " 'Precision': 0.9099554346344821,\n",
       " 'Recall': 0.6994871012219047,\n",
       " 'F1': 0.7909596957121661}"
      ]
     },
     "execution_count": 21,
     "metadata": {},
     "output_type": "execute_result"
    }
   ],
   "source": [
    "eval(\n",
    "    cosine_ii_predicted_ratings,\n",
    "    test_data = test_data,\n",
    "    users=users,\n",
    "    movies=movies\n",
    ")"
   ]
  },
  {
   "cell_type": "code",
   "execution_count": 22,
   "metadata": {},
   "outputs": [
    {
     "name": "stdout",
     "output_type": "stream",
     "text": [
      "Recommend users for movie 105695 and predicted ratings:\n"
     ]
    },
    {
     "data": {
      "text/plain": [
       "[(278097, 10),\n",
       " (1799755, 10),\n",
       " (7288474, 10),\n",
       " (17732486, 10),\n",
       " (22862821, 10),\n",
       " (28257047, 10),\n",
       " (34767049, 10),\n",
       " (35589838, 10),\n",
       " (37989341, 10),\n",
       " (38428110, 10),\n",
       " (47584221, 10),\n",
       " (52234690, 10),\n",
       " (61246379, 10),\n",
       " (62100914, 10),\n",
       " (78181837, 10),\n",
       " (79319221, 10),\n",
       " (82574739, 10),\n",
       " (85470785, 10),\n",
       " (88179967, 10),\n",
       " (119155254, 10),\n",
       " (123990191, 10),\n",
       " (134418584, 10),\n",
       " (160672695, 10),\n",
       " (168830426, 10),\n",
       " (170780184, 10)]"
      ]
     },
     "execution_count": 22,
     "metadata": {},
     "output_type": "execute_result"
    }
   ],
   "source": [
    "recommendation = IICF_cosine.recommend_using_predicted_ratings(id=105695, predicted_ratings=cosine_ii_predicted_ratings, movies=movies, users=users, top_n=25)\n",
    "print('Recommend users for movie 105695 and predicted ratings:')\n",
    "recommendation"
   ]
  },
  {
   "cell_type": "code",
   "execution_count": 23,
   "metadata": {},
   "outputs": [
    {
     "name": "stdout",
     "output_type": "stream",
     "text": [
      "Recommend users for movie 105695 and predicted ratings:\n"
     ]
    },
    {
     "data": {
      "text/plain": [
       "[(278097, 10),\n",
       " (1799755, 10),\n",
       " (7288474, 10),\n",
       " (17732486, 10),\n",
       " (22862821, 10),\n",
       " (28257047, 10),\n",
       " (34767049, 10),\n",
       " (35589838, 10),\n",
       " (37989341, 10),\n",
       " (38428110, 10),\n",
       " (47584221, 10),\n",
       " (52234690, 10),\n",
       " (61246379, 10),\n",
       " (62100914, 10),\n",
       " (78181837, 10),\n",
       " (79319221, 10),\n",
       " (82574739, 10),\n",
       " (85470785, 10),\n",
       " (88179967, 10),\n",
       " (119155254, 10),\n",
       " (123990191, 10),\n",
       " (134418584, 10),\n",
       " (160672695, 10),\n",
       " (168830426, 10),\n",
       " (170780184, 10)]"
      ]
     },
     "execution_count": 23,
     "metadata": {},
     "output_type": "execute_result"
    }
   ],
   "source": [
    "recommendation = IICF_cosine.recommend(id=105695, movies=movies, users=users, top_n=25)\n",
    "print('Recommend users for movie 105695 and predicted ratings:')\n",
    "recommendation"
   ]
  },
  {
   "cell_type": "code",
   "execution_count": 24,
   "metadata": {},
   "outputs": [],
   "source": [
    "# IICF_cosine.print_recommendation(predicted_ratings=cosine_ii_predicted_ratings, movies=movies, users=users)"
   ]
  }
 ],
 "metadata": {
  "kernelspec": {
   "display_name": "Python 3",
   "language": "python",
   "name": "python3"
  },
  "language_info": {
   "codemirror_mode": {
    "name": "ipython",
    "version": 3
   },
   "file_extension": ".py",
   "mimetype": "text/x-python",
   "name": "python",
   "nbconvert_exporter": "python",
   "pygments_lexer": "ipython3",
   "version": "3.11.9"
  }
 },
 "nbformat": 4,
 "nbformat_minor": 2
}
