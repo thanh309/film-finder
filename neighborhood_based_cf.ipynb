{
 "cells": [
  {
   "cell_type": "markdown",
   "metadata": {},
   "source": [
    "## **Movies Recommendation: Neighborhood-Based Collaborative filtering**\n",
    "\n",
    "### **Import necessary library**"
   ]
  },
  {
   "cell_type": "code",
   "execution_count": 1,
   "metadata": {},
   "outputs": [],
   "source": [
    "import pandas as pd \n",
    "import numpy as np \n",
    "from utilities import *\n",
    "from collaborative_filtering import NeighborhoodCF, build_utility_matrix"
   ]
  },
  {
   "cell_type": "code",
   "execution_count": 2,
   "metadata": {},
   "outputs": [],
   "source": [
    "import pandas as pd\n",
    "\n",
    "part_ids = range(2, 11)\n",
    "\n",
    "# Read the first file\n",
    "data = pd.read_csv('resources/data/split_ratings/ratings_part_1.txt', header=None)\n",
    "\n",
    "# Loop through other files\n",
    "for id in part_ids:\n",
    "    file_path = f'resources/data/split_ratings/ratings_part_{id}.txt'\n",
    "    try:\n",
    "        tmp = pd.read_csv(file_path, on_bad_lines=\"skip\", header=None)  # Skip problematic rows\n",
    "        data = pd.concat([data, tmp], ignore_index=True)\n",
    "    except Exception as e:\n",
    "        print(f\"Error reading file {file_path}: {e}\")\n",
    "\n",
    "data.columns =['UserID', 'MovieID', 'Rating']\n",
    "\n",
    "# data = pd.read_csv('resources/data/split_ratings/ratings_part_1.txt', header=None)\n",
    "# data.columns =['UserID', 'MovieID', 'Rating']"
   ]
  },
  {
   "cell_type": "code",
   "execution_count": 3,
   "metadata": {},
   "outputs": [],
   "source": [
    "data = data.sort_values(by=['UserID', 'MovieID'])\n",
    "data = data.drop_duplicates()\n",
    "data = data.reset_index()\n",
    "data = data.drop(columns=['index'])"
   ]
  },
  {
   "cell_type": "code",
   "execution_count": 4,
   "metadata": {},
   "outputs": [
    {
     "data": {
      "text/html": [
       "<div>\n",
       "<style scoped>\n",
       "    .dataframe tbody tr th:only-of-type {\n",
       "        vertical-align: middle;\n",
       "    }\n",
       "\n",
       "    .dataframe tbody tr th {\n",
       "        vertical-align: top;\n",
       "    }\n",
       "\n",
       "    .dataframe thead th {\n",
       "        text-align: right;\n",
       "    }\n",
       "</style>\n",
       "<table border=\"1\" class=\"dataframe\">\n",
       "  <thead>\n",
       "    <tr style=\"text-align: right;\">\n",
       "      <th></th>\n",
       "      <th>UserID</th>\n",
       "      <th>MovieID</th>\n",
       "      <th>Rating</th>\n",
       "    </tr>\n",
       "  </thead>\n",
       "  <tbody>\n",
       "    <tr>\n",
       "      <th>0</th>\n",
       "      <td>66</td>\n",
       "      <td>68646</td>\n",
       "      <td>10</td>\n",
       "    </tr>\n",
       "    <tr>\n",
       "      <th>1</th>\n",
       "      <td>66</td>\n",
       "      <td>71562</td>\n",
       "      <td>10</td>\n",
       "    </tr>\n",
       "    <tr>\n",
       "      <th>2</th>\n",
       "      <td>66</td>\n",
       "      <td>76759</td>\n",
       "      <td>10</td>\n",
       "    </tr>\n",
       "    <tr>\n",
       "      <th>3</th>\n",
       "      <td>66</td>\n",
       "      <td>80684</td>\n",
       "      <td>10</td>\n",
       "    </tr>\n",
       "    <tr>\n",
       "      <th>4</th>\n",
       "      <td>66</td>\n",
       "      <td>88763</td>\n",
       "      <td>8</td>\n",
       "    </tr>\n",
       "  </tbody>\n",
       "</table>\n",
       "</div>"
      ],
      "text/plain": [
       "   UserID  MovieID  Rating\n",
       "0      66    68646      10\n",
       "1      66    71562      10\n",
       "2      66    76759      10\n",
       "3      66    80684      10\n",
       "4      66    88763       8"
      ]
     },
     "execution_count": 4,
     "metadata": {},
     "output_type": "execute_result"
    }
   ],
   "source": [
    "data.head()"
   ]
  },
  {
   "cell_type": "code",
   "execution_count": 5,
   "metadata": {},
   "outputs": [
    {
     "data": {
      "text/html": [
       "<div>\n",
       "<style scoped>\n",
       "    .dataframe tbody tr th:only-of-type {\n",
       "        vertical-align: middle;\n",
       "    }\n",
       "\n",
       "    .dataframe tbody tr th {\n",
       "        vertical-align: top;\n",
       "    }\n",
       "\n",
       "    .dataframe thead th {\n",
       "        text-align: right;\n",
       "    }\n",
       "</style>\n",
       "<table border=\"1\" class=\"dataframe\">\n",
       "  <thead>\n",
       "    <tr style=\"text-align: right;\">\n",
       "      <th></th>\n",
       "      <th>UserID</th>\n",
       "      <th>MovieID</th>\n",
       "      <th>Rating</th>\n",
       "    </tr>\n",
       "  </thead>\n",
       "  <tbody>\n",
       "    <tr>\n",
       "      <th>4681300</th>\n",
       "      <td>190007800</td>\n",
       "      <td>8115900</td>\n",
       "      <td>7</td>\n",
       "    </tr>\n",
       "    <tr>\n",
       "      <th>4681301</th>\n",
       "      <td>190007800</td>\n",
       "      <td>10872600</td>\n",
       "      <td>10</td>\n",
       "    </tr>\n",
       "    <tr>\n",
       "      <th>4681302</th>\n",
       "      <td>190007800</td>\n",
       "      <td>12412888</td>\n",
       "      <td>9</td>\n",
       "    </tr>\n",
       "    <tr>\n",
       "      <th>4681303</th>\n",
       "      <td>190007800</td>\n",
       "      <td>19623240</td>\n",
       "      <td>1</td>\n",
       "    </tr>\n",
       "    <tr>\n",
       "      <th>4681304</th>\n",
       "      <td>190007800</td>\n",
       "      <td>21235248</td>\n",
       "      <td>8</td>\n",
       "    </tr>\n",
       "  </tbody>\n",
       "</table>\n",
       "</div>"
      ],
      "text/plain": [
       "            UserID   MovieID  Rating\n",
       "4681300  190007800   8115900       7\n",
       "4681301  190007800  10872600      10\n",
       "4681302  190007800  12412888       9\n",
       "4681303  190007800  19623240       1\n",
       "4681304  190007800  21235248       8"
      ]
     },
     "execution_count": 5,
     "metadata": {},
     "output_type": "execute_result"
    }
   ],
   "source": [
    "data.tail()"
   ]
  },
  {
   "cell_type": "code",
   "execution_count": 6,
   "metadata": {},
   "outputs": [
    {
     "data": {
      "text/plain": [
       "(4681305, 3)"
      ]
     },
     "execution_count": 6,
     "metadata": {},
     "output_type": "execute_result"
    }
   ],
   "source": [
    "data.shape"
   ]
  },
  {
   "cell_type": "code",
   "execution_count": 7,
   "metadata": {},
   "outputs": [],
   "source": [
    "# Count the number of interactions for each movie\n",
    "movie_counts =data['MovieID'].value_counts()\n",
    "\n",
    "# Filter out movies appear < 10 times \n",
    "movies_to_keep = movie_counts[movie_counts >= 10].index\n",
    "data = data[data['MovieID'].isin(movies_to_keep)]\n",
    "\n",
    "# Count the number of interactions for each user\n",
    "user_counts = data['UserID'].value_counts()\n",
    "\n",
    "# Filter out users appear < 10 times \n",
    "users_to_keep = user_counts[user_counts >= 10].index \n",
    "data = data[data['UserID'].isin(users_to_keep)]"
   ]
  },
  {
   "cell_type": "code",
   "execution_count": 8,
   "metadata": {},
   "outputs": [
    {
     "data": {
      "text/plain": [
       "(11386, 9816)"
      ]
     },
     "execution_count": 8,
     "metadata": {},
     "output_type": "execute_result"
    }
   ],
   "source": [
    "num_users = data.UserID.unique().shape[0]\n",
    "num_movies = data.MovieID.unique().shape[0]\n",
    "num_users, num_movies"
   ]
  },
  {
   "cell_type": "markdown",
   "metadata": {},
   "source": [
    "### **Split data**"
   ]
  },
  {
   "cell_type": "code",
   "execution_count": 9,
   "metadata": {},
   "outputs": [],
   "source": [
    "def split_data(df, test_size=0.2, random_state=42):\n",
    "    np.random.seed(random_state)\n",
    "    \n",
    "    # Preprocessing Step: Remove movies with frequency = 1\n",
    "    movie_counts = df['MovieID'].value_counts()\n",
    "    movies_to_keep = movie_counts[movie_counts > 1].index\n",
    "    df = df[df['MovieID'].isin(movies_to_keep)].reset_index(drop=True)\n",
    "    \n",
    "    # Initialize sets to keep track of test indices\n",
    "    test_indices = set()\n",
    "    \n",
    "    # Ensure each user has at least one entry in test set\n",
    "    for user_id, group in df.groupby('UserID'):\n",
    "        if len(group) >= 1:\n",
    "            test_count = max(1, int(len(group) * test_size))\n",
    "            test_sample = np.random.choice(group.index, size=test_count, replace=False)\n",
    "            test_indices.update(test_sample)\n",
    "    \n",
    "    # Ensure each movie has at least one entry in test set\n",
    "    for movie_id, group in df.groupby('MovieID'):\n",
    "        # Find indices not already in test set\n",
    "        remaining_indices = list(set(group.index) - test_indices)\n",
    "        if remaining_indices:\n",
    "            test_sample = np.random.choice(remaining_indices, size=1, replace=False)\n",
    "            test_indices.update(test_sample)\n",
    "    \n",
    "    # Create test and train datasets\n",
    "    test_df = df.loc[list(test_indices)].reset_index(drop=True)\n",
    "    train_df = df.drop(list(test_indices)).reset_index(drop=True)\n",
    "    \n",
    "    # Optional: Verify that both train and test have the same users and movies\n",
    "    common_users = set(train_df['UserID']).intersection(set(test_df['UserID']))\n",
    "    common_movies = set(train_df['MovieID']).intersection(set(test_df['MovieID']))\n",
    "    \n",
    "    train_df = train_df[train_df['UserID'].isin(common_users) & train_df['MovieID'].isin(common_movies)].reset_index(drop=True)\n",
    "    test_df = test_df[test_df['UserID'].isin(common_users) & test_df['MovieID'].isin(common_movies)].reset_index(drop=True)\n",
    "    \n",
    "    return train_df, test_df\n",
    "\n",
    "# Example usage:\n",
    "# Assuming your dataframe is named `df` and has columns 'UserID' and 'MovieID'\n",
    "# train, test = split_data(df, test_size=0.2, random_state=42)\n"
   ]
  },
  {
   "cell_type": "code",
   "execution_count": 10,
   "metadata": {},
   "outputs": [],
   "source": [
    "train_data, test_data = split_data(data)"
   ]
  },
  {
   "cell_type": "code",
   "execution_count": 11,
   "metadata": {},
   "outputs": [
    {
     "data": {
      "text/html": [
       "<div>\n",
       "<style scoped>\n",
       "    .dataframe tbody tr th:only-of-type {\n",
       "        vertical-align: middle;\n",
       "    }\n",
       "\n",
       "    .dataframe tbody tr th {\n",
       "        vertical-align: top;\n",
       "    }\n",
       "\n",
       "    .dataframe thead th {\n",
       "        text-align: right;\n",
       "    }\n",
       "</style>\n",
       "<table border=\"1\" class=\"dataframe\">\n",
       "  <thead>\n",
       "    <tr style=\"text-align: right;\">\n",
       "      <th></th>\n",
       "      <th>UserID</th>\n",
       "      <th>MovieID</th>\n",
       "      <th>Rating</th>\n",
       "    </tr>\n",
       "  </thead>\n",
       "  <tbody>\n",
       "    <tr>\n",
       "      <th>0</th>\n",
       "      <td>66</td>\n",
       "      <td>71562</td>\n",
       "      <td>10</td>\n",
       "    </tr>\n",
       "    <tr>\n",
       "      <th>1</th>\n",
       "      <td>66</td>\n",
       "      <td>76759</td>\n",
       "      <td>10</td>\n",
       "    </tr>\n",
       "    <tr>\n",
       "      <th>2</th>\n",
       "      <td>66</td>\n",
       "      <td>80684</td>\n",
       "      <td>10</td>\n",
       "    </tr>\n",
       "    <tr>\n",
       "      <th>3</th>\n",
       "      <td>66</td>\n",
       "      <td>88763</td>\n",
       "      <td>8</td>\n",
       "    </tr>\n",
       "    <tr>\n",
       "      <th>4</th>\n",
       "      <td>66</td>\n",
       "      <td>109830</td>\n",
       "      <td>10</td>\n",
       "    </tr>\n",
       "  </tbody>\n",
       "</table>\n",
       "</div>"
      ],
      "text/plain": [
       "   UserID  MovieID  Rating\n",
       "0      66    71562      10\n",
       "1      66    76759      10\n",
       "2      66    80684      10\n",
       "3      66    88763       8\n",
       "4      66   109830      10"
      ]
     },
     "execution_count": 11,
     "metadata": {},
     "output_type": "execute_result"
    }
   ],
   "source": [
    "train_data.head()"
   ]
  },
  {
   "cell_type": "code",
   "execution_count": 12,
   "metadata": {},
   "outputs": [
    {
     "data": {
      "text/html": [
       "<div>\n",
       "<style scoped>\n",
       "    .dataframe tbody tr th:only-of-type {\n",
       "        vertical-align: middle;\n",
       "    }\n",
       "\n",
       "    .dataframe tbody tr th {\n",
       "        vertical-align: top;\n",
       "    }\n",
       "\n",
       "    .dataframe thead th {\n",
       "        text-align: right;\n",
       "    }\n",
       "</style>\n",
       "<table border=\"1\" class=\"dataframe\">\n",
       "  <thead>\n",
       "    <tr style=\"text-align: right;\">\n",
       "      <th></th>\n",
       "      <th>UserID</th>\n",
       "      <th>MovieID</th>\n",
       "      <th>Rating</th>\n",
       "    </tr>\n",
       "  </thead>\n",
       "  <tbody>\n",
       "    <tr>\n",
       "      <th>3738536</th>\n",
       "      <td>190007800</td>\n",
       "      <td>8115900</td>\n",
       "      <td>7</td>\n",
       "    </tr>\n",
       "    <tr>\n",
       "      <th>3738537</th>\n",
       "      <td>190007800</td>\n",
       "      <td>10872600</td>\n",
       "      <td>10</td>\n",
       "    </tr>\n",
       "    <tr>\n",
       "      <th>3738538</th>\n",
       "      <td>190007800</td>\n",
       "      <td>12412888</td>\n",
       "      <td>9</td>\n",
       "    </tr>\n",
       "    <tr>\n",
       "      <th>3738539</th>\n",
       "      <td>190007800</td>\n",
       "      <td>19623240</td>\n",
       "      <td>1</td>\n",
       "    </tr>\n",
       "    <tr>\n",
       "      <th>3738540</th>\n",
       "      <td>190007800</td>\n",
       "      <td>21235248</td>\n",
       "      <td>8</td>\n",
       "    </tr>\n",
       "  </tbody>\n",
       "</table>\n",
       "</div>"
      ],
      "text/plain": [
       "            UserID   MovieID  Rating\n",
       "3738536  190007800   8115900       7\n",
       "3738537  190007800  10872600      10\n",
       "3738538  190007800  12412888       9\n",
       "3738539  190007800  19623240       1\n",
       "3738540  190007800  21235248       8"
      ]
     },
     "execution_count": 12,
     "metadata": {},
     "output_type": "execute_result"
    }
   ],
   "source": [
    "train_data.tail()"
   ]
  },
  {
   "cell_type": "code",
   "execution_count": 13,
   "metadata": {},
   "outputs": [
    {
     "data": {
      "text/plain": [
       "(11386, 9816)"
      ]
     },
     "execution_count": 13,
     "metadata": {},
     "output_type": "execute_result"
    }
   ],
   "source": [
    "num_users = train_data.UserID.unique().shape[0]\n",
    "num_movies = train_data.MovieID.unique().shape[0]\n",
    "num_users, num_movies"
   ]
  },
  {
   "cell_type": "code",
   "execution_count": 14,
   "metadata": {},
   "outputs": [
    {
     "data": {
      "text/html": [
       "<div>\n",
       "<style scoped>\n",
       "    .dataframe tbody tr th:only-of-type {\n",
       "        vertical-align: middle;\n",
       "    }\n",
       "\n",
       "    .dataframe tbody tr th {\n",
       "        vertical-align: top;\n",
       "    }\n",
       "\n",
       "    .dataframe thead th {\n",
       "        text-align: right;\n",
       "    }\n",
       "</style>\n",
       "<table border=\"1\" class=\"dataframe\">\n",
       "  <thead>\n",
       "    <tr style=\"text-align: right;\">\n",
       "      <th></th>\n",
       "      <th>UserID</th>\n",
       "      <th>MovieID</th>\n",
       "      <th>Rating</th>\n",
       "    </tr>\n",
       "  </thead>\n",
       "  <tbody>\n",
       "    <tr>\n",
       "      <th>0</th>\n",
       "      <td>66</td>\n",
       "      <td>68646</td>\n",
       "      <td>10</td>\n",
       "    </tr>\n",
       "    <tr>\n",
       "      <th>1</th>\n",
       "      <td>23655320</td>\n",
       "      <td>6214928</td>\n",
       "      <td>7</td>\n",
       "    </tr>\n",
       "    <tr>\n",
       "      <th>2</th>\n",
       "      <td>87777106</td>\n",
       "      <td>7349950</td>\n",
       "      <td>6</td>\n",
       "    </tr>\n",
       "    <tr>\n",
       "      <th>3</th>\n",
       "      <td>87777106</td>\n",
       "      <td>7752126</td>\n",
       "      <td>8</td>\n",
       "    </tr>\n",
       "    <tr>\n",
       "      <th>4</th>\n",
       "      <td>23655320</td>\n",
       "      <td>6499752</td>\n",
       "      <td>7</td>\n",
       "    </tr>\n",
       "  </tbody>\n",
       "</table>\n",
       "</div>"
      ],
      "text/plain": [
       "     UserID  MovieID  Rating\n",
       "0        66    68646      10\n",
       "1  23655320  6214928       7\n",
       "2  87777106  7349950       6\n",
       "3  87777106  7752126       8\n",
       "4  23655320  6499752       7"
      ]
     },
     "execution_count": 14,
     "metadata": {},
     "output_type": "execute_result"
    }
   ],
   "source": [
    "test_data.head()"
   ]
  },
  {
   "cell_type": "code",
   "execution_count": 15,
   "metadata": {},
   "outputs": [
    {
     "data": {
      "text/html": [
       "<div>\n",
       "<style scoped>\n",
       "    .dataframe tbody tr th:only-of-type {\n",
       "        vertical-align: middle;\n",
       "    }\n",
       "\n",
       "    .dataframe tbody tr th {\n",
       "        vertical-align: top;\n",
       "    }\n",
       "\n",
       "    .dataframe thead th {\n",
       "        text-align: right;\n",
       "    }\n",
       "</style>\n",
       "<table border=\"1\" class=\"dataframe\">\n",
       "  <thead>\n",
       "    <tr style=\"text-align: right;\">\n",
       "      <th></th>\n",
       "      <th>UserID</th>\n",
       "      <th>MovieID</th>\n",
       "      <th>Rating</th>\n",
       "    </tr>\n",
       "  </thead>\n",
       "  <tbody>\n",
       "    <tr>\n",
       "      <th>942220</th>\n",
       "      <td>23655320</td>\n",
       "      <td>5638642</td>\n",
       "      <td>6</td>\n",
       "    </tr>\n",
       "    <tr>\n",
       "      <th>942221</th>\n",
       "      <td>87777106</td>\n",
       "      <td>4530422</td>\n",
       "      <td>6</td>\n",
       "    </tr>\n",
       "    <tr>\n",
       "      <th>942222</th>\n",
       "      <td>87777106</td>\n",
       "      <td>4972582</td>\n",
       "      <td>10</td>\n",
       "    </tr>\n",
       "    <tr>\n",
       "      <th>942223</th>\n",
       "      <td>87777106</td>\n",
       "      <td>6146586</td>\n",
       "      <td>9</td>\n",
       "    </tr>\n",
       "    <tr>\n",
       "      <th>942224</th>\n",
       "      <td>87777106</td>\n",
       "      <td>6802308</td>\n",
       "      <td>3</td>\n",
       "    </tr>\n",
       "  </tbody>\n",
       "</table>\n",
       "</div>"
      ],
      "text/plain": [
       "          UserID  MovieID  Rating\n",
       "942220  23655320  5638642       6\n",
       "942221  87777106  4530422       6\n",
       "942222  87777106  4972582      10\n",
       "942223  87777106  6146586       9\n",
       "942224  87777106  6802308       3"
      ]
     },
     "execution_count": 15,
     "metadata": {},
     "output_type": "execute_result"
    }
   ],
   "source": [
    "test_data.tail()"
   ]
  },
  {
   "cell_type": "code",
   "execution_count": 16,
   "metadata": {},
   "outputs": [
    {
     "data": {
      "text/plain": [
       "(11386, 9816)"
      ]
     },
     "execution_count": 16,
     "metadata": {},
     "output_type": "execute_result"
    }
   ],
   "source": [
    "num_users = test_data.UserID.unique().shape[0]\n",
    "num_movies = test_data.MovieID.unique().shape[0]\n",
    "num_users, num_movies"
   ]
  },
  {
   "cell_type": "code",
   "execution_count": 17,
   "metadata": {},
   "outputs": [],
   "source": [
    "movies = train_data.MovieID.drop_duplicates()\n",
    "movies = pd.DataFrame(movies, columns=['MovieID'])\n",
    "movies = movies.sort_values('MovieID', ascending=True)\n",
    "movies = movies[['MovieID']]\n",
    "movies = movies.reset_index()"
   ]
  },
  {
   "cell_type": "code",
   "execution_count": 18,
   "metadata": {},
   "outputs": [],
   "source": [
    "users = train_data.UserID.drop_duplicates()\n",
    "users = pd.DataFrame(users, columns=['UserID'])\n",
    "users = users.sort_values('UserID', ascending=True)\n",
    "users = users[['UserID']]\n",
    "users = users.reset_index()"
   ]
  },
  {
   "cell_type": "markdown",
   "metadata": {},
   "source": [
    "### **Build Utility Matrix**"
   ]
  },
  {
   "cell_type": "code",
   "execution_count": 19,
   "metadata": {},
   "outputs": [
    {
     "data": {
      "text/plain": [
       "(11386, 9816)"
      ]
     },
     "execution_count": 19,
     "metadata": {},
     "output_type": "execute_result"
    }
   ],
   "source": [
    "utility_matrix = build_utility_matrix(train_data)\n",
    "utility_matrix.shape"
   ]
  },
  {
   "cell_type": "markdown",
   "metadata": {},
   "source": [
    "## **User-User CF**\n",
    "\n",
    "### **User-User CF with cosine similarity**"
   ]
  },
  {
   "cell_type": "code",
   "execution_count": 20,
   "metadata": {},
   "outputs": [],
   "source": [
    "UUCF_cosine = NeighborhoodCF(utility_matrix=utility_matrix, k_neighbors=20)"
   ]
  },
  {
   "cell_type": "code",
   "execution_count": 21,
   "metadata": {},
   "outputs": [
    {
     "data": {
      "text/plain": [
       "11386"
      ]
     },
     "execution_count": 21,
     "metadata": {},
     "output_type": "execute_result"
    }
   ],
   "source": [
    "cosine_uu_predicted_ratings, length = UUCF_cosine.predict_ratings()\n",
    "length"
   ]
  },
  {
   "cell_type": "code",
   "execution_count": 22,
   "metadata": {},
   "outputs": [
    {
     "name": "stdout",
     "output_type": "stream",
     "text": [
      "Recommend movies for user 685 and predicted ratings:\n"
     ]
    },
    {
     "data": {
      "text/plain": [
       "[(50083, 9), (54215, 8), (80684, 8), (120737, 8), (407887, 8)]"
      ]
     },
     "execution_count": 22,
     "metadata": {},
     "output_type": "execute_result"
    }
   ],
   "source": [
    "recommendation = UUCF_cosine.recommend(id=685, predicted_ratings=cosine_uu_predicted_ratings, movies=movies, users=users, top_n=5)\n",
    "print('Recommend movies for user 685 and predicted ratings:')\n",
    "recommendation"
   ]
  },
  {
   "cell_type": "code",
   "execution_count": 23,
   "metadata": {},
   "outputs": [],
   "source": [
    "# UUCF_cosine.print_recommendation(predicted_ratings=cosine_uu_predicted_ratings, movies=movies, users=users)"
   ]
  },
  {
   "cell_type": "markdown",
   "metadata": {},
   "source": [
    "### **User-User CF with pearson correlation**"
   ]
  },
  {
   "cell_type": "code",
   "execution_count": 24,
   "metadata": {},
   "outputs": [],
   "source": [
    "UUCF_pearson = NeighborhoodCF(utility_matrix=utility_matrix, k_neighbors=20, cosine=False)"
   ]
  },
  {
   "cell_type": "code",
   "execution_count": 25,
   "metadata": {},
   "outputs": [
    {
     "name": "stderr",
     "output_type": "stream",
     "text": [
      "C:\\Users\\Administrator\\AppData\\Local\\Packages\\PythonSoftwareFoundation.Python.3.11_qbz5n2kfra8p0\\LocalCache\\local-packages\\Python311\\site-packages\\numpy\\lib\\_function_base_impl.py:2922: RuntimeWarning: invalid value encountered in divide\n",
      "  c /= stddev[:, None]\n",
      "C:\\Users\\Administrator\\AppData\\Local\\Packages\\PythonSoftwareFoundation.Python.3.11_qbz5n2kfra8p0\\LocalCache\\local-packages\\Python311\\site-packages\\numpy\\lib\\_function_base_impl.py:2923: RuntimeWarning: invalid value encountered in divide\n",
      "  c /= stddev[None, :]\n"
     ]
    },
    {
     "data": {
      "text/plain": [
       "11386"
      ]
     },
     "execution_count": 25,
     "metadata": {},
     "output_type": "execute_result"
    }
   ],
   "source": [
    "pearson_uu_predicted_ratings, length = UUCF_pearson.predict_ratings()\n",
    "length"
   ]
  },
  {
   "cell_type": "code",
   "execution_count": 26,
   "metadata": {},
   "outputs": [
    {
     "name": "stdout",
     "output_type": "stream",
     "text": [
      "Recommend movies for user 36937337 and predicted ratings:\n"
     ]
    },
    {
     "data": {
      "text/plain": [
       "[(68646, 9), (76759, 9), (120815, 9), (167261, 9), (468569, 9)]"
      ]
     },
     "execution_count": 26,
     "metadata": {},
     "output_type": "execute_result"
    }
   ],
   "source": [
    "recommendation = UUCF_pearson.recommend(id=36937337, predicted_ratings=pearson_uu_predicted_ratings, movies=movies, users=users, top_n=5)\n",
    "print('Recommend movies for user 36937337 and predicted ratings:')\n",
    "recommendation"
   ]
  },
  {
   "cell_type": "code",
   "execution_count": 27,
   "metadata": {},
   "outputs": [],
   "source": [
    "# UUCF_pearson.print_recommendation(predicted_ratings=pearson_uu_predicted_ratings, movies=movies, users=users)"
   ]
  },
  {
   "cell_type": "markdown",
   "metadata": {},
   "source": [
    "## **Item-Item CF** \n",
    "\n",
    "### **Item-Item CF with cosine similarity**"
   ]
  },
  {
   "cell_type": "code",
   "execution_count": 28,
   "metadata": {},
   "outputs": [],
   "source": [
    "IICF_cosine = NeighborhoodCF(utility_matrix=utility_matrix, k_neighbors=20, uu_cf=False)"
   ]
  },
  {
   "cell_type": "code",
   "execution_count": 29,
   "metadata": {},
   "outputs": [
    {
     "data": {
      "text/plain": [
       "9816"
      ]
     },
     "execution_count": 29,
     "metadata": {},
     "output_type": "execute_result"
    }
   ],
   "source": [
    "cosine_ii_predicted_ratings, length = IICF_cosine.predict_ratings()\n",
    "length"
   ]
  },
  {
   "cell_type": "code",
   "execution_count": 30,
   "metadata": {},
   "outputs": [
    {
     "name": "stdout",
     "output_type": "stream",
     "text": [
      "Recommend users for movie 8864596 and predicted ratings:\n"
     ]
    },
    {
     "data": {
      "text/plain": [
       "[(17144916, 10),\n",
       " (89099743, 10),\n",
       " (99609225, 10),\n",
       " (101181482, 10),\n",
       " (119675796, 10)]"
      ]
     },
     "execution_count": 30,
     "metadata": {},
     "output_type": "execute_result"
    }
   ],
   "source": [
    "recommendation = IICF_cosine.recommend(id=8864596, predicted_ratings=pearson_uu_predicted_ratings, movies=movies, users=users, top_n=5)\n",
    "print('Recommend users for movie 8864596 and predicted ratings:')\n",
    "recommendation"
   ]
  },
  {
   "cell_type": "code",
   "execution_count": 31,
   "metadata": {},
   "outputs": [],
   "source": [
    "# IICF_cosine.print_recommendation(predicted_ratings=pearson_uu_predicted_ratings, movies=movies, users=users)"
   ]
  },
  {
   "cell_type": "markdown",
   "metadata": {},
   "source": [
    "### **Item-Item CF with pearson correlation**"
   ]
  },
  {
   "cell_type": "code",
   "execution_count": 32,
   "metadata": {},
   "outputs": [],
   "source": [
    "IICF_pearson = NeighborhoodCF(utility_matrix=utility_matrix, k_neighbors=20, uu_cf=False, cosine=False)"
   ]
  },
  {
   "cell_type": "code",
   "execution_count": 33,
   "metadata": {},
   "outputs": [
    {
     "data": {
      "text/plain": [
       "9816"
      ]
     },
     "execution_count": 33,
     "metadata": {},
     "output_type": "execute_result"
    }
   ],
   "source": [
    "pearson_ii_predicted_ratings, length = IICF_pearson.predict_ratings()\n",
    "length  "
   ]
  },
  {
   "cell_type": "code",
   "execution_count": 34,
   "metadata": {},
   "outputs": [
    {
     "name": "stdout",
     "output_type": "stream",
     "text": [
      "Recommend users for movie 8864596 and predicted ratings:\n"
     ]
    },
    {
     "data": {
      "text/plain": [
       "[(17144916, 10),\n",
       " (89099743, 10),\n",
       " (99609225, 10),\n",
       " (101181482, 10),\n",
       " (119675796, 10)]"
      ]
     },
     "execution_count": 34,
     "metadata": {},
     "output_type": "execute_result"
    }
   ],
   "source": [
    "recommendation = IICF_pearson.recommend(id=8864596, predicted_ratings=pearson_uu_predicted_ratings, movies=movies, users=users, top_n=5)\n",
    "print('Recommend users for movie 8864596 and predicted ratings:')\n",
    "recommendation"
   ]
  },
  {
   "cell_type": "code",
   "execution_count": 35,
   "metadata": {},
   "outputs": [],
   "source": [
    "# IICF_pearson.print_recommendation(predicted_ratings=pearson_uu_predicted_ratings, movies=movies, users=users)"
   ]
  }
 ],
 "metadata": {
  "kernelspec": {
   "display_name": "Python 3",
   "language": "python",
   "name": "python3"
  },
  "language_info": {
   "codemirror_mode": {
    "name": "ipython",
    "version": 3
   },
   "file_extension": ".py",
   "mimetype": "text/x-python",
   "name": "python",
   "nbconvert_exporter": "python",
   "pygments_lexer": "ipython3",
   "version": "3.11.9"
  }
 },
 "nbformat": 4,
 "nbformat_minor": 2
}
