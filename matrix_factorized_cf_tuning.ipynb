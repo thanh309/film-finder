{
 "cells": [
  {
   "cell_type": "markdown",
   "id": "1dcc8030",
   "metadata": {
    "papermill": {
     "duration": 0.005424,
     "end_time": "2024-12-16T23:16:55.966741",
     "exception": false,
     "start_time": "2024-12-16T23:16:55.961317",
     "status": "completed"
    },
    "tags": []
   },
   "source": [
    "## **Hyperparemeter Tuning: Matrix Factorized Collaborative Filtering**\n",
    "\n",
    "### **Import necessary library**"
   ]
  },
  {
   "cell_type": "code",
   "execution_count": 3,
   "id": "49b62a4f",
   "metadata": {
    "execution": {
     "iopub.execute_input": "2024-12-16T23:16:57.865413Z",
     "iopub.status.busy": "2024-12-16T23:16:57.865069Z",
     "iopub.status.idle": "2024-12-16T23:16:57.869070Z",
     "shell.execute_reply": "2024-12-16T23:16:57.868022Z"
    },
    "papermill": {
     "duration": 0.011403,
     "end_time": "2024-12-16T23:16:57.870997",
     "exception": false,
     "start_time": "2024-12-16T23:16:57.859594",
     "status": "completed"
    },
    "tags": []
   },
   "outputs": [],
   "source": [
    "import pandas as pd \n",
    "import numpy as np \n",
    "import math \n",
    "from collaborative_filtering import build_utility_matrix, mf_hyperparameter_tuning"
   ]
  },
  {
   "cell_type": "code",
   "execution_count": 4,
   "id": "b958d3f7",
   "metadata": {
    "execution": {
     "iopub.execute_input": "2024-12-16T23:16:57.880610Z",
     "iopub.status.busy": "2024-12-16T23:16:57.880369Z",
     "iopub.status.idle": "2024-12-16T23:17:00.194741Z",
     "shell.execute_reply": "2024-12-16T23:17:00.193670Z"
    },
    "papermill": {
     "duration": 2.322066,
     "end_time": "2024-12-16T23:17:00.197422",
     "exception": false,
     "start_time": "2024-12-16T23:16:57.875356",
     "status": "completed"
    },
    "tags": []
   },
   "outputs": [],
   "source": [
    "train_data = pd.read_csv('resources/data/train_val_test/ratings_train.csv', header=None, names=['UserID', 'MovieID', 'Rating'])\n",
    "test_data = pd.read_csv('resources/data/train_val_test/ratings_test.csv', header=None, names=['UserID', 'MovieID', 'Rating'])\n",
    "val_data = pd.read_csv('resources/data/train_val_test/ratings_val.csv', header=None, names=['UserID', 'MovieID', 'Rating'])"
   ]
  },
  {
   "cell_type": "code",
   "execution_count": 5,
   "id": "2485d6e2",
   "metadata": {
    "execution": {
     "iopub.execute_input": "2024-12-16T23:17:00.213859Z",
     "iopub.status.busy": "2024-12-16T23:17:00.213182Z",
     "iopub.status.idle": "2024-12-16T23:17:00.231553Z",
     "shell.execute_reply": "2024-12-16T23:17:00.230608Z"
    },
    "papermill": {
     "duration": 0.030113,
     "end_time": "2024-12-16T23:17:00.235655",
     "exception": false,
     "start_time": "2024-12-16T23:17:00.205542",
     "status": "completed"
    },
    "tags": []
   },
   "outputs": [
    {
     "data": {
      "text/html": [
       "<div>\n",
       "<style scoped>\n",
       "    .dataframe tbody tr th:only-of-type {\n",
       "        vertical-align: middle;\n",
       "    }\n",
       "\n",
       "    .dataframe tbody tr th {\n",
       "        vertical-align: top;\n",
       "    }\n",
       "\n",
       "    .dataframe thead th {\n",
       "        text-align: right;\n",
       "    }\n",
       "</style>\n",
       "<table border=\"1\" class=\"dataframe\">\n",
       "  <thead>\n",
       "    <tr style=\"text-align: right;\">\n",
       "      <th></th>\n",
       "      <th>UserID</th>\n",
       "      <th>MovieID</th>\n",
       "      <th>Rating</th>\n",
       "    </tr>\n",
       "  </thead>\n",
       "  <tbody>\n",
       "    <tr>\n",
       "      <th>0</th>\n",
       "      <td>36527471</td>\n",
       "      <td>1659337</td>\n",
       "      <td>8</td>\n",
       "    </tr>\n",
       "    <tr>\n",
       "      <th>1</th>\n",
       "      <td>65089494</td>\n",
       "      <td>105695</td>\n",
       "      <td>10</td>\n",
       "    </tr>\n",
       "    <tr>\n",
       "      <th>2</th>\n",
       "      <td>23249666</td>\n",
       "      <td>1628064</td>\n",
       "      <td>9</td>\n",
       "    </tr>\n",
       "    <tr>\n",
       "      <th>3</th>\n",
       "      <td>7776823</td>\n",
       "      <td>110413</td>\n",
       "      <td>10</td>\n",
       "    </tr>\n",
       "    <tr>\n",
       "      <th>4</th>\n",
       "      <td>122607281</td>\n",
       "      <td>2948372</td>\n",
       "      <td>6</td>\n",
       "    </tr>\n",
       "  </tbody>\n",
       "</table>\n",
       "</div>"
      ],
      "text/plain": [
       "      UserID  MovieID  Rating\n",
       "0   36527471  1659337       8\n",
       "1   65089494   105695      10\n",
       "2   23249666  1628064       9\n",
       "3    7776823   110413      10\n",
       "4  122607281  2948372       6"
      ]
     },
     "execution_count": 5,
     "metadata": {},
     "output_type": "execute_result"
    }
   ],
   "source": [
    "train_data.head()"
   ]
  },
  {
   "cell_type": "code",
   "execution_count": 6,
   "id": "a400dba8",
   "metadata": {
    "execution": {
     "iopub.execute_input": "2024-12-16T23:17:00.248952Z",
     "iopub.status.busy": "2024-12-16T23:17:00.248660Z",
     "iopub.status.idle": "2024-12-16T23:17:00.256141Z",
     "shell.execute_reply": "2024-12-16T23:17:00.255286Z"
    },
    "papermill": {
     "duration": 0.014685,
     "end_time": "2024-12-16T23:17:00.257916",
     "exception": false,
     "start_time": "2024-12-16T23:17:00.243231",
     "status": "completed"
    },
    "tags": []
   },
   "outputs": [
    {
     "data": {
      "text/html": [
       "<div>\n",
       "<style scoped>\n",
       "    .dataframe tbody tr th:only-of-type {\n",
       "        vertical-align: middle;\n",
       "    }\n",
       "\n",
       "    .dataframe tbody tr th {\n",
       "        vertical-align: top;\n",
       "    }\n",
       "\n",
       "    .dataframe thead th {\n",
       "        text-align: right;\n",
       "    }\n",
       "</style>\n",
       "<table border=\"1\" class=\"dataframe\">\n",
       "  <thead>\n",
       "    <tr style=\"text-align: right;\">\n",
       "      <th></th>\n",
       "      <th>UserID</th>\n",
       "      <th>MovieID</th>\n",
       "      <th>Rating</th>\n",
       "    </tr>\n",
       "  </thead>\n",
       "  <tbody>\n",
       "    <tr>\n",
       "      <th>3699431</th>\n",
       "      <td>58251797</td>\n",
       "      <td>4729430</td>\n",
       "      <td>8</td>\n",
       "    </tr>\n",
       "    <tr>\n",
       "      <th>3699432</th>\n",
       "      <td>93006392</td>\n",
       "      <td>2545428</td>\n",
       "      <td>8</td>\n",
       "    </tr>\n",
       "    <tr>\n",
       "      <th>3699433</th>\n",
       "      <td>18815933</td>\n",
       "      <td>2537176</td>\n",
       "      <td>6</td>\n",
       "    </tr>\n",
       "    <tr>\n",
       "      <th>3699434</th>\n",
       "      <td>28443655</td>\n",
       "      <td>414982</td>\n",
       "      <td>3</td>\n",
       "    </tr>\n",
       "    <tr>\n",
       "      <th>3699435</th>\n",
       "      <td>1067456</td>\n",
       "      <td>108399</td>\n",
       "      <td>10</td>\n",
       "    </tr>\n",
       "  </tbody>\n",
       "</table>\n",
       "</div>"
      ],
      "text/plain": [
       "           UserID  MovieID  Rating\n",
       "3699431  58251797  4729430       8\n",
       "3699432  93006392  2545428       8\n",
       "3699433  18815933  2537176       6\n",
       "3699434  28443655   414982       3\n",
       "3699435   1067456   108399      10"
      ]
     },
     "execution_count": 6,
     "metadata": {},
     "output_type": "execute_result"
    }
   ],
   "source": [
    "train_data.tail()"
   ]
  },
  {
   "cell_type": "code",
   "execution_count": 7,
   "id": "95b3eef6",
   "metadata": {
    "execution": {
     "iopub.execute_input": "2024-12-16T23:17:00.268746Z",
     "iopub.status.busy": "2024-12-16T23:17:00.268506Z",
     "iopub.status.idle": "2024-12-16T23:17:00.350192Z",
     "shell.execute_reply": "2024-12-16T23:17:00.349336Z"
    },
    "papermill": {
     "duration": 0.089498,
     "end_time": "2024-12-16T23:17:00.352394",
     "exception": false,
     "start_time": "2024-12-16T23:17:00.262896",
     "status": "completed"
    },
    "tags": []
   },
   "outputs": [
    {
     "data": {
      "text/plain": [
       "(9130, 9814)"
      ]
     },
     "execution_count": 7,
     "metadata": {},
     "output_type": "execute_result"
    }
   ],
   "source": [
    "num_users = train_data.UserID.unique().shape[0]\n",
    "num_movies = train_data.MovieID.unique().shape[0]\n",
    "num_users, num_movies"
   ]
  },
  {
   "cell_type": "code",
   "execution_count": 8,
   "id": "e9863dee",
   "metadata": {
    "execution": {
     "iopub.execute_input": "2024-12-16T23:17:00.369058Z",
     "iopub.status.busy": "2024-12-16T23:17:00.368753Z",
     "iopub.status.idle": "2024-12-16T23:17:00.376482Z",
     "shell.execute_reply": "2024-12-16T23:17:00.375519Z"
    },
    "papermill": {
     "duration": 0.01669,
     "end_time": "2024-12-16T23:17:00.378083",
     "exception": false,
     "start_time": "2024-12-16T23:17:00.361393",
     "status": "completed"
    },
    "tags": []
   },
   "outputs": [
    {
     "data": {
      "text/html": [
       "<div>\n",
       "<style scoped>\n",
       "    .dataframe tbody tr th:only-of-type {\n",
       "        vertical-align: middle;\n",
       "    }\n",
       "\n",
       "    .dataframe tbody tr th {\n",
       "        vertical-align: top;\n",
       "    }\n",
       "\n",
       "    .dataframe thead th {\n",
       "        text-align: right;\n",
       "    }\n",
       "</style>\n",
       "<table border=\"1\" class=\"dataframe\">\n",
       "  <thead>\n",
       "    <tr style=\"text-align: right;\">\n",
       "      <th></th>\n",
       "      <th>UserID</th>\n",
       "      <th>MovieID</th>\n",
       "      <th>Rating</th>\n",
       "    </tr>\n",
       "  </thead>\n",
       "  <tbody>\n",
       "    <tr>\n",
       "      <th>0</th>\n",
       "      <td>45430544</td>\n",
       "      <td>83798</td>\n",
       "      <td>7</td>\n",
       "    </tr>\n",
       "    <tr>\n",
       "      <th>1</th>\n",
       "      <td>34807113</td>\n",
       "      <td>1250777</td>\n",
       "      <td>9</td>\n",
       "    </tr>\n",
       "    <tr>\n",
       "      <th>2</th>\n",
       "      <td>67646271</td>\n",
       "      <td>80120</td>\n",
       "      <td>4</td>\n",
       "    </tr>\n",
       "    <tr>\n",
       "      <th>3</th>\n",
       "      <td>51265424</td>\n",
       "      <td>1490017</td>\n",
       "      <td>8</td>\n",
       "    </tr>\n",
       "    <tr>\n",
       "      <th>4</th>\n",
       "      <td>51235794</td>\n",
       "      <td>11813216</td>\n",
       "      <td>8</td>\n",
       "    </tr>\n",
       "  </tbody>\n",
       "</table>\n",
       "</div>"
      ],
      "text/plain": [
       "     UserID   MovieID  Rating\n",
       "0  45430544     83798       7\n",
       "1  34807113   1250777       9\n",
       "2  67646271     80120       4\n",
       "3  51265424   1490017       8\n",
       "4  51235794  11813216       8"
      ]
     },
     "execution_count": 8,
     "metadata": {},
     "output_type": "execute_result"
    }
   ],
   "source": [
    "test_data.head()"
   ]
  },
  {
   "cell_type": "code",
   "execution_count": 9,
   "id": "f857fd5e",
   "metadata": {
    "execution": {
     "iopub.execute_input": "2024-12-16T23:17:00.389195Z",
     "iopub.status.busy": "2024-12-16T23:17:00.388836Z",
     "iopub.status.idle": "2024-12-16T23:17:00.397669Z",
     "shell.execute_reply": "2024-12-16T23:17:00.396906Z"
    },
    "papermill": {
     "duration": 0.016465,
     "end_time": "2024-12-16T23:17:00.399387",
     "exception": false,
     "start_time": "2024-12-16T23:17:00.382922",
     "status": "completed"
    },
    "tags": []
   },
   "outputs": [
    {
     "data": {
      "text/html": [
       "<div>\n",
       "<style scoped>\n",
       "    .dataframe tbody tr th:only-of-type {\n",
       "        vertical-align: middle;\n",
       "    }\n",
       "\n",
       "    .dataframe tbody tr th {\n",
       "        vertical-align: top;\n",
       "    }\n",
       "\n",
       "    .dataframe thead th {\n",
       "        text-align: right;\n",
       "    }\n",
       "</style>\n",
       "<table border=\"1\" class=\"dataframe\">\n",
       "  <thead>\n",
       "    <tr style=\"text-align: right;\">\n",
       "      <th></th>\n",
       "      <th>UserID</th>\n",
       "      <th>MovieID</th>\n",
       "      <th>Rating</th>\n",
       "    </tr>\n",
       "  </thead>\n",
       "  <tbody>\n",
       "    <tr>\n",
       "      <th>462425</th>\n",
       "      <td>30899304</td>\n",
       "      <td>1136608</td>\n",
       "      <td>9</td>\n",
       "    </tr>\n",
       "    <tr>\n",
       "      <th>462426</th>\n",
       "      <td>22328566</td>\n",
       "      <td>108783</td>\n",
       "      <td>10</td>\n",
       "    </tr>\n",
       "    <tr>\n",
       "      <th>462427</th>\n",
       "      <td>26159893</td>\n",
       "      <td>333780</td>\n",
       "      <td>7</td>\n",
       "    </tr>\n",
       "    <tr>\n",
       "      <th>462428</th>\n",
       "      <td>35725947</td>\n",
       "      <td>3569230</td>\n",
       "      <td>6</td>\n",
       "    </tr>\n",
       "    <tr>\n",
       "      <th>462429</th>\n",
       "      <td>23018536</td>\n",
       "      <td>1232829</td>\n",
       "      <td>8</td>\n",
       "    </tr>\n",
       "  </tbody>\n",
       "</table>\n",
       "</div>"
      ],
      "text/plain": [
       "          UserID  MovieID  Rating\n",
       "462425  30899304  1136608       9\n",
       "462426  22328566   108783      10\n",
       "462427  26159893   333780       7\n",
       "462428  35725947  3569230       6\n",
       "462429  23018536  1232829       8"
      ]
     },
     "execution_count": 9,
     "metadata": {},
     "output_type": "execute_result"
    }
   ],
   "source": [
    "test_data.tail()"
   ]
  },
  {
   "cell_type": "code",
   "execution_count": 10,
   "id": "2d37d2a6",
   "metadata": {
    "execution": {
     "iopub.execute_input": "2024-12-16T23:17:00.410911Z",
     "iopub.status.busy": "2024-12-16T23:17:00.410203Z",
     "iopub.status.idle": "2024-12-16T23:17:00.428322Z",
     "shell.execute_reply": "2024-12-16T23:17:00.427394Z"
    },
    "papermill": {
     "duration": 0.026091,
     "end_time": "2024-12-16T23:17:00.430414",
     "exception": false,
     "start_time": "2024-12-16T23:17:00.404323",
     "status": "completed"
    },
    "tags": []
   },
   "outputs": [
    {
     "data": {
      "text/plain": [
       "(9130, 9814)"
      ]
     },
     "execution_count": 10,
     "metadata": {},
     "output_type": "execute_result"
    }
   ],
   "source": [
    "num_users = test_data.UserID.unique().shape[0]\n",
    "num_movies = test_data.MovieID.unique().shape[0]\n",
    "num_users, num_movies"
   ]
  },
  {
   "cell_type": "code",
   "execution_count": 11,
   "id": "511a35de",
   "metadata": {
    "execution": {
     "iopub.execute_input": "2024-12-16T23:17:00.450688Z",
     "iopub.status.busy": "2024-12-16T23:17:00.450439Z",
     "iopub.status.idle": "2024-12-16T23:17:00.458430Z",
     "shell.execute_reply": "2024-12-16T23:17:00.457600Z"
    },
    "papermill": {
     "duration": 0.020129,
     "end_time": "2024-12-16T23:17:00.460006",
     "exception": false,
     "start_time": "2024-12-16T23:17:00.439877",
     "status": "completed"
    },
    "tags": []
   },
   "outputs": [
    {
     "data": {
      "text/html": [
       "<div>\n",
       "<style scoped>\n",
       "    .dataframe tbody tr th:only-of-type {\n",
       "        vertical-align: middle;\n",
       "    }\n",
       "\n",
       "    .dataframe tbody tr th {\n",
       "        vertical-align: top;\n",
       "    }\n",
       "\n",
       "    .dataframe thead th {\n",
       "        text-align: right;\n",
       "    }\n",
       "</style>\n",
       "<table border=\"1\" class=\"dataframe\">\n",
       "  <thead>\n",
       "    <tr style=\"text-align: right;\">\n",
       "      <th></th>\n",
       "      <th>UserID</th>\n",
       "      <th>MovieID</th>\n",
       "      <th>Rating</th>\n",
       "    </tr>\n",
       "  </thead>\n",
       "  <tbody>\n",
       "    <tr>\n",
       "      <th>0</th>\n",
       "      <td>131612777</td>\n",
       "      <td>891592</td>\n",
       "      <td>2</td>\n",
       "    </tr>\n",
       "    <tr>\n",
       "      <th>1</th>\n",
       "      <td>23320225</td>\n",
       "      <td>2382320</td>\n",
       "      <td>7</td>\n",
       "    </tr>\n",
       "    <tr>\n",
       "      <th>2</th>\n",
       "      <td>28071275</td>\n",
       "      <td>45758</td>\n",
       "      <td>3</td>\n",
       "    </tr>\n",
       "    <tr>\n",
       "      <th>3</th>\n",
       "      <td>23856336</td>\n",
       "      <td>68699</td>\n",
       "      <td>10</td>\n",
       "    </tr>\n",
       "    <tr>\n",
       "      <th>4</th>\n",
       "      <td>47196478</td>\n",
       "      <td>95327</td>\n",
       "      <td>7</td>\n",
       "    </tr>\n",
       "  </tbody>\n",
       "</table>\n",
       "</div>"
      ],
      "text/plain": [
       "      UserID  MovieID  Rating\n",
       "0  131612777   891592       2\n",
       "1   23320225  2382320       7\n",
       "2   28071275    45758       3\n",
       "3   23856336    68699      10\n",
       "4   47196478    95327       7"
      ]
     },
     "execution_count": 11,
     "metadata": {},
     "output_type": "execute_result"
    }
   ],
   "source": [
    "val_data.head()"
   ]
  },
  {
   "cell_type": "code",
   "execution_count": 12,
   "id": "0bfe0451",
   "metadata": {
    "execution": {
     "iopub.execute_input": "2024-12-16T23:17:00.471865Z",
     "iopub.status.busy": "2024-12-16T23:17:00.471425Z",
     "iopub.status.idle": "2024-12-16T23:17:00.478701Z",
     "shell.execute_reply": "2024-12-16T23:17:00.477799Z"
    },
    "papermill": {
     "duration": 0.015182,
     "end_time": "2024-12-16T23:17:00.480549",
     "exception": false,
     "start_time": "2024-12-16T23:17:00.465367",
     "status": "completed"
    },
    "tags": []
   },
   "outputs": [
    {
     "data": {
      "text/html": [
       "<div>\n",
       "<style scoped>\n",
       "    .dataframe tbody tr th:only-of-type {\n",
       "        vertical-align: middle;\n",
       "    }\n",
       "\n",
       "    .dataframe tbody tr th {\n",
       "        vertical-align: top;\n",
       "    }\n",
       "\n",
       "    .dataframe thead th {\n",
       "        text-align: right;\n",
       "    }\n",
       "</style>\n",
       "<table border=\"1\" class=\"dataframe\">\n",
       "  <thead>\n",
       "    <tr style=\"text-align: right;\">\n",
       "      <th></th>\n",
       "      <th>UserID</th>\n",
       "      <th>MovieID</th>\n",
       "      <th>Rating</th>\n",
       "    </tr>\n",
       "  </thead>\n",
       "  <tbody>\n",
       "    <tr>\n",
       "      <th>462425</th>\n",
       "      <td>77954315</td>\n",
       "      <td>113870</td>\n",
       "      <td>7</td>\n",
       "    </tr>\n",
       "    <tr>\n",
       "      <th>462426</th>\n",
       "      <td>4580541</td>\n",
       "      <td>91877</td>\n",
       "      <td>6</td>\n",
       "    </tr>\n",
       "    <tr>\n",
       "      <th>462427</th>\n",
       "      <td>25506300</td>\n",
       "      <td>1877832</td>\n",
       "      <td>9</td>\n",
       "    </tr>\n",
       "    <tr>\n",
       "      <th>462428</th>\n",
       "      <td>27367887</td>\n",
       "      <td>435761</td>\n",
       "      <td>8</td>\n",
       "    </tr>\n",
       "    <tr>\n",
       "      <th>462429</th>\n",
       "      <td>364025</td>\n",
       "      <td>185014</td>\n",
       "      <td>9</td>\n",
       "    </tr>\n",
       "  </tbody>\n",
       "</table>\n",
       "</div>"
      ],
      "text/plain": [
       "          UserID  MovieID  Rating\n",
       "462425  77954315   113870       7\n",
       "462426   4580541    91877       6\n",
       "462427  25506300  1877832       9\n",
       "462428  27367887   435761       8\n",
       "462429    364025   185014       9"
      ]
     },
     "execution_count": 12,
     "metadata": {},
     "output_type": "execute_result"
    }
   ],
   "source": [
    "val_data.tail()"
   ]
  },
  {
   "cell_type": "code",
   "execution_count": 13,
   "id": "aa8703b1",
   "metadata": {
    "execution": {
     "iopub.execute_input": "2024-12-16T23:17:00.493362Z",
     "iopub.status.busy": "2024-12-16T23:17:00.492622Z",
     "iopub.status.idle": "2024-12-16T23:17:00.509142Z",
     "shell.execute_reply": "2024-12-16T23:17:00.508416Z"
    },
    "papermill": {
     "duration": 0.024819,
     "end_time": "2024-12-16T23:17:00.511054",
     "exception": false,
     "start_time": "2024-12-16T23:17:00.486235",
     "status": "completed"
    },
    "tags": []
   },
   "outputs": [
    {
     "data": {
      "text/plain": [
       "(9130, 9814)"
      ]
     },
     "execution_count": 13,
     "metadata": {},
     "output_type": "execute_result"
    }
   ],
   "source": [
    "num_users = val_data.UserID.unique().shape[0]\n",
    "num_movies = val_data.MovieID.unique().shape[0]\n",
    "num_users, num_movies"
   ]
  },
  {
   "cell_type": "code",
   "execution_count": 14,
   "id": "3e8c833b",
   "metadata": {
    "execution": {
     "iopub.execute_input": "2024-12-16T23:17:00.522769Z",
     "iopub.status.busy": "2024-12-16T23:17:00.522202Z",
     "iopub.status.idle": "2024-12-16T23:17:00.600464Z",
     "shell.execute_reply": "2024-12-16T23:17:00.599651Z"
    },
    "papermill": {
     "duration": 0.086112,
     "end_time": "2024-12-16T23:17:00.602325",
     "exception": false,
     "start_time": "2024-12-16T23:17:00.516213",
     "status": "completed"
    },
    "tags": []
   },
   "outputs": [],
   "source": [
    "movies = train_data.MovieID.drop_duplicates()\n",
    "movies = pd.DataFrame(movies, columns=['MovieID'])\n",
    "movies = movies.sort_values('MovieID', ascending=True)\n",
    "movies = movies[['MovieID']]\n",
    "movies = movies.reset_index()"
   ]
  },
  {
   "cell_type": "code",
   "execution_count": 15,
   "id": "4fbfc468",
   "metadata": {
    "execution": {
     "iopub.execute_input": "2024-12-16T23:17:00.615137Z",
     "iopub.status.busy": "2024-12-16T23:17:00.614373Z",
     "iopub.status.idle": "2024-12-16T23:17:00.618931Z",
     "shell.execute_reply": "2024-12-16T23:17:00.618144Z"
    },
    "papermill": {
     "duration": 0.012584,
     "end_time": "2024-12-16T23:17:00.620570",
     "exception": false,
     "start_time": "2024-12-16T23:17:00.607986",
     "status": "completed"
    },
    "tags": []
   },
   "outputs": [],
   "source": [
    "movie_ids = movies.MovieID.tolist()"
   ]
  },
  {
   "cell_type": "code",
   "execution_count": 16,
   "id": "adb5efec",
   "metadata": {
    "execution": {
     "iopub.execute_input": "2024-12-16T23:17:00.632727Z",
     "iopub.status.busy": "2024-12-16T23:17:00.632045Z",
     "iopub.status.idle": "2024-12-16T23:17:00.685666Z",
     "shell.execute_reply": "2024-12-16T23:17:00.684910Z"
    },
    "papermill": {
     "duration": 0.061989,
     "end_time": "2024-12-16T23:17:00.687855",
     "exception": false,
     "start_time": "2024-12-16T23:17:00.625866",
     "status": "completed"
    },
    "tags": []
   },
   "outputs": [],
   "source": [
    "users = train_data.UserID.drop_duplicates()\n",
    "users = pd.DataFrame(users, columns=['UserID'])\n",
    "users = users.sort_values('UserID', ascending=True)\n",
    "users = users[['UserID']]\n",
    "users = users.reset_index()"
   ]
  },
  {
   "cell_type": "code",
   "execution_count": 17,
   "id": "10e9dfb3",
   "metadata": {
    "execution": {
     "iopub.execute_input": "2024-12-16T23:17:00.704957Z",
     "iopub.status.busy": "2024-12-16T23:17:00.704632Z",
     "iopub.status.idle": "2024-12-16T23:17:00.708936Z",
     "shell.execute_reply": "2024-12-16T23:17:00.708219Z"
    },
    "papermill": {
     "duration": 0.012801,
     "end_time": "2024-12-16T23:17:00.710629",
     "exception": false,
     "start_time": "2024-12-16T23:17:00.697828",
     "status": "completed"
    },
    "tags": []
   },
   "outputs": [],
   "source": [
    "user_ids = users.UserID.tolist()"
   ]
  },
  {
   "cell_type": "markdown",
   "id": "3ec656f8",
   "metadata": {
    "papermill": {
     "duration": 0.005141,
     "end_time": "2024-12-16T23:17:00.721089",
     "exception": false,
     "start_time": "2024-12-16T23:17:00.715948",
     "status": "completed"
    },
    "tags": []
   },
   "source": [
    "### **Build Utility Matrix**"
   ]
  },
  {
   "cell_type": "code",
   "execution_count": 18,
   "id": "51e297f6",
   "metadata": {
    "execution": {
     "iopub.execute_input": "2024-12-16T23:17:00.732803Z",
     "iopub.status.busy": "2024-12-16T23:17:00.732490Z",
     "iopub.status.idle": "2024-12-16T23:17:04.867135Z",
     "shell.execute_reply": "2024-12-16T23:17:04.866151Z"
    },
    "papermill": {
     "duration": 4.142652,
     "end_time": "2024-12-16T23:17:04.868961",
     "exception": false,
     "start_time": "2024-12-16T23:17:00.726309",
     "status": "completed"
    },
    "tags": []
   },
   "outputs": [
    {
     "data": {
      "text/plain": [
       "array([[0., 0., 7., ..., 0., 0., 0.],\n",
       "       [0., 0., 0., ..., 7., 0., 0.],\n",
       "       [0., 0., 0., ..., 0., 0., 0.],\n",
       "       ...,\n",
       "       [0., 0., 0., ..., 0., 0., 0.],\n",
       "       [0., 0., 0., ..., 0., 0., 0.],\n",
       "       [0., 0., 0., ..., 0., 0., 0.]])"
      ]
     },
     "execution_count": 18,
     "metadata": {},
     "output_type": "execute_result"
    }
   ],
   "source": [
    "train_R = build_utility_matrix(train_data)\n",
    "train_R"
   ]
  },
  {
   "cell_type": "code",
   "execution_count": 19,
   "id": "a5ad86c5",
   "metadata": {
    "execution": {
     "iopub.execute_input": "2024-12-16T23:17:04.881234Z",
     "iopub.status.busy": "2024-12-16T23:17:04.880943Z",
     "iopub.status.idle": "2024-12-16T23:17:06.876792Z",
     "shell.execute_reply": "2024-12-16T23:17:06.875847Z"
    },
    "papermill": {
     "duration": 2.004408,
     "end_time": "2024-12-16T23:17:06.879110",
     "exception": false,
     "start_time": "2024-12-16T23:17:04.874702",
     "status": "completed"
    },
    "tags": []
   },
   "outputs": [],
   "source": [
    "val_R = build_utility_matrix(val_data)"
   ]
  },
  {
   "cell_type": "markdown",
   "id": "06842017",
   "metadata": {
    "papermill": {
     "duration": 0.005409,
     "end_time": "2024-12-16T23:17:06.890239",
     "exception": false,
     "start_time": "2024-12-16T23:17:06.884830",
     "status": "completed"
    },
    "tags": []
   },
   "source": [
    "### **Defining the Hyperparameter Grid**"
   ]
  },
  {
   "cell_type": "code",
   "execution_count": 20,
   "id": "21ada0da",
   "metadata": {
    "execution": {
     "iopub.execute_input": "2024-12-16T23:17:06.903754Z",
     "iopub.status.busy": "2024-12-16T23:17:06.903479Z",
     "iopub.status.idle": "2024-12-16T23:17:06.908127Z",
     "shell.execute_reply": "2024-12-16T23:17:06.907304Z"
    },
    "papermill": {
     "duration": 0.012643,
     "end_time": "2024-12-16T23:17:06.909714",
     "exception": false,
     "start_time": "2024-12-16T23:17:06.897071",
     "status": "completed"
    },
    "tags": []
   },
   "outputs": [],
   "source": [
    "from itertools import product\n",
    "\n",
    "# Define the hyperparameter grid\n",
    "K_values = [30, 35, 40]\n",
    "learning_rates = [0.0005, 0.001, 0.005]\n",
    "regularization_values = [0.05, 0.1]\n",
    "epochs_values = [10]\n",
    "\n",
    "# Create all possible combinations of hyperparameters\n",
    "hyperparameter_combinations = list(product(K_values, learning_rates, regularization_values, epochs_values))\n"
   ]
  },
  {
   "cell_type": "markdown",
   "id": "614940e9",
   "metadata": {
    "papermill": {
     "duration": 0.005151,
     "end_time": "2024-12-16T23:17:06.920209",
     "exception": false,
     "start_time": "2024-12-16T23:17:06.915058",
     "status": "completed"
    },
    "tags": []
   },
   "source": [
    "### **Evaluating each combination**"
   ]
  },
  {
   "cell_type": "code",
   "execution_count": 21,
   "id": "fc400c7d",
   "metadata": {
    "execution": {
     "iopub.execute_input": "2024-12-16T23:17:06.931675Z",
     "iopub.status.busy": "2024-12-16T23:17:06.931447Z",
     "iopub.status.idle": "2024-12-17T05:28:37.000759Z",
     "shell.execute_reply": "2024-12-17T05:28:36.999847Z"
    },
    "papermill": {
     "duration": 22290.09007,
     "end_time": "2024-12-17T05:28:37.015563",
     "exception": false,
     "start_time": "2024-12-16T23:17:06.925493",
     "status": "completed"
    },
    "tags": []
   },
   "outputs": [
    {
     "name": "stdout",
     "output_type": "stream",
     "text": [
      "Evaluating combination 1/18: K=30, lr=0.0005, reg=0.05, epochs=10\n",
      "Epoch: 1 - Train RMSE: 1.9154, Validation RMSE: 1.8240\n",
      "Epoch: 2 - Train RMSE: 1.7925, Validation RMSE: 1.7511\n",
      "Epoch: 3 - Train RMSE: 1.7415, Validation RMSE: 1.7120\n",
      "Epoch: 4 - Train RMSE: 1.7115, Validation RMSE: 1.6867\n",
      "Epoch: 5 - Train RMSE: 1.6910, Validation RMSE: 1.6688\n",
      "Epoch: 6 - Train RMSE: 1.6761, Validation RMSE: 1.6554\n",
      "Epoch: 7 - Train RMSE: 1.6647, Validation RMSE: 1.6449\n",
      "Epoch: 8 - Train RMSE: 1.6558, Validation RMSE: 1.6366\n",
      "Epoch: 9 - Train RMSE: 1.6485, Validation RMSE: 1.6297\n",
      "Epoch: 10 - Train RMSE: 1.6426, Validation RMSE: 1.6241\n",
      "Evaluating combination 2/18: K=30, lr=0.0005, reg=0.1, epochs=10\n",
      "Epoch: 1 - Train RMSE: 1.9190, Validation RMSE: 1.8260\n",
      "Epoch: 2 - Train RMSE: 1.8014, Validation RMSE: 1.7540\n",
      "Epoch: 3 - Train RMSE: 1.7536, Validation RMSE: 1.7153\n",
      "Epoch: 4 - Train RMSE: 1.7254, Validation RMSE: 1.6903\n",
      "Epoch: 5 - Train RMSE: 1.7064, Validation RMSE: 1.6725\n",
      "Epoch: 6 - Train RMSE: 1.6926, Validation RMSE: 1.6592\n",
      "Epoch: 7 - Train RMSE: 1.6821, Validation RMSE: 1.6488\n",
      "Epoch: 8 - Train RMSE: 1.6739, Validation RMSE: 1.6405\n",
      "Epoch: 9 - Train RMSE: 1.6672, Validation RMSE: 1.6338\n",
      "Epoch: 10 - Train RMSE: 1.6618, Validation RMSE: 1.6282\n",
      "Evaluating combination 3/18: K=30, lr=0.001, reg=0.05, epochs=10\n",
      "Epoch: 1 - Train RMSE: 1.8557, Validation RMSE: 1.7511\n",
      "Epoch: 2 - Train RMSE: 1.7273, Validation RMSE: 1.6868\n",
      "Epoch: 3 - Train RMSE: 1.6843, Validation RMSE: 1.6554\n",
      "Epoch: 4 - Train RMSE: 1.6609, Validation RMSE: 1.6366\n",
      "Epoch: 5 - Train RMSE: 1.6462, Validation RMSE: 1.6242\n",
      "Epoch: 6 - Train RMSE: 1.6363, Validation RMSE: 1.6154\n",
      "Epoch: 7 - Train RMSE: 1.6291, Validation RMSE: 1.6091\n",
      "Epoch: 8 - Train RMSE: 1.6239, Validation RMSE: 1.6042\n",
      "Epoch: 9 - Train RMSE: 1.6199, Validation RMSE: 1.6003\n",
      "Epoch: 10 - Train RMSE: 1.6167, Validation RMSE: 1.5972\n",
      "Evaluating combination 4/18: K=30, lr=0.001, reg=0.1, epochs=10\n",
      "Epoch: 1 - Train RMSE: 1.8619, Validation RMSE: 1.7540\n",
      "Epoch: 2 - Train RMSE: 1.7402, Validation RMSE: 1.6901\n",
      "Epoch: 3 - Train RMSE: 1.7002, Validation RMSE: 1.6592\n",
      "Epoch: 4 - Train RMSE: 1.6787, Validation RMSE: 1.6405\n",
      "Epoch: 5 - Train RMSE: 1.6652, Validation RMSE: 1.6282\n",
      "Epoch: 6 - Train RMSE: 1.6561, Validation RMSE: 1.6195\n",
      "Epoch: 7 - Train RMSE: 1.6497, Validation RMSE: 1.6132\n",
      "Epoch: 8 - Train RMSE: 1.6451, Validation RMSE: 1.6084\n",
      "Epoch: 9 - Train RMSE: 1.6416, Validation RMSE: 1.6048\n",
      "Epoch: 10 - Train RMSE: 1.6389, Validation RMSE: 1.6018\n",
      "Evaluating combination 5/18: K=30, lr=0.005, reg=0.05, epochs=10\n",
      "Epoch: 1 - Train RMSE: 1.7209, Validation RMSE: 1.6256\n",
      "Epoch: 2 - Train RMSE: 1.6296, Validation RMSE: 1.5986\n",
      "Epoch: 3 - Train RMSE: 1.6128, Validation RMSE: 1.5806\n",
      "Epoch: 4 - Train RMSE: 1.5913, Validation RMSE: 1.5520\n",
      "Epoch: 5 - Train RMSE: 1.5715, Validation RMSE: 1.5344\n",
      "Epoch: 6 - Train RMSE: 1.5551, Validation RMSE: 1.5165\n",
      "Epoch: 7 - Train RMSE: 1.5398, Validation RMSE: 1.5022\n",
      "Epoch: 8 - Train RMSE: 1.5271, Validation RMSE: 1.4914\n",
      "Epoch: 9 - Train RMSE: 1.5162, Validation RMSE: 1.4832\n",
      "Epoch: 10 - Train RMSE: 1.5065, Validation RMSE: 1.4754\n",
      "Evaluating combination 6/18: K=30, lr=0.005, reg=0.1, epochs=10\n",
      "Epoch: 1 - Train RMSE: 1.7352, Validation RMSE: 1.6294\n",
      "Epoch: 2 - Train RMSE: 1.6505, Validation RMSE: 1.6032\n",
      "Epoch: 3 - Train RMSE: 1.6379, Validation RMSE: 1.5935\n",
      "Epoch: 4 - Train RMSE: 1.6294, Validation RMSE: 1.5765\n",
      "Epoch: 5 - Train RMSE: 1.6151, Validation RMSE: 1.5555\n",
      "Epoch: 6 - Train RMSE: 1.6041, Validation RMSE: 1.5440\n",
      "Epoch: 7 - Train RMSE: 1.5966, Validation RMSE: 1.5343\n",
      "Epoch: 8 - Train RMSE: 1.5896, Validation RMSE: 1.5249\n",
      "Epoch: 9 - Train RMSE: 1.5834, Validation RMSE: 1.5166\n",
      "Epoch: 10 - Train RMSE: 1.5785, Validation RMSE: 1.5108\n",
      "Evaluating combination 7/18: K=35, lr=0.0005, reg=0.05, epochs=10\n",
      "Epoch: 1 - Train RMSE: 1.9153, Validation RMSE: 1.8239\n",
      "Epoch: 2 - Train RMSE: 1.7923, Validation RMSE: 1.7512\n",
      "Epoch: 3 - Train RMSE: 1.7414, Validation RMSE: 1.7120\n",
      "Epoch: 4 - Train RMSE: 1.7113, Validation RMSE: 1.6867\n",
      "Epoch: 5 - Train RMSE: 1.6909, Validation RMSE: 1.6688\n",
      "Epoch: 6 - Train RMSE: 1.6761, Validation RMSE: 1.6553\n",
      "Epoch: 7 - Train RMSE: 1.6647, Validation RMSE: 1.6449\n",
      "Epoch: 8 - Train RMSE: 1.6557, Validation RMSE: 1.6365\n",
      "Epoch: 9 - Train RMSE: 1.6485, Validation RMSE: 1.6297\n",
      "Epoch: 10 - Train RMSE: 1.6425, Validation RMSE: 1.6241\n",
      "Evaluating combination 8/18: K=35, lr=0.0005, reg=0.1, epochs=10\n",
      "Epoch: 1 - Train RMSE: 1.9187, Validation RMSE: 1.8260\n",
      "Epoch: 2 - Train RMSE: 1.8012, Validation RMSE: 1.7541\n",
      "Epoch: 3 - Train RMSE: 1.7534, Validation RMSE: 1.7153\n",
      "Epoch: 4 - Train RMSE: 1.7253, Validation RMSE: 1.6902\n",
      "Epoch: 5 - Train RMSE: 1.7063, Validation RMSE: 1.6725\n",
      "Epoch: 6 - Train RMSE: 1.6925, Validation RMSE: 1.6592\n",
      "Epoch: 7 - Train RMSE: 1.6820, Validation RMSE: 1.6488\n",
      "Epoch: 8 - Train RMSE: 1.6737, Validation RMSE: 1.6405\n",
      "Epoch: 9 - Train RMSE: 1.6671, Validation RMSE: 1.6338\n",
      "Epoch: 10 - Train RMSE: 1.6617, Validation RMSE: 1.6282\n",
      "Evaluating combination 9/18: K=35, lr=0.001, reg=0.05, epochs=10\n",
      "Epoch: 1 - Train RMSE: 1.8555, Validation RMSE: 1.7512\n",
      "Epoch: 2 - Train RMSE: 1.7272, Validation RMSE: 1.6868\n",
      "Epoch: 3 - Train RMSE: 1.6842, Validation RMSE: 1.6554\n",
      "Epoch: 4 - Train RMSE: 1.6609, Validation RMSE: 1.6366\n",
      "Epoch: 5 - Train RMSE: 1.6462, Validation RMSE: 1.6241\n",
      "Epoch: 6 - Train RMSE: 1.6362, Validation RMSE: 1.6154\n",
      "Epoch: 7 - Train RMSE: 1.6291, Validation RMSE: 1.6090\n",
      "Epoch: 8 - Train RMSE: 1.6239, Validation RMSE: 1.6041\n",
      "Epoch: 9 - Train RMSE: 1.6199, Validation RMSE: 1.6004\n",
      "Epoch: 10 - Train RMSE: 1.6167, Validation RMSE: 1.5972\n",
      "Evaluating combination 10/18: K=35, lr=0.001, reg=0.1, epochs=10\n",
      "Epoch: 1 - Train RMSE: 1.8616, Validation RMSE: 1.7540\n",
      "Epoch: 2 - Train RMSE: 1.7401, Validation RMSE: 1.6903\n",
      "Epoch: 3 - Train RMSE: 1.7001, Validation RMSE: 1.6592\n",
      "Epoch: 4 - Train RMSE: 1.6785, Validation RMSE: 1.6406\n",
      "Epoch: 5 - Train RMSE: 1.6651, Validation RMSE: 1.6282\n",
      "Epoch: 6 - Train RMSE: 1.6560, Validation RMSE: 1.6195\n",
      "Epoch: 7 - Train RMSE: 1.6496, Validation RMSE: 1.6133\n",
      "Epoch: 8 - Train RMSE: 1.6450, Validation RMSE: 1.6086\n",
      "Epoch: 9 - Train RMSE: 1.6415, Validation RMSE: 1.6048\n",
      "Epoch: 10 - Train RMSE: 1.6388, Validation RMSE: 1.6018\n",
      "Evaluating combination 11/18: K=35, lr=0.005, reg=0.05, epochs=10\n",
      "Epoch: 1 - Train RMSE: 1.7211, Validation RMSE: 1.6256\n",
      "Epoch: 2 - Train RMSE: 1.6296, Validation RMSE: 1.5992\n",
      "Epoch: 3 - Train RMSE: 1.6132, Validation RMSE: 1.5822\n",
      "Epoch: 4 - Train RMSE: 1.5924, Validation RMSE: 1.5529\n",
      "Epoch: 5 - Train RMSE: 1.5716, Validation RMSE: 1.5333\n",
      "Epoch: 6 - Train RMSE: 1.5550, Validation RMSE: 1.5168\n",
      "Epoch: 7 - Train RMSE: 1.5408, Validation RMSE: 1.5041\n",
      "Epoch: 8 - Train RMSE: 1.5290, Validation RMSE: 1.4938\n",
      "Epoch: 9 - Train RMSE: 1.5183, Validation RMSE: 1.4851\n",
      "Epoch: 10 - Train RMSE: 1.5085, Validation RMSE: 1.4775\n",
      "Evaluating combination 12/18: K=35, lr=0.005, reg=0.1, epochs=10\n",
      "Epoch: 1 - Train RMSE: 1.7350, Validation RMSE: 1.6299\n",
      "Epoch: 2 - Train RMSE: 1.6505, Validation RMSE: 1.6032\n",
      "Epoch: 3 - Train RMSE: 1.6379, Validation RMSE: 1.5938\n",
      "Epoch: 4 - Train RMSE: 1.6297, Validation RMSE: 1.5771\n",
      "Epoch: 5 - Train RMSE: 1.6155, Validation RMSE: 1.5560\n",
      "Epoch: 6 - Train RMSE: 1.6045, Validation RMSE: 1.5450\n",
      "Epoch: 7 - Train RMSE: 1.5972, Validation RMSE: 1.5354\n",
      "Epoch: 8 - Train RMSE: 1.5903, Validation RMSE: 1.5253\n",
      "Epoch: 9 - Train RMSE: 1.5838, Validation RMSE: 1.5163\n",
      "Epoch: 10 - Train RMSE: 1.5784, Validation RMSE: 1.5098\n",
      "Evaluating combination 13/18: K=40, lr=0.0005, reg=0.05, epochs=10\n",
      "Epoch: 1 - Train RMSE: 1.9151, Validation RMSE: 1.8239\n",
      "Epoch: 2 - Train RMSE: 1.7922, Validation RMSE: 1.7511\n",
      "Epoch: 3 - Train RMSE: 1.7413, Validation RMSE: 1.7120\n",
      "Epoch: 4 - Train RMSE: 1.7113, Validation RMSE: 1.6867\n",
      "Epoch: 5 - Train RMSE: 1.6909, Validation RMSE: 1.6688\n",
      "Epoch: 6 - Train RMSE: 1.6760, Validation RMSE: 1.6554\n",
      "Epoch: 7 - Train RMSE: 1.6646, Validation RMSE: 1.6449\n",
      "Epoch: 8 - Train RMSE: 1.6556, Validation RMSE: 1.6366\n",
      "Epoch: 9 - Train RMSE: 1.6484, Validation RMSE: 1.6297\n",
      "Epoch: 10 - Train RMSE: 1.6425, Validation RMSE: 1.6241\n",
      "Evaluating combination 14/18: K=40, lr=0.0005, reg=0.1, epochs=10\n",
      "Epoch: 1 - Train RMSE: 1.9186, Validation RMSE: 1.8260\n",
      "Epoch: 2 - Train RMSE: 1.8010, Validation RMSE: 1.7540\n",
      "Epoch: 3 - Train RMSE: 1.7532, Validation RMSE: 1.7153\n",
      "Epoch: 4 - Train RMSE: 1.7251, Validation RMSE: 1.6902\n",
      "Epoch: 5 - Train RMSE: 1.7061, Validation RMSE: 1.6725\n",
      "Epoch: 6 - Train RMSE: 1.6924, Validation RMSE: 1.6592\n",
      "Epoch: 7 - Train RMSE: 1.6819, Validation RMSE: 1.6488\n",
      "Epoch: 8 - Train RMSE: 1.6736, Validation RMSE: 1.6405\n",
      "Epoch: 9 - Train RMSE: 1.6670, Validation RMSE: 1.6337\n",
      "Epoch: 10 - Train RMSE: 1.6616, Validation RMSE: 1.6281\n",
      "Evaluating combination 15/18: K=40, lr=0.001, reg=0.05, epochs=10\n",
      "Epoch: 1 - Train RMSE: 1.8554, Validation RMSE: 1.7511\n",
      "Epoch: 2 - Train RMSE: 1.7271, Validation RMSE: 1.6867\n",
      "Epoch: 3 - Train RMSE: 1.6841, Validation RMSE: 1.6554\n",
      "Epoch: 4 - Train RMSE: 1.6608, Validation RMSE: 1.6366\n",
      "Epoch: 5 - Train RMSE: 1.6461, Validation RMSE: 1.6241\n",
      "Epoch: 6 - Train RMSE: 1.6362, Validation RMSE: 1.6154\n",
      "Epoch: 7 - Train RMSE: 1.6291, Validation RMSE: 1.6090\n",
      "Epoch: 8 - Train RMSE: 1.6239, Validation RMSE: 1.6042\n",
      "Epoch: 9 - Train RMSE: 1.6199, Validation RMSE: 1.6005\n",
      "Epoch: 10 - Train RMSE: 1.6168, Validation RMSE: 1.5974\n",
      "Evaluating combination 16/18: K=40, lr=0.001, reg=0.1, epochs=10\n",
      "Epoch: 1 - Train RMSE: 1.8615, Validation RMSE: 1.7540\n",
      "Epoch: 2 - Train RMSE: 1.7399, Validation RMSE: 1.6903\n",
      "Epoch: 3 - Train RMSE: 1.7000, Validation RMSE: 1.6592\n",
      "Epoch: 4 - Train RMSE: 1.6784, Validation RMSE: 1.6406\n",
      "Epoch: 5 - Train RMSE: 1.6650, Validation RMSE: 1.6283\n",
      "Epoch: 6 - Train RMSE: 1.6559, Validation RMSE: 1.6196\n",
      "Epoch: 7 - Train RMSE: 1.6496, Validation RMSE: 1.6132\n",
      "Epoch: 8 - Train RMSE: 1.6449, Validation RMSE: 1.6085\n",
      "Epoch: 9 - Train RMSE: 1.6414, Validation RMSE: 1.6048\n",
      "Epoch: 10 - Train RMSE: 1.6387, Validation RMSE: 1.6019\n",
      "Evaluating combination 17/18: K=40, lr=0.005, reg=0.05, epochs=10\n",
      "Epoch: 1 - Train RMSE: 1.7209, Validation RMSE: 1.6255\n",
      "Epoch: 2 - Train RMSE: 1.6295, Validation RMSE: 1.5989\n",
      "Epoch: 3 - Train RMSE: 1.6129, Validation RMSE: 1.5811\n",
      "Epoch: 4 - Train RMSE: 1.5916, Validation RMSE: 1.5523\n",
      "Epoch: 5 - Train RMSE: 1.5718, Validation RMSE: 1.5343\n",
      "Epoch: 6 - Train RMSE: 1.5557, Validation RMSE: 1.5173\n",
      "Epoch: 7 - Train RMSE: 1.5411, Validation RMSE: 1.5037\n",
      "Epoch: 8 - Train RMSE: 1.5288, Validation RMSE: 1.4932\n",
      "Epoch: 9 - Train RMSE: 1.5179, Validation RMSE: 1.4837\n",
      "Epoch: 10 - Train RMSE: 1.5078, Validation RMSE: 1.4760\n",
      "Evaluating combination 18/18: K=40, lr=0.005, reg=0.1, epochs=10\n",
      "Epoch: 1 - Train RMSE: 1.7349, Validation RMSE: 1.6297\n",
      "Epoch: 2 - Train RMSE: 1.6504, Validation RMSE: 1.6032\n",
      "Epoch: 3 - Train RMSE: 1.6377, Validation RMSE: 1.5930\n",
      "Epoch: 4 - Train RMSE: 1.6287, Validation RMSE: 1.5752\n",
      "Epoch: 5 - Train RMSE: 1.6141, Validation RMSE: 1.5551\n",
      "Epoch: 6 - Train RMSE: 1.6038, Validation RMSE: 1.5446\n",
      "Epoch: 7 - Train RMSE: 1.5967, Validation RMSE: 1.5347\n",
      "Epoch: 8 - Train RMSE: 1.5900, Validation RMSE: 1.5254\n",
      "Epoch: 9 - Train RMSE: 1.5838, Validation RMSE: 1.5170\n",
      "Epoch: 10 - Train RMSE: 1.5786, Validation RMSE: 1.5104\n"
     ]
    }
   ],
   "source": [
    "results_df = mf_hyperparameter_tuning(\n",
    "    train_R=train_R,\n",
    "    hyperparameter_combinations=hyperparameter_combinations,\n",
    "    val_R=val_R\n",
    ")"
   ]
  },
  {
   "cell_type": "code",
   "execution_count": 22,
   "id": "afb113df",
   "metadata": {
    "execution": {
     "iopub.execute_input": "2024-12-17T05:28:37.042463Z",
     "iopub.status.busy": "2024-12-17T05:28:37.042186Z",
     "iopub.status.idle": "2024-12-17T05:28:37.049865Z",
     "shell.execute_reply": "2024-12-17T05:28:37.049021Z"
    },
    "papermill": {
     "duration": 0.023172,
     "end_time": "2024-12-17T05:28:37.051582",
     "exception": false,
     "start_time": "2024-12-17T05:28:37.028410",
     "status": "completed"
    },
    "tags": []
   },
   "outputs": [
    {
     "name": "stdout",
     "output_type": "stream",
     "text": [
      "Best Hyperparameters:\n",
      "K                  30.000000\n",
      "learning_rate       0.005000\n",
      "regularization      0.050000\n",
      "epochs             10.000000\n",
      "validation_RMSE     1.475371\n",
      "Name: 4, dtype: float64\n"
     ]
    }
   ],
   "source": [
    "# Find the combination with the lowest validation RMSE\n",
    "best_result = results_df.loc[results_df['validation_RMSE'].idxmin()]\n",
    "print(\"Best Hyperparameters:\")\n",
    "print(best_result)"
   ]
  }
 ],
 "metadata": {
  "kaggle": {
   "accelerator": "gpu",
   "dataSources": [
    {
     "datasetId": 6318180,
     "sourceId": 10220578,
     "sourceType": "datasetVersion"
    }
   ],
   "dockerImageVersionId": 30804,
   "isGpuEnabled": true,
   "isInternetEnabled": true,
   "language": "python",
   "sourceType": "notebook"
  },
  "kernelspec": {
   "display_name": "Python 3",
   "language": "python",
   "name": "python3"
  },
  "language_info": {
   "codemirror_mode": {
    "name": "ipython",
    "version": 3
   },
   "file_extension": ".py",
   "mimetype": "text/x-python",
   "name": "python",
   "nbconvert_exporter": "python",
   "pygments_lexer": "ipython3",
   "version": "3.11.9"
  },
  "papermill": {
   "default_parameters": {},
   "duration": 22304.056713,
   "end_time": "2024-12-17T05:28:37.582580",
   "environment_variables": {},
   "exception": null,
   "input_path": "__notebook__.ipynb",
   "output_path": "__notebook__.ipynb",
   "parameters": {},
   "start_time": "2024-12-16T23:16:53.525867",
   "version": "2.6.0"
  }
 },
 "nbformat": 4,
 "nbformat_minor": 5
}
