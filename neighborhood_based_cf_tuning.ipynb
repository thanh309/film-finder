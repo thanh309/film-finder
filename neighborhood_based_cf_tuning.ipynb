{
 "cells": [
  {
   "cell_type": "markdown",
   "metadata": {},
   "source": [
    "## **Hyperparameter Tuning: Neighborhood-Based Collaborative Filtering**\n",
    "\n",
    "### **Import necessary library**"
   ]
  },
  {
   "cell_type": "code",
   "execution_count": 11,
   "metadata": {},
   "outputs": [],
   "source": [
    "import pandas as pd \n",
    "import numpy as np \n",
    "import math \n",
    "from collaborative_filtering import build_utility_matrix, neighborhood_hyperparameter_tuning"
   ]
  },
  {
   "cell_type": "code",
   "execution_count": 3,
   "metadata": {},
   "outputs": [],
   "source": [
    "import pandas as pd\n",
    "\n",
    "part_ids = range(2, 11)\n",
    "\n",
    "# Read the first file\n",
    "data = pd.read_csv('resources/data/split_ratings/ratings_part_1.txt', header=None)\n",
    "\n",
    "# Loop through other files\n",
    "for id in part_ids:\n",
    "    file_path = f'resources/data/split_ratings/ratings_part_{id}.txt'\n",
    "    try:\n",
    "        tmp = pd.read_csv(file_path, on_bad_lines=\"skip\", header=None)  # Skip problematic rows\n",
    "        data = pd.concat([data, tmp], ignore_index=True)\n",
    "    except Exception as e:\n",
    "        print(f\"Error reading file {file_path}: {e}\")\n",
    "\n",
    "data.columns =['UserID', 'MovieID', 'Rating']\n",
    "\n",
    "# data = pd.read_csv('resources/data/split_ratings/ratings_part_1.txt', header=None)\n",
    "# data.columns =['UserID', 'MovieID', 'Rating']"
   ]
  },
  {
   "cell_type": "code",
   "execution_count": 4,
   "metadata": {},
   "outputs": [],
   "source": [
    "data = data.sort_values(by=['UserID', 'MovieID'])\n",
    "data = data.reset_index()\n",
    "data = data.drop(columns=['index'])"
   ]
  },
  {
   "cell_type": "code",
   "execution_count": 5,
   "metadata": {},
   "outputs": [
    {
     "data": {
      "text/html": [
       "<div>\n",
       "<style scoped>\n",
       "    .dataframe tbody tr th:only-of-type {\n",
       "        vertical-align: middle;\n",
       "    }\n",
       "\n",
       "    .dataframe tbody tr th {\n",
       "        vertical-align: top;\n",
       "    }\n",
       "\n",
       "    .dataframe thead th {\n",
       "        text-align: right;\n",
       "    }\n",
       "</style>\n",
       "<table border=\"1\" class=\"dataframe\">\n",
       "  <thead>\n",
       "    <tr style=\"text-align: right;\">\n",
       "      <th></th>\n",
       "      <th>UserID</th>\n",
       "      <th>MovieID</th>\n",
       "      <th>Rating</th>\n",
       "    </tr>\n",
       "  </thead>\n",
       "  <tbody>\n",
       "    <tr>\n",
       "      <th>0</th>\n",
       "      <td>66</td>\n",
       "      <td>68646</td>\n",
       "      <td>10</td>\n",
       "    </tr>\n",
       "    <tr>\n",
       "      <th>1</th>\n",
       "      <td>66</td>\n",
       "      <td>71562</td>\n",
       "      <td>10</td>\n",
       "    </tr>\n",
       "    <tr>\n",
       "      <th>2</th>\n",
       "      <td>66</td>\n",
       "      <td>76759</td>\n",
       "      <td>10</td>\n",
       "    </tr>\n",
       "    <tr>\n",
       "      <th>3</th>\n",
       "      <td>66</td>\n",
       "      <td>80684</td>\n",
       "      <td>10</td>\n",
       "    </tr>\n",
       "    <tr>\n",
       "      <th>4</th>\n",
       "      <td>66</td>\n",
       "      <td>88763</td>\n",
       "      <td>8</td>\n",
       "    </tr>\n",
       "  </tbody>\n",
       "</table>\n",
       "</div>"
      ],
      "text/plain": [
       "   UserID  MovieID  Rating\n",
       "0      66    68646      10\n",
       "1      66    71562      10\n",
       "2      66    76759      10\n",
       "3      66    80684      10\n",
       "4      66    88763       8"
      ]
     },
     "execution_count": 5,
     "metadata": {},
     "output_type": "execute_result"
    }
   ],
   "source": [
    "data.head()"
   ]
  },
  {
   "cell_type": "code",
   "execution_count": 6,
   "metadata": {},
   "outputs": [
    {
     "data": {
      "text/html": [
       "<div>\n",
       "<style scoped>\n",
       "    .dataframe tbody tr th:only-of-type {\n",
       "        vertical-align: middle;\n",
       "    }\n",
       "\n",
       "    .dataframe tbody tr th {\n",
       "        vertical-align: top;\n",
       "    }\n",
       "\n",
       "    .dataframe thead th {\n",
       "        text-align: right;\n",
       "    }\n",
       "</style>\n",
       "<table border=\"1\" class=\"dataframe\">\n",
       "  <thead>\n",
       "    <tr style=\"text-align: right;\">\n",
       "      <th></th>\n",
       "      <th>UserID</th>\n",
       "      <th>MovieID</th>\n",
       "      <th>Rating</th>\n",
       "    </tr>\n",
       "  </thead>\n",
       "  <tbody>\n",
       "    <tr>\n",
       "      <th>4680501</th>\n",
       "      <td>190007800</td>\n",
       "      <td>8115900</td>\n",
       "      <td>7</td>\n",
       "    </tr>\n",
       "    <tr>\n",
       "      <th>4680502</th>\n",
       "      <td>190007800</td>\n",
       "      <td>10872600</td>\n",
       "      <td>10</td>\n",
       "    </tr>\n",
       "    <tr>\n",
       "      <th>4680503</th>\n",
       "      <td>190007800</td>\n",
       "      <td>12412888</td>\n",
       "      <td>9</td>\n",
       "    </tr>\n",
       "    <tr>\n",
       "      <th>4680504</th>\n",
       "      <td>190007800</td>\n",
       "      <td>19623240</td>\n",
       "      <td>1</td>\n",
       "    </tr>\n",
       "    <tr>\n",
       "      <th>4680505</th>\n",
       "      <td>190007800</td>\n",
       "      <td>21235248</td>\n",
       "      <td>8</td>\n",
       "    </tr>\n",
       "  </tbody>\n",
       "</table>\n",
       "</div>"
      ],
      "text/plain": [
       "            UserID   MovieID  Rating\n",
       "4680501  190007800   8115900       7\n",
       "4680502  190007800  10872600      10\n",
       "4680503  190007800  12412888       9\n",
       "4680504  190007800  19623240       1\n",
       "4680505  190007800  21235248       8"
      ]
     },
     "execution_count": 6,
     "metadata": {},
     "output_type": "execute_result"
    }
   ],
   "source": [
    "data.tail()"
   ]
  },
  {
   "cell_type": "code",
   "execution_count": 7,
   "metadata": {},
   "outputs": [],
   "source": [
    "# # Count the number of interactions for each movie\n",
    "# movie_counts =data['MovieID'].value_counts()\n",
    "\n",
    "# # Filter out movies appear < 10 times \n",
    "# movies_to_keep = movie_counts[movie_counts >= 10].index\n",
    "# data = data[data['MovieID'].isin(movies_to_keep)]\n",
    "\n",
    "# # Count the number of interactions for each user\n",
    "# user_counts = data['UserID'].value_counts()\n",
    "\n",
    "# # Filter out users appear < 10 times \n",
    "# users_to_keep = user_counts[user_counts >= 10].index \n",
    "# data = data[data['UserID'].isin(users_to_keep)]"
   ]
  },
  {
   "cell_type": "code",
   "execution_count": 8,
   "metadata": {},
   "outputs": [
    {
     "data": {
      "text/plain": [
       "(11381, 9814)"
      ]
     },
     "execution_count": 8,
     "metadata": {},
     "output_type": "execute_result"
    }
   ],
   "source": [
    "num_users = data.UserID.unique().shape[0]\n",
    "num_movies = data.MovieID.unique().shape[0]\n",
    "num_users, num_movies"
   ]
  },
  {
   "cell_type": "markdown",
   "metadata": {},
   "source": [
    "### **Split data**"
   ]
  },
  {
   "cell_type": "code",
   "execution_count": 9,
   "metadata": {},
   "outputs": [],
   "source": [
    "def split_data(df, test_size=0.3, random_state=42):\n",
    "    np.random.seed(random_state)\n",
    "    \n",
    "    # Preprocessing Step: Remove movies with frequency = 1\n",
    "    movie_counts = df['MovieID'].value_counts()\n",
    "    movies_to_keep = movie_counts[movie_counts > 1].index\n",
    "    df = df[df['MovieID'].isin(movies_to_keep)].reset_index(drop=True)\n",
    "    \n",
    "    # Initialize sets to keep track of test indices\n",
    "    test_indices = set()\n",
    "    \n",
    "    # Ensure each user has at least one entry in test set\n",
    "    for user_id, group in df.groupby('UserID'):\n",
    "        if len(group) >= 1:\n",
    "            test_count = max(1, int(len(group) * test_size))\n",
    "            test_sample = np.random.choice(group.index, size=test_count, replace=False)\n",
    "            test_indices.update(test_sample)\n",
    "    \n",
    "    # Ensure each movie has at least one entry in test set\n",
    "    for movie_id, group in df.groupby('MovieID'):\n",
    "        # Find indices not already in test set\n",
    "        remaining_indices = list(set(group.index) - test_indices)\n",
    "        if remaining_indices:\n",
    "            test_sample = np.random.choice(remaining_indices, size=1, replace=False)\n",
    "            test_indices.update(test_sample)\n",
    "    \n",
    "    # Create test and train datasets\n",
    "    test_df = df.loc[list(test_indices)].reset_index(drop=True)\n",
    "    train_df = df.drop(list(test_indices)).reset_index(drop=True)\n",
    "    \n",
    "    # Optional: Verify that both train and test have the same users and movies\n",
    "    common_users = set(train_df['UserID']).intersection(set(test_df['UserID']))\n",
    "    common_movies = set(train_df['MovieID']).intersection(set(test_df['MovieID']))\n",
    "    \n",
    "    train_df = train_df[train_df['UserID'].isin(common_users) & train_df['MovieID'].isin(common_movies)].reset_index(drop=True)\n",
    "    test_df = test_df[test_df['UserID'].isin(common_users) & test_df['MovieID'].isin(common_movies)].reset_index(drop=True)\n",
    "    \n",
    "    return train_df, test_df\n",
    "\n",
    "# Example usage:\n",
    "# Assuming your dataframe is named `df` and has columns 'UserID' and 'MovieID'\n",
    "# train, test = split_data(df, test_size=0.2, random_state=42)\n"
   ]
  },
  {
   "cell_type": "code",
   "execution_count": 10,
   "metadata": {},
   "outputs": [
    {
     "ename": "KeyboardInterrupt",
     "evalue": "",
     "output_type": "error",
     "traceback": [
      "\u001b[1;31m---------------------------------------------------------------------------\u001b[0m",
      "\u001b[1;31mKeyboardInterrupt\u001b[0m                         Traceback (most recent call last)",
      "Cell \u001b[1;32mIn[10], line 1\u001b[0m\n\u001b[1;32m----> 1\u001b[0m train_data, test_data \u001b[38;5;241m=\u001b[39m \u001b[43msplit_data\u001b[49m\u001b[43m(\u001b[49m\u001b[43mdata\u001b[49m\u001b[43m)\u001b[49m\n",
      "Cell \u001b[1;32mIn[9], line 16\u001b[0m, in \u001b[0;36msplit_data\u001b[1;34m(df, test_size, random_state)\u001b[0m\n\u001b[0;32m     14\u001b[0m     \u001b[38;5;28;01mif\u001b[39;00m \u001b[38;5;28mlen\u001b[39m(group) \u001b[38;5;241m>\u001b[39m\u001b[38;5;241m=\u001b[39m \u001b[38;5;241m1\u001b[39m:\n\u001b[0;32m     15\u001b[0m         test_count \u001b[38;5;241m=\u001b[39m \u001b[38;5;28mmax\u001b[39m(\u001b[38;5;241m1\u001b[39m, \u001b[38;5;28mint\u001b[39m(\u001b[38;5;28mlen\u001b[39m(group) \u001b[38;5;241m*\u001b[39m test_size))\n\u001b[1;32m---> 16\u001b[0m         test_sample \u001b[38;5;241m=\u001b[39m \u001b[43mnp\u001b[49m\u001b[38;5;241;43m.\u001b[39;49m\u001b[43mrandom\u001b[49m\u001b[38;5;241;43m.\u001b[39;49m\u001b[43mchoice\u001b[49m\u001b[43m(\u001b[49m\u001b[43mgroup\u001b[49m\u001b[38;5;241;43m.\u001b[39;49m\u001b[43mindex\u001b[49m\u001b[43m,\u001b[49m\u001b[43m \u001b[49m\u001b[43msize\u001b[49m\u001b[38;5;241;43m=\u001b[39;49m\u001b[43mtest_count\u001b[49m\u001b[43m,\u001b[49m\u001b[43m \u001b[49m\u001b[43mreplace\u001b[49m\u001b[38;5;241;43m=\u001b[39;49m\u001b[38;5;28;43;01mFalse\u001b[39;49;00m\u001b[43m)\u001b[49m\n\u001b[0;32m     17\u001b[0m         test_indices\u001b[38;5;241m.\u001b[39mupdate(test_sample)\n\u001b[0;32m     19\u001b[0m \u001b[38;5;66;03m# Ensure each movie has at least one entry in test set\u001b[39;00m\n",
      "\u001b[1;31mKeyboardInterrupt\u001b[0m: "
     ]
    }
   ],
   "source": [
    "train_data, test_data = split_data(data)"
   ]
  },
  {
   "cell_type": "code",
   "execution_count": null,
   "metadata": {},
   "outputs": [],
   "source": [
    "train_data.head()"
   ]
  },
  {
   "cell_type": "code",
   "execution_count": null,
   "metadata": {},
   "outputs": [],
   "source": [
    "train_data.tail()"
   ]
  },
  {
   "cell_type": "code",
   "execution_count": null,
   "metadata": {},
   "outputs": [],
   "source": [
    "num_users = train_data.UserID.unique().shape[0]\n",
    "num_movies = train_data.MovieID.unique().shape[0]\n",
    "num_users, num_movies"
   ]
  },
  {
   "cell_type": "code",
   "execution_count": null,
   "metadata": {},
   "outputs": [],
   "source": [
    "test_data.head()"
   ]
  },
  {
   "cell_type": "code",
   "execution_count": null,
   "metadata": {},
   "outputs": [],
   "source": [
    "test_data.tail()"
   ]
  },
  {
   "cell_type": "code",
   "execution_count": null,
   "metadata": {},
   "outputs": [],
   "source": [
    "num_users = test_data.UserID.unique().shape[0]\n",
    "num_movies = test_data.MovieID.unique().shape[0]\n",
    "num_users, num_movies"
   ]
  },
  {
   "cell_type": "code",
   "execution_count": 33,
   "metadata": {},
   "outputs": [],
   "source": [
    "movies = train_data.MovieID.drop_duplicates()\n",
    "movies = pd.DataFrame(movies, columns=['MovieID'])\n",
    "movies = movies.sort_values('MovieID', ascending=True)\n",
    "movies = movies[['MovieID']]\n",
    "movies = movies.reset_index()"
   ]
  },
  {
   "cell_type": "code",
   "execution_count": 34,
   "metadata": {},
   "outputs": [],
   "source": [
    "users = train_data.UserID.drop_duplicates()\n",
    "users = pd.DataFrame(users, columns=['UserID'])\n",
    "users = users.sort_values('UserID', ascending=True)\n",
    "users = users[['UserID']]\n",
    "users = users.reset_index()"
   ]
  },
  {
   "cell_type": "markdown",
   "metadata": {},
   "source": [
    "### **Build Utility Matrix**"
   ]
  },
  {
   "cell_type": "code",
   "execution_count": null,
   "metadata": {},
   "outputs": [],
   "source": [
    "utility_matrix = build_utility_matrix(train_data)\n",
    "utility_matrix"
   ]
  },
  {
   "cell_type": "markdown",
   "metadata": {},
   "source": [
    "### **Defining the Hyperparameter Grid**"
   ]
  },
  {
   "cell_type": "code",
   "execution_count": 19,
   "metadata": {},
   "outputs": [],
   "source": [
    "from itertools import product\n",
    "\n",
    "# Define the hyperparameter grid\n",
    "k_neighbors = [10, 15, 20, 25, 30, 35, 40, 45, 50]\n",
    "uu_cf = [True, False]\n",
    "cosine = [True, False]\n",
    "\n",
    "# Create all possible combinations of hyperparameters\n",
    "hyperparameter_combinations = list(product(k_neighbors, uu_cf, cosine))\n"
   ]
  },
  {
   "cell_type": "markdown",
   "metadata": {},
   "source": [
    "### **Evaluating each combination**"
   ]
  },
  {
   "cell_type": "code",
   "execution_count": null,
   "metadata": {},
   "outputs": [],
   "source": [
    "results_df = neighborhood_hyperparameter_tuning(\n",
    "    R=utility_matrix,\n",
    "    hyperparameter_combinations=hyperparameter_combinations,\n",
    "    validation_ratio=0.2\n",
    ")"
   ]
  },
  {
   "cell_type": "code",
   "execution_count": null,
   "metadata": {},
   "outputs": [],
   "source": [
    "# Find the combination with the lowest validation RMSE\n",
    "best_result = results_df.loc[results_df['validation_RMSE'].idxmin()]\n",
    "print(\"Best Hyperparameters:\")\n",
    "print(best_result)"
   ]
  }
 ],
 "metadata": {
  "kernelspec": {
   "display_name": "Python 3",
   "language": "python",
   "name": "python3"
  },
  "language_info": {
   "codemirror_mode": {
    "name": "ipython",
    "version": 3
   },
   "file_extension": ".py",
   "mimetype": "text/x-python",
   "name": "python",
   "nbconvert_exporter": "python",
   "pygments_lexer": "ipython3",
   "version": "3.11.9"
  }
 },
 "nbformat": 4,
 "nbformat_minor": 2
}
