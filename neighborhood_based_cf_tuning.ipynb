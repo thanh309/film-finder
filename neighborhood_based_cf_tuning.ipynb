{
 "cells": [
  {
   "cell_type": "markdown",
   "id": "f7eddb73",
   "metadata": {
    "papermill": {
     "duration": 0.00514,
     "end_time": "2024-12-16T23:23:46.075243",
     "exception": false,
     "start_time": "2024-12-16T23:23:46.070103",
     "status": "completed"
    },
    "tags": []
   },
   "source": [
    "## **Hyperparameter Tuning: Neighborhood-Based Collaborative Filtering**\n",
    "\n",
    "### **Import necessary library**"
   ]
  },
  {
   "cell_type": "code",
   "execution_count": 3,
   "id": "eb576172",
   "metadata": {
    "execution": {
     "iopub.execute_input": "2024-12-16T23:23:47.996935Z",
     "iopub.status.busy": "2024-12-16T23:23:47.996576Z",
     "iopub.status.idle": "2024-12-16T23:23:48.000266Z",
     "shell.execute_reply": "2024-12-16T23:23:47.999509Z"
    },
    "papermill": {
     "duration": 0.010543,
     "end_time": "2024-12-16T23:23:48.001848",
     "exception": false,
     "start_time": "2024-12-16T23:23:47.991305",
     "status": "completed"
    },
    "tags": []
   },
   "outputs": [],
   "source": [
    "import pandas as pd \n",
    "import numpy as np \n",
    "import math \n",
    "from collaborative_filtering import build_utility_matrix, neighborhood_hyperparameter_tuning"
   ]
  },
  {
   "cell_type": "code",
   "execution_count": 4,
   "id": "394a7289",
   "metadata": {
    "execution": {
     "iopub.execute_input": "2024-12-16T23:23:48.011675Z",
     "iopub.status.busy": "2024-12-16T23:23:48.011439Z",
     "iopub.status.idle": "2024-12-16T23:23:49.959242Z",
     "shell.execute_reply": "2024-12-16T23:23:49.958538Z"
    },
    "papermill": {
     "duration": 1.954933,
     "end_time": "2024-12-16T23:23:49.961240",
     "exception": false,
     "start_time": "2024-12-16T23:23:48.006307",
     "status": "completed"
    },
    "tags": []
   },
   "outputs": [],
   "source": [
    "train_data = pd.read_csv('resources/data/train_val_test/ratings_train.csv', header=None, names=['UserID', 'MovieID', 'Rating'])\n",
    "test_data = pd.read_csv('resources/data/train_val_test/ratings_test.csv', header=None, names=['UserID', 'MovieID', 'Rating'])\n",
    "val_data = pd.read_csv('resources/data/train_val_test/ratings_val.csv', header=None, names=['UserID', 'MovieID', 'Rating'])"
   ]
  },
  {
   "cell_type": "code",
   "execution_count": 5,
   "id": "79f92bc2",
   "metadata": {
    "execution": {
     "iopub.execute_input": "2024-12-16T23:23:49.971494Z",
     "iopub.status.busy": "2024-12-16T23:23:49.971178Z",
     "iopub.status.idle": "2024-12-16T23:23:49.985128Z",
     "shell.execute_reply": "2024-12-16T23:23:49.984298Z"
    },
    "papermill": {
     "duration": 0.021031,
     "end_time": "2024-12-16T23:23:49.986931",
     "exception": false,
     "start_time": "2024-12-16T23:23:49.965900",
     "status": "completed"
    },
    "tags": []
   },
   "outputs": [
    {
     "data": {
      "text/html": [
       "<div>\n",
       "<style scoped>\n",
       "    .dataframe tbody tr th:only-of-type {\n",
       "        vertical-align: middle;\n",
       "    }\n",
       "\n",
       "    .dataframe tbody tr th {\n",
       "        vertical-align: top;\n",
       "    }\n",
       "\n",
       "    .dataframe thead th {\n",
       "        text-align: right;\n",
       "    }\n",
       "</style>\n",
       "<table border=\"1\" class=\"dataframe\">\n",
       "  <thead>\n",
       "    <tr style=\"text-align: right;\">\n",
       "      <th></th>\n",
       "      <th>UserID</th>\n",
       "      <th>MovieID</th>\n",
       "      <th>Rating</th>\n",
       "    </tr>\n",
       "  </thead>\n",
       "  <tbody>\n",
       "    <tr>\n",
       "      <th>0</th>\n",
       "      <td>36527471</td>\n",
       "      <td>1659337</td>\n",
       "      <td>8</td>\n",
       "    </tr>\n",
       "    <tr>\n",
       "      <th>1</th>\n",
       "      <td>65089494</td>\n",
       "      <td>105695</td>\n",
       "      <td>10</td>\n",
       "    </tr>\n",
       "    <tr>\n",
       "      <th>2</th>\n",
       "      <td>23249666</td>\n",
       "      <td>1628064</td>\n",
       "      <td>9</td>\n",
       "    </tr>\n",
       "    <tr>\n",
       "      <th>3</th>\n",
       "      <td>7776823</td>\n",
       "      <td>110413</td>\n",
       "      <td>10</td>\n",
       "    </tr>\n",
       "    <tr>\n",
       "      <th>4</th>\n",
       "      <td>122607281</td>\n",
       "      <td>2948372</td>\n",
       "      <td>6</td>\n",
       "    </tr>\n",
       "  </tbody>\n",
       "</table>\n",
       "</div>"
      ],
      "text/plain": [
       "      UserID  MovieID  Rating\n",
       "0   36527471  1659337       8\n",
       "1   65089494   105695      10\n",
       "2   23249666  1628064       9\n",
       "3    7776823   110413      10\n",
       "4  122607281  2948372       6"
      ]
     },
     "execution_count": 5,
     "metadata": {},
     "output_type": "execute_result"
    }
   ],
   "source": [
    "train_data.head()"
   ]
  },
  {
   "cell_type": "code",
   "execution_count": 6,
   "id": "139cd83f",
   "metadata": {
    "execution": {
     "iopub.execute_input": "2024-12-16T23:23:49.998092Z",
     "iopub.status.busy": "2024-12-16T23:23:49.997284Z",
     "iopub.status.idle": "2024-12-16T23:23:50.005352Z",
     "shell.execute_reply": "2024-12-16T23:23:50.004608Z"
    },
    "papermill": {
     "duration": 0.014905,
     "end_time": "2024-12-16T23:23:50.006830",
     "exception": false,
     "start_time": "2024-12-16T23:23:49.991925",
     "status": "completed"
    },
    "tags": []
   },
   "outputs": [
    {
     "data": {
      "text/html": [
       "<div>\n",
       "<style scoped>\n",
       "    .dataframe tbody tr th:only-of-type {\n",
       "        vertical-align: middle;\n",
       "    }\n",
       "\n",
       "    .dataframe tbody tr th {\n",
       "        vertical-align: top;\n",
       "    }\n",
       "\n",
       "    .dataframe thead th {\n",
       "        text-align: right;\n",
       "    }\n",
       "</style>\n",
       "<table border=\"1\" class=\"dataframe\">\n",
       "  <thead>\n",
       "    <tr style=\"text-align: right;\">\n",
       "      <th></th>\n",
       "      <th>UserID</th>\n",
       "      <th>MovieID</th>\n",
       "      <th>Rating</th>\n",
       "    </tr>\n",
       "  </thead>\n",
       "  <tbody>\n",
       "    <tr>\n",
       "      <th>3699431</th>\n",
       "      <td>58251797</td>\n",
       "      <td>4729430</td>\n",
       "      <td>8</td>\n",
       "    </tr>\n",
       "    <tr>\n",
       "      <th>3699432</th>\n",
       "      <td>93006392</td>\n",
       "      <td>2545428</td>\n",
       "      <td>8</td>\n",
       "    </tr>\n",
       "    <tr>\n",
       "      <th>3699433</th>\n",
       "      <td>18815933</td>\n",
       "      <td>2537176</td>\n",
       "      <td>6</td>\n",
       "    </tr>\n",
       "    <tr>\n",
       "      <th>3699434</th>\n",
       "      <td>28443655</td>\n",
       "      <td>414982</td>\n",
       "      <td>3</td>\n",
       "    </tr>\n",
       "    <tr>\n",
       "      <th>3699435</th>\n",
       "      <td>1067456</td>\n",
       "      <td>108399</td>\n",
       "      <td>10</td>\n",
       "    </tr>\n",
       "  </tbody>\n",
       "</table>\n",
       "</div>"
      ],
      "text/plain": [
       "           UserID  MovieID  Rating\n",
       "3699431  58251797  4729430       8\n",
       "3699432  93006392  2545428       8\n",
       "3699433  18815933  2537176       6\n",
       "3699434  28443655   414982       3\n",
       "3699435   1067456   108399      10"
      ]
     },
     "execution_count": 6,
     "metadata": {},
     "output_type": "execute_result"
    }
   ],
   "source": [
    "train_data.tail()"
   ]
  },
  {
   "cell_type": "code",
   "execution_count": 7,
   "id": "ae1b28da",
   "metadata": {
    "execution": {
     "iopub.execute_input": "2024-12-16T23:23:50.017457Z",
     "iopub.status.busy": "2024-12-16T23:23:50.017132Z",
     "iopub.status.idle": "2024-12-16T23:23:50.084394Z",
     "shell.execute_reply": "2024-12-16T23:23:50.083465Z"
    },
    "papermill": {
     "duration": 0.07454,
     "end_time": "2024-12-16T23:23:50.086050",
     "exception": false,
     "start_time": "2024-12-16T23:23:50.011510",
     "status": "completed"
    },
    "tags": []
   },
   "outputs": [
    {
     "data": {
      "text/plain": [
       "(9130, 9814)"
      ]
     },
     "execution_count": 7,
     "metadata": {},
     "output_type": "execute_result"
    }
   ],
   "source": [
    "num_users = train_data.UserID.unique().shape[0]\n",
    "num_movies = train_data.MovieID.unique().shape[0]\n",
    "num_users, num_movies"
   ]
  },
  {
   "cell_type": "code",
   "execution_count": 8,
   "id": "7441a112",
   "metadata": {
    "execution": {
     "iopub.execute_input": "2024-12-16T23:23:50.097115Z",
     "iopub.status.busy": "2024-12-16T23:23:50.096624Z",
     "iopub.status.idle": "2024-12-16T23:23:50.104225Z",
     "shell.execute_reply": "2024-12-16T23:23:50.103378Z"
    },
    "papermill": {
     "duration": 0.01494,
     "end_time": "2024-12-16T23:23:50.105898",
     "exception": false,
     "start_time": "2024-12-16T23:23:50.090958",
     "status": "completed"
    },
    "tags": []
   },
   "outputs": [
    {
     "data": {
      "text/html": [
       "<div>\n",
       "<style scoped>\n",
       "    .dataframe tbody tr th:only-of-type {\n",
       "        vertical-align: middle;\n",
       "    }\n",
       "\n",
       "    .dataframe tbody tr th {\n",
       "        vertical-align: top;\n",
       "    }\n",
       "\n",
       "    .dataframe thead th {\n",
       "        text-align: right;\n",
       "    }\n",
       "</style>\n",
       "<table border=\"1\" class=\"dataframe\">\n",
       "  <thead>\n",
       "    <tr style=\"text-align: right;\">\n",
       "      <th></th>\n",
       "      <th>UserID</th>\n",
       "      <th>MovieID</th>\n",
       "      <th>Rating</th>\n",
       "    </tr>\n",
       "  </thead>\n",
       "  <tbody>\n",
       "    <tr>\n",
       "      <th>0</th>\n",
       "      <td>45430544</td>\n",
       "      <td>83798</td>\n",
       "      <td>7</td>\n",
       "    </tr>\n",
       "    <tr>\n",
       "      <th>1</th>\n",
       "      <td>34807113</td>\n",
       "      <td>1250777</td>\n",
       "      <td>9</td>\n",
       "    </tr>\n",
       "    <tr>\n",
       "      <th>2</th>\n",
       "      <td>67646271</td>\n",
       "      <td>80120</td>\n",
       "      <td>4</td>\n",
       "    </tr>\n",
       "    <tr>\n",
       "      <th>3</th>\n",
       "      <td>51265424</td>\n",
       "      <td>1490017</td>\n",
       "      <td>8</td>\n",
       "    </tr>\n",
       "    <tr>\n",
       "      <th>4</th>\n",
       "      <td>51235794</td>\n",
       "      <td>11813216</td>\n",
       "      <td>8</td>\n",
       "    </tr>\n",
       "  </tbody>\n",
       "</table>\n",
       "</div>"
      ],
      "text/plain": [
       "     UserID   MovieID  Rating\n",
       "0  45430544     83798       7\n",
       "1  34807113   1250777       9\n",
       "2  67646271     80120       4\n",
       "3  51265424   1490017       8\n",
       "4  51235794  11813216       8"
      ]
     },
     "execution_count": 8,
     "metadata": {},
     "output_type": "execute_result"
    }
   ],
   "source": [
    "test_data.head()"
   ]
  },
  {
   "cell_type": "code",
   "execution_count": 9,
   "id": "663f076b",
   "metadata": {
    "execution": {
     "iopub.execute_input": "2024-12-16T23:23:50.116500Z",
     "iopub.status.busy": "2024-12-16T23:23:50.116170Z",
     "iopub.status.idle": "2024-12-16T23:23:50.123143Z",
     "shell.execute_reply": "2024-12-16T23:23:50.122384Z"
    },
    "papermill": {
     "duration": 0.014119,
     "end_time": "2024-12-16T23:23:50.124758",
     "exception": false,
     "start_time": "2024-12-16T23:23:50.110639",
     "status": "completed"
    },
    "tags": []
   },
   "outputs": [
    {
     "data": {
      "text/html": [
       "<div>\n",
       "<style scoped>\n",
       "    .dataframe tbody tr th:only-of-type {\n",
       "        vertical-align: middle;\n",
       "    }\n",
       "\n",
       "    .dataframe tbody tr th {\n",
       "        vertical-align: top;\n",
       "    }\n",
       "\n",
       "    .dataframe thead th {\n",
       "        text-align: right;\n",
       "    }\n",
       "</style>\n",
       "<table border=\"1\" class=\"dataframe\">\n",
       "  <thead>\n",
       "    <tr style=\"text-align: right;\">\n",
       "      <th></th>\n",
       "      <th>UserID</th>\n",
       "      <th>MovieID</th>\n",
       "      <th>Rating</th>\n",
       "    </tr>\n",
       "  </thead>\n",
       "  <tbody>\n",
       "    <tr>\n",
       "      <th>462425</th>\n",
       "      <td>30899304</td>\n",
       "      <td>1136608</td>\n",
       "      <td>9</td>\n",
       "    </tr>\n",
       "    <tr>\n",
       "      <th>462426</th>\n",
       "      <td>22328566</td>\n",
       "      <td>108783</td>\n",
       "      <td>10</td>\n",
       "    </tr>\n",
       "    <tr>\n",
       "      <th>462427</th>\n",
       "      <td>26159893</td>\n",
       "      <td>333780</td>\n",
       "      <td>7</td>\n",
       "    </tr>\n",
       "    <tr>\n",
       "      <th>462428</th>\n",
       "      <td>35725947</td>\n",
       "      <td>3569230</td>\n",
       "      <td>6</td>\n",
       "    </tr>\n",
       "    <tr>\n",
       "      <th>462429</th>\n",
       "      <td>23018536</td>\n",
       "      <td>1232829</td>\n",
       "      <td>8</td>\n",
       "    </tr>\n",
       "  </tbody>\n",
       "</table>\n",
       "</div>"
      ],
      "text/plain": [
       "          UserID  MovieID  Rating\n",
       "462425  30899304  1136608       9\n",
       "462426  22328566   108783      10\n",
       "462427  26159893   333780       7\n",
       "462428  35725947  3569230       6\n",
       "462429  23018536  1232829       8"
      ]
     },
     "execution_count": 9,
     "metadata": {},
     "output_type": "execute_result"
    }
   ],
   "source": [
    "test_data.tail()"
   ]
  },
  {
   "cell_type": "code",
   "execution_count": 10,
   "id": "5592b642",
   "metadata": {
    "execution": {
     "iopub.execute_input": "2024-12-16T23:23:50.135440Z",
     "iopub.status.busy": "2024-12-16T23:23:50.135159Z",
     "iopub.status.idle": "2024-12-16T23:23:50.148101Z",
     "shell.execute_reply": "2024-12-16T23:23:50.147380Z"
    },
    "papermill": {
     "duration": 0.020112,
     "end_time": "2024-12-16T23:23:50.149630",
     "exception": false,
     "start_time": "2024-12-16T23:23:50.129518",
     "status": "completed"
    },
    "tags": []
   },
   "outputs": [
    {
     "data": {
      "text/plain": [
       "(9130, 9814)"
      ]
     },
     "execution_count": 10,
     "metadata": {},
     "output_type": "execute_result"
    }
   ],
   "source": [
    "num_users = test_data.UserID.unique().shape[0]\n",
    "num_movies = test_data.MovieID.unique().shape[0]\n",
    "num_users, num_movies"
   ]
  },
  {
   "cell_type": "code",
   "execution_count": 11,
   "id": "4c22f449",
   "metadata": {
    "execution": {
     "iopub.execute_input": "2024-12-16T23:23:50.160397Z",
     "iopub.status.busy": "2024-12-16T23:23:50.160108Z",
     "iopub.status.idle": "2024-12-16T23:23:50.166985Z",
     "shell.execute_reply": "2024-12-16T23:23:50.166241Z"
    },
    "papermill": {
     "duration": 0.014028,
     "end_time": "2024-12-16T23:23:50.168586",
     "exception": false,
     "start_time": "2024-12-16T23:23:50.154558",
     "status": "completed"
    },
    "tags": []
   },
   "outputs": [
    {
     "data": {
      "text/html": [
       "<div>\n",
       "<style scoped>\n",
       "    .dataframe tbody tr th:only-of-type {\n",
       "        vertical-align: middle;\n",
       "    }\n",
       "\n",
       "    .dataframe tbody tr th {\n",
       "        vertical-align: top;\n",
       "    }\n",
       "\n",
       "    .dataframe thead th {\n",
       "        text-align: right;\n",
       "    }\n",
       "</style>\n",
       "<table border=\"1\" class=\"dataframe\">\n",
       "  <thead>\n",
       "    <tr style=\"text-align: right;\">\n",
       "      <th></th>\n",
       "      <th>UserID</th>\n",
       "      <th>MovieID</th>\n",
       "      <th>Rating</th>\n",
       "    </tr>\n",
       "  </thead>\n",
       "  <tbody>\n",
       "    <tr>\n",
       "      <th>0</th>\n",
       "      <td>131612777</td>\n",
       "      <td>891592</td>\n",
       "      <td>2</td>\n",
       "    </tr>\n",
       "    <tr>\n",
       "      <th>1</th>\n",
       "      <td>23320225</td>\n",
       "      <td>2382320</td>\n",
       "      <td>7</td>\n",
       "    </tr>\n",
       "    <tr>\n",
       "      <th>2</th>\n",
       "      <td>28071275</td>\n",
       "      <td>45758</td>\n",
       "      <td>3</td>\n",
       "    </tr>\n",
       "    <tr>\n",
       "      <th>3</th>\n",
       "      <td>23856336</td>\n",
       "      <td>68699</td>\n",
       "      <td>10</td>\n",
       "    </tr>\n",
       "    <tr>\n",
       "      <th>4</th>\n",
       "      <td>47196478</td>\n",
       "      <td>95327</td>\n",
       "      <td>7</td>\n",
       "    </tr>\n",
       "  </tbody>\n",
       "</table>\n",
       "</div>"
      ],
      "text/plain": [
       "      UserID  MovieID  Rating\n",
       "0  131612777   891592       2\n",
       "1   23320225  2382320       7\n",
       "2   28071275    45758       3\n",
       "3   23856336    68699      10\n",
       "4   47196478    95327       7"
      ]
     },
     "execution_count": 11,
     "metadata": {},
     "output_type": "execute_result"
    }
   ],
   "source": [
    "val_data.head()"
   ]
  },
  {
   "cell_type": "code",
   "execution_count": 12,
   "id": "e6798d31",
   "metadata": {
    "execution": {
     "iopub.execute_input": "2024-12-16T23:23:50.179739Z",
     "iopub.status.busy": "2024-12-16T23:23:50.179489Z",
     "iopub.status.idle": "2024-12-16T23:23:50.186534Z",
     "shell.execute_reply": "2024-12-16T23:23:50.185749Z"
    },
    "papermill": {
     "duration": 0.014512,
     "end_time": "2024-12-16T23:23:50.188177",
     "exception": false,
     "start_time": "2024-12-16T23:23:50.173665",
     "status": "completed"
    },
    "tags": []
   },
   "outputs": [
    {
     "data": {
      "text/html": [
       "<div>\n",
       "<style scoped>\n",
       "    .dataframe tbody tr th:only-of-type {\n",
       "        vertical-align: middle;\n",
       "    }\n",
       "\n",
       "    .dataframe tbody tr th {\n",
       "        vertical-align: top;\n",
       "    }\n",
       "\n",
       "    .dataframe thead th {\n",
       "        text-align: right;\n",
       "    }\n",
       "</style>\n",
       "<table border=\"1\" class=\"dataframe\">\n",
       "  <thead>\n",
       "    <tr style=\"text-align: right;\">\n",
       "      <th></th>\n",
       "      <th>UserID</th>\n",
       "      <th>MovieID</th>\n",
       "      <th>Rating</th>\n",
       "    </tr>\n",
       "  </thead>\n",
       "  <tbody>\n",
       "    <tr>\n",
       "      <th>462425</th>\n",
       "      <td>77954315</td>\n",
       "      <td>113870</td>\n",
       "      <td>7</td>\n",
       "    </tr>\n",
       "    <tr>\n",
       "      <th>462426</th>\n",
       "      <td>4580541</td>\n",
       "      <td>91877</td>\n",
       "      <td>6</td>\n",
       "    </tr>\n",
       "    <tr>\n",
       "      <th>462427</th>\n",
       "      <td>25506300</td>\n",
       "      <td>1877832</td>\n",
       "      <td>9</td>\n",
       "    </tr>\n",
       "    <tr>\n",
       "      <th>462428</th>\n",
       "      <td>27367887</td>\n",
       "      <td>435761</td>\n",
       "      <td>8</td>\n",
       "    </tr>\n",
       "    <tr>\n",
       "      <th>462429</th>\n",
       "      <td>364025</td>\n",
       "      <td>185014</td>\n",
       "      <td>9</td>\n",
       "    </tr>\n",
       "  </tbody>\n",
       "</table>\n",
       "</div>"
      ],
      "text/plain": [
       "          UserID  MovieID  Rating\n",
       "462425  77954315   113870       7\n",
       "462426   4580541    91877       6\n",
       "462427  25506300  1877832       9\n",
       "462428  27367887   435761       8\n",
       "462429    364025   185014       9"
      ]
     },
     "execution_count": 12,
     "metadata": {},
     "output_type": "execute_result"
    }
   ],
   "source": [
    "val_data.tail()"
   ]
  },
  {
   "cell_type": "code",
   "execution_count": 13,
   "id": "f73fe2ea",
   "metadata": {
    "execution": {
     "iopub.execute_input": "2024-12-16T23:23:50.199644Z",
     "iopub.status.busy": "2024-12-16T23:23:50.199135Z",
     "iopub.status.idle": "2024-12-16T23:23:50.211711Z",
     "shell.execute_reply": "2024-12-16T23:23:50.211001Z"
    },
    "papermill": {
     "duration": 0.019872,
     "end_time": "2024-12-16T23:23:50.213262",
     "exception": false,
     "start_time": "2024-12-16T23:23:50.193390",
     "status": "completed"
    },
    "tags": []
   },
   "outputs": [
    {
     "data": {
      "text/plain": [
       "(9130, 9814)"
      ]
     },
     "execution_count": 13,
     "metadata": {},
     "output_type": "execute_result"
    }
   ],
   "source": [
    "num_users = val_data.UserID.unique().shape[0]\n",
    "num_movies = val_data.MovieID.unique().shape[0]\n",
    "num_users, num_movies"
   ]
  },
  {
   "cell_type": "code",
   "execution_count": 14,
   "id": "789e1d4f",
   "metadata": {
    "execution": {
     "iopub.execute_input": "2024-12-16T23:23:50.224575Z",
     "iopub.status.busy": "2024-12-16T23:23:50.224300Z",
     "iopub.status.idle": "2024-12-16T23:23:50.291036Z",
     "shell.execute_reply": "2024-12-16T23:23:50.290375Z"
    },
    "papermill": {
     "duration": 0.074408,
     "end_time": "2024-12-16T23:23:50.292863",
     "exception": false,
     "start_time": "2024-12-16T23:23:50.218455",
     "status": "completed"
    },
    "tags": []
   },
   "outputs": [],
   "source": [
    "movies = train_data.MovieID.drop_duplicates()\n",
    "movies = pd.DataFrame(movies, columns=['MovieID'])\n",
    "movies = movies.sort_values('MovieID', ascending=True)\n",
    "movies = movies[['MovieID']]\n",
    "movies = movies.reset_index()"
   ]
  },
  {
   "cell_type": "code",
   "execution_count": 15,
   "id": "ff955692",
   "metadata": {
    "execution": {
     "iopub.execute_input": "2024-12-16T23:23:50.305025Z",
     "iopub.status.busy": "2024-12-16T23:23:50.304749Z",
     "iopub.status.idle": "2024-12-16T23:23:50.353922Z",
     "shell.execute_reply": "2024-12-16T23:23:50.353268Z"
    },
    "papermill": {
     "duration": 0.057084,
     "end_time": "2024-12-16T23:23:50.355625",
     "exception": false,
     "start_time": "2024-12-16T23:23:50.298541",
     "status": "completed"
    },
    "tags": []
   },
   "outputs": [],
   "source": [
    "users = train_data.UserID.drop_duplicates()\n",
    "users = pd.DataFrame(users, columns=['UserID'])\n",
    "users = users.sort_values('UserID', ascending=True)\n",
    "users = users[['UserID']]\n",
    "users = users.reset_index()"
   ]
  },
  {
   "cell_type": "markdown",
   "id": "46bca2d1",
   "metadata": {
    "papermill": {
     "duration": 0.005049,
     "end_time": "2024-12-16T23:23:50.366046",
     "exception": false,
     "start_time": "2024-12-16T23:23:50.360997",
     "status": "completed"
    },
    "tags": []
   },
   "source": [
    "### **Build Utility Matrix**"
   ]
  },
  {
   "cell_type": "code",
   "execution_count": 16,
   "id": "cc037d89",
   "metadata": {
    "execution": {
     "iopub.execute_input": "2024-12-16T23:23:50.377601Z",
     "iopub.status.busy": "2024-12-16T23:23:50.377297Z",
     "iopub.status.idle": "2024-12-16T23:23:54.524277Z",
     "shell.execute_reply": "2024-12-16T23:23:54.523383Z"
    },
    "papermill": {
     "duration": 4.154899,
     "end_time": "2024-12-16T23:23:54.526193",
     "exception": false,
     "start_time": "2024-12-16T23:23:50.371294",
     "status": "completed"
    },
    "tags": []
   },
   "outputs": [
    {
     "data": {
      "text/plain": [
       "array([[0., 0., 7., ..., 0., 0., 0.],\n",
       "       [0., 0., 0., ..., 7., 0., 0.],\n",
       "       [0., 0., 0., ..., 0., 0., 0.],\n",
       "       ...,\n",
       "       [0., 0., 0., ..., 0., 0., 0.],\n",
       "       [0., 0., 0., ..., 0., 0., 0.],\n",
       "       [0., 0., 0., ..., 0., 0., 0.]])"
      ]
     },
     "execution_count": 16,
     "metadata": {},
     "output_type": "execute_result"
    }
   ],
   "source": [
    "utility_matrix = build_utility_matrix(train_data)\n",
    "utility_matrix"
   ]
  },
  {
   "cell_type": "markdown",
   "id": "da707497",
   "metadata": {
    "papermill": {
     "duration": 0.005102,
     "end_time": "2024-12-16T23:23:54.537135",
     "exception": false,
     "start_time": "2024-12-16T23:23:54.532033",
     "status": "completed"
    },
    "tags": []
   },
   "source": [
    "### **Defining the Hyperparameter Grid**"
   ]
  },
  {
   "cell_type": "code",
   "execution_count": 17,
   "id": "4aa408ac",
   "metadata": {
    "execution": {
     "iopub.execute_input": "2024-12-16T23:23:54.549037Z",
     "iopub.status.busy": "2024-12-16T23:23:54.548560Z",
     "iopub.status.idle": "2024-12-16T23:23:54.553014Z",
     "shell.execute_reply": "2024-12-16T23:23:54.552205Z"
    },
    "papermill": {
     "duration": 0.012139,
     "end_time": "2024-12-16T23:23:54.554554",
     "exception": false,
     "start_time": "2024-12-16T23:23:54.542415",
     "status": "completed"
    },
    "tags": []
   },
   "outputs": [],
   "source": [
    "from itertools import product\n",
    "\n",
    "# Define the hyperparameter grid for User-User CF\n",
    "k_neighbors = [10, 15, 20, 25, 30, 35, 40, 45, 50]\n",
    "uu_cf = [True] \n",
    "cosine = [True, False]\n",
    "\n",
    "# Create all possible combinations of hyperparameters\n",
    "uu_hyperparameter_combinations = list(product(k_neighbors, uu_cf, cosine))\n"
   ]
  },
  {
   "cell_type": "code",
   "execution_count": 18,
   "id": "89381bd0",
   "metadata": {
    "execution": {
     "iopub.execute_input": "2024-12-16T23:23:54.566568Z",
     "iopub.status.busy": "2024-12-16T23:23:54.565779Z",
     "iopub.status.idle": "2024-12-16T23:23:54.569951Z",
     "shell.execute_reply": "2024-12-16T23:23:54.569364Z"
    },
    "papermill": {
     "duration": 0.011602,
     "end_time": "2024-12-16T23:23:54.571490",
     "exception": false,
     "start_time": "2024-12-16T23:23:54.559888",
     "status": "completed"
    },
    "tags": []
   },
   "outputs": [],
   "source": [
    "from itertools import product\n",
    "\n",
    "# Define the hyperparameter grid for User-User CF\n",
    "k_neighbors = [10, 15, 20, 25, 30, 35, 40, 45, 50]\n",
    "uu_cf = [False] \n",
    "cosine = [True, False]\n",
    "\n",
    "# Create all possible combinations of hyperparameters\n",
    "ii_hyperparameter_combinations = list(product(k_neighbors, uu_cf, cosine))"
   ]
  },
  {
   "cell_type": "markdown",
   "id": "b7f61c3e",
   "metadata": {
    "papermill": {
     "duration": 0.005143,
     "end_time": "2024-12-16T23:23:54.582021",
     "exception": false,
     "start_time": "2024-12-16T23:23:54.576878",
     "status": "completed"
    },
    "tags": []
   },
   "source": [
    "### **Evaluating each combination**"
   ]
  },
  {
   "cell_type": "code",
   "execution_count": 19,
   "id": "3bbb675b",
   "metadata": {
    "execution": {
     "iopub.execute_input": "2024-12-16T23:23:54.593389Z",
     "iopub.status.busy": "2024-12-16T23:23:54.593103Z",
     "iopub.status.idle": "2024-12-17T01:17:15.782870Z",
     "shell.execute_reply": "2024-12-17T01:17:15.782137Z"
    },
    "papermill": {
     "duration": 6801.198005,
     "end_time": "2024-12-17T01:17:15.785236",
     "exception": false,
     "start_time": "2024-12-16T23:23:54.587231",
     "status": "completed"
    },
    "tags": []
   },
   "outputs": [
    {
     "name": "stdout",
     "output_type": "stream",
     "text": [
      "Evaluating combination 1/18: k_neighbors=10, uu_cf=True, cosine=True\n",
      "Evaluating combination 2/18: k_neighbors=10, uu_cf=True, cosine=False\n"
     ]
    },
    {
     "name": "stderr",
     "output_type": "stream",
     "text": [
      "/opt/conda/lib/python3.10/site-packages/numpy/lib/function_base.py:2897: RuntimeWarning: invalid value encountered in divide\n",
      "  c /= stddev[:, None]\n",
      "/opt/conda/lib/python3.10/site-packages/numpy/lib/function_base.py:2898: RuntimeWarning: invalid value encountered in divide\n",
      "  c /= stddev[None, :]\n"
     ]
    },
    {
     "name": "stdout",
     "output_type": "stream",
     "text": [
      "Evaluating combination 3/18: k_neighbors=15, uu_cf=True, cosine=True\n",
      "Evaluating combination 4/18: k_neighbors=15, uu_cf=True, cosine=False\n"
     ]
    },
    {
     "name": "stderr",
     "output_type": "stream",
     "text": [
      "/opt/conda/lib/python3.10/site-packages/numpy/lib/function_base.py:2897: RuntimeWarning: invalid value encountered in divide\n",
      "  c /= stddev[:, None]\n",
      "/opt/conda/lib/python3.10/site-packages/numpy/lib/function_base.py:2898: RuntimeWarning: invalid value encountered in divide\n",
      "  c /= stddev[None, :]\n"
     ]
    },
    {
     "name": "stdout",
     "output_type": "stream",
     "text": [
      "Evaluating combination 5/18: k_neighbors=20, uu_cf=True, cosine=True\n",
      "Evaluating combination 6/18: k_neighbors=20, uu_cf=True, cosine=False\n"
     ]
    },
    {
     "name": "stderr",
     "output_type": "stream",
     "text": [
      "/opt/conda/lib/python3.10/site-packages/numpy/lib/function_base.py:2897: RuntimeWarning: invalid value encountered in divide\n",
      "  c /= stddev[:, None]\n",
      "/opt/conda/lib/python3.10/site-packages/numpy/lib/function_base.py:2898: RuntimeWarning: invalid value encountered in divide\n",
      "  c /= stddev[None, :]\n"
     ]
    },
    {
     "name": "stdout",
     "output_type": "stream",
     "text": [
      "Evaluating combination 7/18: k_neighbors=25, uu_cf=True, cosine=True\n",
      "Evaluating combination 8/18: k_neighbors=25, uu_cf=True, cosine=False\n"
     ]
    },
    {
     "name": "stderr",
     "output_type": "stream",
     "text": [
      "/opt/conda/lib/python3.10/site-packages/numpy/lib/function_base.py:2897: RuntimeWarning: invalid value encountered in divide\n",
      "  c /= stddev[:, None]\n",
      "/opt/conda/lib/python3.10/site-packages/numpy/lib/function_base.py:2898: RuntimeWarning: invalid value encountered in divide\n",
      "  c /= stddev[None, :]\n"
     ]
    },
    {
     "name": "stdout",
     "output_type": "stream",
     "text": [
      "Evaluating combination 9/18: k_neighbors=30, uu_cf=True, cosine=True\n",
      "Evaluating combination 10/18: k_neighbors=30, uu_cf=True, cosine=False\n"
     ]
    },
    {
     "name": "stderr",
     "output_type": "stream",
     "text": [
      "/opt/conda/lib/python3.10/site-packages/numpy/lib/function_base.py:2897: RuntimeWarning: invalid value encountered in divide\n",
      "  c /= stddev[:, None]\n",
      "/opt/conda/lib/python3.10/site-packages/numpy/lib/function_base.py:2898: RuntimeWarning: invalid value encountered in divide\n",
      "  c /= stddev[None, :]\n"
     ]
    },
    {
     "name": "stdout",
     "output_type": "stream",
     "text": [
      "Evaluating combination 11/18: k_neighbors=35, uu_cf=True, cosine=True\n",
      "Evaluating combination 12/18: k_neighbors=35, uu_cf=True, cosine=False\n"
     ]
    },
    {
     "name": "stderr",
     "output_type": "stream",
     "text": [
      "/opt/conda/lib/python3.10/site-packages/numpy/lib/function_base.py:2897: RuntimeWarning: invalid value encountered in divide\n",
      "  c /= stddev[:, None]\n",
      "/opt/conda/lib/python3.10/site-packages/numpy/lib/function_base.py:2898: RuntimeWarning: invalid value encountered in divide\n",
      "  c /= stddev[None, :]\n"
     ]
    },
    {
     "name": "stdout",
     "output_type": "stream",
     "text": [
      "Evaluating combination 13/18: k_neighbors=40, uu_cf=True, cosine=True\n",
      "Evaluating combination 14/18: k_neighbors=40, uu_cf=True, cosine=False\n"
     ]
    },
    {
     "name": "stderr",
     "output_type": "stream",
     "text": [
      "/opt/conda/lib/python3.10/site-packages/numpy/lib/function_base.py:2897: RuntimeWarning: invalid value encountered in divide\n",
      "  c /= stddev[:, None]\n",
      "/opt/conda/lib/python3.10/site-packages/numpy/lib/function_base.py:2898: RuntimeWarning: invalid value encountered in divide\n",
      "  c /= stddev[None, :]\n"
     ]
    },
    {
     "name": "stdout",
     "output_type": "stream",
     "text": [
      "Evaluating combination 15/18: k_neighbors=45, uu_cf=True, cosine=True\n",
      "Evaluating combination 16/18: k_neighbors=45, uu_cf=True, cosine=False\n"
     ]
    },
    {
     "name": "stderr",
     "output_type": "stream",
     "text": [
      "/opt/conda/lib/python3.10/site-packages/numpy/lib/function_base.py:2897: RuntimeWarning: invalid value encountered in divide\n",
      "  c /= stddev[:, None]\n",
      "/opt/conda/lib/python3.10/site-packages/numpy/lib/function_base.py:2898: RuntimeWarning: invalid value encountered in divide\n",
      "  c /= stddev[None, :]\n"
     ]
    },
    {
     "name": "stdout",
     "output_type": "stream",
     "text": [
      "Evaluating combination 17/18: k_neighbors=50, uu_cf=True, cosine=True\n",
      "Evaluating combination 18/18: k_neighbors=50, uu_cf=True, cosine=False\n"
     ]
    },
    {
     "name": "stderr",
     "output_type": "stream",
     "text": [
      "/opt/conda/lib/python3.10/site-packages/numpy/lib/function_base.py:2897: RuntimeWarning: invalid value encountered in divide\n",
      "  c /= stddev[:, None]\n",
      "/opt/conda/lib/python3.10/site-packages/numpy/lib/function_base.py:2898: RuntimeWarning: invalid value encountered in divide\n",
      "  c /= stddev[None, :]\n"
     ]
    }
   ],
   "source": [
    "uu_results_df = neighborhood_hyperparameter_tuning(\n",
    "    R=utility_matrix,\n",
    "    hyperparameter_combinations=uu_hyperparameter_combinations,\n",
    "    validation_ratio=0.2\n",
    ")"
   ]
  },
  {
   "cell_type": "code",
   "execution_count": 20,
   "id": "b9b339f6",
   "metadata": {
    "execution": {
     "iopub.execute_input": "2024-12-17T01:17:15.800498Z",
     "iopub.status.busy": "2024-12-17T01:17:15.800198Z",
     "iopub.status.idle": "2024-12-17T01:17:15.806245Z",
     "shell.execute_reply": "2024-12-17T01:17:15.805381Z"
    },
    "papermill": {
     "duration": 0.015372,
     "end_time": "2024-12-17T01:17:15.807870",
     "exception": false,
     "start_time": "2024-12-17T01:17:15.792498",
     "status": "completed"
    },
    "tags": []
   },
   "outputs": [
    {
     "name": "stdout",
     "output_type": "stream",
     "text": [
      "Best Hyperparameters for User-User CF:\n",
      "k_neighbors          50\n",
      "uu_cf              True\n",
      "cosine             True\n",
      "rmse           1.720172\n",
      "Name: 16, dtype: object\n"
     ]
    }
   ],
   "source": [
    "# Find the combination with the lowest validation RMSE\n",
    "best_result_uu = uu_results_df.loc[uu_results_df['rmse'].idxmin()]\n",
    "print(\"Best Hyperparameters for User-User CF:\")\n",
    "print(best_result_uu)"
   ]
  },
  {
   "cell_type": "code",
   "execution_count": 21,
   "id": "3abb5492",
   "metadata": {
    "execution": {
     "iopub.execute_input": "2024-12-17T01:17:15.821976Z",
     "iopub.status.busy": "2024-12-17T01:17:15.821707Z",
     "iopub.status.idle": "2024-12-17T03:19:13.310001Z",
     "shell.execute_reply": "2024-12-17T03:19:13.309208Z"
    },
    "papermill": {
     "duration": 7317.497557,
     "end_time": "2024-12-17T03:19:13.312066",
     "exception": false,
     "start_time": "2024-12-17T01:17:15.814509",
     "status": "completed"
    },
    "tags": []
   },
   "outputs": [
    {
     "name": "stdout",
     "output_type": "stream",
     "text": [
      "Evaluating combination 1/18: k_neighbors=10, uu_cf=False, cosine=True\n",
      "Evaluating combination 2/18: k_neighbors=10, uu_cf=False, cosine=False\n",
      "Evaluating combination 3/18: k_neighbors=15, uu_cf=False, cosine=True\n",
      "Evaluating combination 4/18: k_neighbors=15, uu_cf=False, cosine=False\n",
      "Evaluating combination 5/18: k_neighbors=20, uu_cf=False, cosine=True\n",
      "Evaluating combination 6/18: k_neighbors=20, uu_cf=False, cosine=False\n",
      "Evaluating combination 7/18: k_neighbors=25, uu_cf=False, cosine=True\n",
      "Evaluating combination 8/18: k_neighbors=25, uu_cf=False, cosine=False\n",
      "Evaluating combination 9/18: k_neighbors=30, uu_cf=False, cosine=True\n",
      "Evaluating combination 10/18: k_neighbors=30, uu_cf=False, cosine=False\n",
      "Evaluating combination 11/18: k_neighbors=35, uu_cf=False, cosine=True\n",
      "Evaluating combination 12/18: k_neighbors=35, uu_cf=False, cosine=False\n",
      "Evaluating combination 13/18: k_neighbors=40, uu_cf=False, cosine=True\n",
      "Evaluating combination 14/18: k_neighbors=40, uu_cf=False, cosine=False\n",
      "Evaluating combination 15/18: k_neighbors=45, uu_cf=False, cosine=True\n",
      "Evaluating combination 16/18: k_neighbors=45, uu_cf=False, cosine=False\n",
      "Evaluating combination 17/18: k_neighbors=50, uu_cf=False, cosine=True\n",
      "Evaluating combination 18/18: k_neighbors=50, uu_cf=False, cosine=False\n"
     ]
    }
   ],
   "source": [
    "ii_results_df = neighborhood_hyperparameter_tuning(\n",
    "    R=utility_matrix,\n",
    "    hyperparameter_combinations=ii_hyperparameter_combinations,\n",
    "    validation_ratio=0.2\n",
    ")"
   ]
  },
  {
   "cell_type": "code",
   "execution_count": 22,
   "id": "4cf333ed",
   "metadata": {
    "execution": {
     "iopub.execute_input": "2024-12-17T03:19:13.329464Z",
     "iopub.status.busy": "2024-12-17T03:19:13.329168Z",
     "iopub.status.idle": "2024-12-17T03:19:13.335807Z",
     "shell.execute_reply": "2024-12-17T03:19:13.334823Z"
    },
    "papermill": {
     "duration": 0.017473,
     "end_time": "2024-12-17T03:19:13.337732",
     "exception": false,
     "start_time": "2024-12-17T03:19:13.320259",
     "status": "completed"
    },
    "tags": []
   },
   "outputs": [
    {
     "name": "stdout",
     "output_type": "stream",
     "text": [
      "Best Hyperparameters for Item-Item CF:\n",
      "k_neighbors          30\n",
      "uu_cf             False\n",
      "cosine             True\n",
      "rmse           1.695939\n",
      "Name: 8, dtype: object\n"
     ]
    }
   ],
   "source": [
    "# Find the combination with the lowest validation RMSE\n",
    "best_result_ii = ii_results_df.loc[ii_results_df['rmse'].idxmin()]\n",
    "print(\"Best Hyperparameters for Item-Item CF:\")\n",
    "print(best_result_ii)"
   ]
  }
 ],
 "metadata": {
  "kaggle": {
   "accelerator": "gpu",
   "dataSources": [
    {
     "datasetId": 6318146,
     "sourceId": 10220527,
     "sourceType": "datasetVersion"
    }
   ],
   "dockerImageVersionId": 30804,
   "isGpuEnabled": true,
   "isInternetEnabled": true,
   "language": "python",
   "sourceType": "notebook"
  },
  "kernelspec": {
   "display_name": "Python 3",
   "language": "python",
   "name": "python3"
  },
  "language_info": {
   "codemirror_mode": {
    "name": "ipython",
    "version": 3
   },
   "file_extension": ".py",
   "mimetype": "text/x-python",
   "name": "python",
   "nbconvert_exporter": "python",
   "pygments_lexer": "ipython3",
   "version": "3.11.9"
  },
  "papermill": {
   "default_parameters": {},
   "duration": 14130.148864,
   "end_time": "2024-12-17T03:19:13.764666",
   "environment_variables": {},
   "exception": null,
   "input_path": "__notebook__.ipynb",
   "output_path": "__notebook__.ipynb",
   "parameters": {},
   "start_time": "2024-12-16T23:23:43.615802",
   "version": "2.6.0"
  }
 },
 "nbformat": 4,
 "nbformat_minor": 5
}
