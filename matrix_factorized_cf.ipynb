{
 "cells": [
  {
   "cell_type": "markdown",
   "metadata": {},
   "source": [
    "## **Movies Recommendation: Matrix Factorized Collaborative Filtering**\n",
    "\n",
    "### **Import necessary library**"
   ]
  },
  {
   "cell_type": "code",
   "execution_count": 1,
   "metadata": {},
   "outputs": [],
   "source": [
    "import pandas as pd \n",
    "import numpy as np \n",
    "import math\n",
    "from collaborative_filtering import MatrixFactorizationCF, build_utility_matrix\n"
   ]
  },
  {
   "cell_type": "code",
   "execution_count": 2,
   "metadata": {},
   "outputs": [],
   "source": [
    "# import pandas as pd\n",
    "\n",
    "# part_ids = [2, 3, 4, 5, 6, 7, 8, 9, 10, 21, 22, 23, 24, 25, 26, 27, 28, 29, 30, 41, 42, 43, 44, 45, 46, 47, 48, 49, 50, 51, 52, 61, 62, 63, 64, 65, 66, 67, 68, 69, 70, 71]\n",
    "\n",
    "# # Read the first file\n",
    "# data = pd.read_csv('resources/ratings/users_ratings_part1.csv', header=None)\n",
    "\n",
    "# # Loop through other files\n",
    "# for id in part_ids:\n",
    "#     file_path = f'resources/ratings/users_ratings_part{id}.csv'\n",
    "#     try:\n",
    "#         tmp = pd.read_csv(file_path, on_bad_lines=\"skip\", header=None)  # Skip problematic rows\n",
    "#         data = pd.concat([data, tmp], ignore_index=True)\n",
    "#     except Exception as e:\n",
    "#         print(f\"Error reading file {file_path}: {e}\")\n",
    "\n",
    "# data.columns =['UserID', 'MovieID', 'Rating']\n",
    "\n",
    "data = pd.read_csv('resources/ratings/users_ratings_part1.csv', header=None)\n",
    "data.columns =['UserID', 'MovieID', 'Rating']"
   ]
  },
  {
   "cell_type": "code",
   "execution_count": 3,
   "metadata": {},
   "outputs": [],
   "source": [
    "data = data.sort_values(by=['UserID', 'MovieID'])\n",
    "data = data.drop_duplicates()\n",
    "data = data.reset_index()\n",
    "data = data.drop(columns=['index'])"
   ]
  },
  {
   "cell_type": "code",
   "execution_count": 4,
   "metadata": {},
   "outputs": [
    {
     "data": {
      "text/html": [
       "<div>\n",
       "<style scoped>\n",
       "    .dataframe tbody tr th:only-of-type {\n",
       "        vertical-align: middle;\n",
       "    }\n",
       "\n",
       "    .dataframe tbody tr th {\n",
       "        vertical-align: top;\n",
       "    }\n",
       "\n",
       "    .dataframe thead th {\n",
       "        text-align: right;\n",
       "    }\n",
       "</style>\n",
       "<table border=\"1\" class=\"dataframe\">\n",
       "  <thead>\n",
       "    <tr style=\"text-align: right;\">\n",
       "      <th></th>\n",
       "      <th>UserID</th>\n",
       "      <th>MovieID</th>\n",
       "      <th>Rating</th>\n",
       "    </tr>\n",
       "  </thead>\n",
       "  <tbody>\n",
       "    <tr>\n",
       "      <th>0</th>\n",
       "      <td>9423</td>\n",
       "      <td>27977</td>\n",
       "      <td>8</td>\n",
       "    </tr>\n",
       "    <tr>\n",
       "      <th>1</th>\n",
       "      <td>9423</td>\n",
       "      <td>31381</td>\n",
       "      <td>9</td>\n",
       "    </tr>\n",
       "    <tr>\n",
       "      <th>2</th>\n",
       "      <td>9423</td>\n",
       "      <td>32138</td>\n",
       "      <td>10</td>\n",
       "    </tr>\n",
       "    <tr>\n",
       "      <th>3</th>\n",
       "      <td>9423</td>\n",
       "      <td>33467</td>\n",
       "      <td>10</td>\n",
       "    </tr>\n",
       "    <tr>\n",
       "      <th>4</th>\n",
       "      <td>9423</td>\n",
       "      <td>38650</td>\n",
       "      <td>10</td>\n",
       "    </tr>\n",
       "  </tbody>\n",
       "</table>\n",
       "</div>"
      ],
      "text/plain": [
       "   UserID  MovieID  Rating\n",
       "0    9423    27977       8\n",
       "1    9423    31381       9\n",
       "2    9423    32138      10\n",
       "3    9423    33467      10\n",
       "4    9423    38650      10"
      ]
     },
     "execution_count": 4,
     "metadata": {},
     "output_type": "execute_result"
    }
   ],
   "source": [
    "data.head()"
   ]
  },
  {
   "cell_type": "code",
   "execution_count": 5,
   "metadata": {},
   "outputs": [
    {
     "data": {
      "text/html": [
       "<div>\n",
       "<style scoped>\n",
       "    .dataframe tbody tr th:only-of-type {\n",
       "        vertical-align: middle;\n",
       "    }\n",
       "\n",
       "    .dataframe tbody tr th {\n",
       "        vertical-align: top;\n",
       "    }\n",
       "\n",
       "    .dataframe thead th {\n",
       "        text-align: right;\n",
       "    }\n",
       "</style>\n",
       "<table border=\"1\" class=\"dataframe\">\n",
       "  <thead>\n",
       "    <tr style=\"text-align: right;\">\n",
       "      <th></th>\n",
       "      <th>UserID</th>\n",
       "      <th>MovieID</th>\n",
       "      <th>Rating</th>\n",
       "    </tr>\n",
       "  </thead>\n",
       "  <tbody>\n",
       "    <tr>\n",
       "      <th>54972</th>\n",
       "      <td>186180127</td>\n",
       "      <td>468569</td>\n",
       "      <td>10</td>\n",
       "    </tr>\n",
       "    <tr>\n",
       "      <th>54973</th>\n",
       "      <td>186180127</td>\n",
       "      <td>1255953</td>\n",
       "      <td>10</td>\n",
       "    </tr>\n",
       "    <tr>\n",
       "      <th>54974</th>\n",
       "      <td>186180127</td>\n",
       "      <td>9362722</td>\n",
       "      <td>10</td>\n",
       "    </tr>\n",
       "    <tr>\n",
       "      <th>54975</th>\n",
       "      <td>186180127</td>\n",
       "      <td>11329280</td>\n",
       "      <td>10</td>\n",
       "    </tr>\n",
       "    <tr>\n",
       "      <th>54976</th>\n",
       "      <td>186180127</td>\n",
       "      <td>15239678</td>\n",
       "      <td>10</td>\n",
       "    </tr>\n",
       "  </tbody>\n",
       "</table>\n",
       "</div>"
      ],
      "text/plain": [
       "          UserID   MovieID  Rating\n",
       "54972  186180127    468569      10\n",
       "54973  186180127   1255953      10\n",
       "54974  186180127   9362722      10\n",
       "54975  186180127  11329280      10\n",
       "54976  186180127  15239678      10"
      ]
     },
     "execution_count": 5,
     "metadata": {},
     "output_type": "execute_result"
    }
   ],
   "source": [
    "data.tail()"
   ]
  },
  {
   "cell_type": "code",
   "execution_count": 6,
   "metadata": {},
   "outputs": [],
   "source": [
    "# Count the number of interactions for each movie\n",
    "movie_counts =data['MovieID'].value_counts()\n",
    "\n",
    "# Filter out movies appear < 10 times \n",
    "movies_to_keep = movie_counts[movie_counts >= 10].index\n",
    "data = data[data['MovieID'].isin(movies_to_keep)]\n",
    "\n",
    "# Count the number of interactions for each user\n",
    "user_counts = data['UserID'].value_counts()\n",
    "\n",
    "# Filter out users appear < 10 times \n",
    "users_to_keep = user_counts[user_counts >= 10].index \n",
    "data = data[data['UserID'].isin(users_to_keep)]"
   ]
  },
  {
   "cell_type": "code",
   "execution_count": 7,
   "metadata": {},
   "outputs": [
    {
     "data": {
      "text/plain": [
       "(267, 910)"
      ]
     },
     "execution_count": 7,
     "metadata": {},
     "output_type": "execute_result"
    }
   ],
   "source": [
    "num_users = data.UserID.unique().shape[0]\n",
    "num_movies = data.MovieID.unique().shape[0]\n",
    "num_users, num_movies"
   ]
  },
  {
   "cell_type": "markdown",
   "metadata": {},
   "source": [
    "### **Split data**"
   ]
  },
  {
   "cell_type": "code",
   "execution_count": 8,
   "metadata": {},
   "outputs": [],
   "source": [
    "def split_data(df, test_size=0.2, random_state=42):\n",
    "    np.random.seed(random_state)\n",
    "    \n",
    "    # Preprocessing Step: Remove movies with frequency = 1\n",
    "    movie_counts = df['MovieID'].value_counts()\n",
    "    movies_to_keep = movie_counts[movie_counts > 1].index\n",
    "    df = df[df['MovieID'].isin(movies_to_keep)].reset_index(drop=True)\n",
    "    \n",
    "    # Initialize sets to keep track of test indices\n",
    "    test_indices = set()\n",
    "    \n",
    "    # Ensure each user has at least one entry in test set\n",
    "    for user_id, group in df.groupby('UserID'):\n",
    "        if len(group) >= 1:\n",
    "            test_count = max(1, int(len(group) * test_size))\n",
    "            test_sample = np.random.choice(group.index, size=test_count, replace=False)\n",
    "            test_indices.update(test_sample)\n",
    "    \n",
    "    # Ensure each movie has at least one entry in test set\n",
    "    for movie_id, group in df.groupby('MovieID'):\n",
    "        # Find indices not already in test set\n",
    "        remaining_indices = list(set(group.index) - test_indices)\n",
    "        if remaining_indices:\n",
    "            test_sample = np.random.choice(remaining_indices, size=1, replace=False)\n",
    "            test_indices.update(test_sample)\n",
    "    \n",
    "    # Create test and train datasets\n",
    "    test_df = df.loc[list(test_indices)].reset_index(drop=True)\n",
    "    train_df = df.drop(list(test_indices)).reset_index(drop=True)\n",
    "    \n",
    "    # Optional: Verify that both train and test have the same users and movies\n",
    "    common_users = set(train_df['UserID']).intersection(set(test_df['UserID']))\n",
    "    common_movies = set(train_df['MovieID']).intersection(set(test_df['MovieID']))\n",
    "    \n",
    "    train_df = train_df[train_df['UserID'].isin(common_users) & train_df['MovieID'].isin(common_movies)].reset_index(drop=True)\n",
    "    test_df = test_df[test_df['UserID'].isin(common_users) & test_df['MovieID'].isin(common_movies)].reset_index(drop=True)\n",
    "    \n",
    "    return train_df, test_df\n",
    "\n",
    "# Example usage:\n",
    "# Assuming your dataframe is named `df` and has columns 'UserID' and 'MovieID'\n",
    "# train, test = split_data(df, test_size=0.2, random_state=42)\n"
   ]
  },
  {
   "cell_type": "code",
   "execution_count": 9,
   "metadata": {},
   "outputs": [],
   "source": [
    "train_data, test_data = split_data(data)"
   ]
  },
  {
   "cell_type": "code",
   "execution_count": 10,
   "metadata": {},
   "outputs": [
    {
     "data": {
      "text/html": [
       "<div>\n",
       "<style scoped>\n",
       "    .dataframe tbody tr th:only-of-type {\n",
       "        vertical-align: middle;\n",
       "    }\n",
       "\n",
       "    .dataframe tbody tr th {\n",
       "        vertical-align: top;\n",
       "    }\n",
       "\n",
       "    .dataframe thead th {\n",
       "        text-align: right;\n",
       "    }\n",
       "</style>\n",
       "<table border=\"1\" class=\"dataframe\">\n",
       "  <thead>\n",
       "    <tr style=\"text-align: right;\">\n",
       "      <th></th>\n",
       "      <th>UserID</th>\n",
       "      <th>MovieID</th>\n",
       "      <th>Rating</th>\n",
       "    </tr>\n",
       "  </thead>\n",
       "  <tbody>\n",
       "    <tr>\n",
       "      <th>0</th>\n",
       "      <td>9423</td>\n",
       "      <td>27977</td>\n",
       "      <td>8</td>\n",
       "    </tr>\n",
       "    <tr>\n",
       "      <th>1</th>\n",
       "      <td>9423</td>\n",
       "      <td>31381</td>\n",
       "      <td>9</td>\n",
       "    </tr>\n",
       "    <tr>\n",
       "      <th>2</th>\n",
       "      <td>9423</td>\n",
       "      <td>32138</td>\n",
       "      <td>10</td>\n",
       "    </tr>\n",
       "    <tr>\n",
       "      <th>3</th>\n",
       "      <td>9423</td>\n",
       "      <td>33467</td>\n",
       "      <td>10</td>\n",
       "    </tr>\n",
       "    <tr>\n",
       "      <th>4</th>\n",
       "      <td>9423</td>\n",
       "      <td>38650</td>\n",
       "      <td>10</td>\n",
       "    </tr>\n",
       "  </tbody>\n",
       "</table>\n",
       "</div>"
      ],
      "text/plain": [
       "   UserID  MovieID  Rating\n",
       "0    9423    27977       8\n",
       "1    9423    31381       9\n",
       "2    9423    32138      10\n",
       "3    9423    33467      10\n",
       "4    9423    38650      10"
      ]
     },
     "execution_count": 10,
     "metadata": {},
     "output_type": "execute_result"
    }
   ],
   "source": [
    "train_data.head()"
   ]
  },
  {
   "cell_type": "code",
   "execution_count": 11,
   "metadata": {},
   "outputs": [
    {
     "data": {
      "text/html": [
       "<div>\n",
       "<style scoped>\n",
       "    .dataframe tbody tr th:only-of-type {\n",
       "        vertical-align: middle;\n",
       "    }\n",
       "\n",
       "    .dataframe tbody tr th {\n",
       "        vertical-align: top;\n",
       "    }\n",
       "\n",
       "    .dataframe thead th {\n",
       "        text-align: right;\n",
       "    }\n",
       "</style>\n",
       "<table border=\"1\" class=\"dataframe\">\n",
       "  <thead>\n",
       "    <tr style=\"text-align: right;\">\n",
       "      <th></th>\n",
       "      <th>UserID</th>\n",
       "      <th>MovieID</th>\n",
       "      <th>Rating</th>\n",
       "    </tr>\n",
       "  </thead>\n",
       "  <tbody>\n",
       "    <tr>\n",
       "      <th>28376</th>\n",
       "      <td>186180127</td>\n",
       "      <td>172495</td>\n",
       "      <td>10</td>\n",
       "    </tr>\n",
       "    <tr>\n",
       "      <th>28377</th>\n",
       "      <td>186180127</td>\n",
       "      <td>407887</td>\n",
       "      <td>10</td>\n",
       "    </tr>\n",
       "    <tr>\n",
       "      <th>28378</th>\n",
       "      <td>186180127</td>\n",
       "      <td>468569</td>\n",
       "      <td>10</td>\n",
       "    </tr>\n",
       "    <tr>\n",
       "      <th>28379</th>\n",
       "      <td>186180127</td>\n",
       "      <td>9362722</td>\n",
       "      <td>10</td>\n",
       "    </tr>\n",
       "    <tr>\n",
       "      <th>28380</th>\n",
       "      <td>186180127</td>\n",
       "      <td>15239678</td>\n",
       "      <td>10</td>\n",
       "    </tr>\n",
       "  </tbody>\n",
       "</table>\n",
       "</div>"
      ],
      "text/plain": [
       "          UserID   MovieID  Rating\n",
       "28376  186180127    172495      10\n",
       "28377  186180127    407887      10\n",
       "28378  186180127    468569      10\n",
       "28379  186180127   9362722      10\n",
       "28380  186180127  15239678      10"
      ]
     },
     "execution_count": 11,
     "metadata": {},
     "output_type": "execute_result"
    }
   ],
   "source": [
    "train_data.tail()"
   ]
  },
  {
   "cell_type": "code",
   "execution_count": 12,
   "metadata": {},
   "outputs": [
    {
     "data": {
      "text/plain": [
       "(267, 910)"
      ]
     },
     "execution_count": 12,
     "metadata": {},
     "output_type": "execute_result"
    }
   ],
   "source": [
    "num_users = train_data.UserID.unique().shape[0]\n",
    "num_movies = train_data.MovieID.unique().shape[0]\n",
    "num_users, num_movies"
   ]
  },
  {
   "cell_type": "code",
   "execution_count": 13,
   "metadata": {},
   "outputs": [
    {
     "data": {
      "text/html": [
       "<div>\n",
       "<style scoped>\n",
       "    .dataframe tbody tr th:only-of-type {\n",
       "        vertical-align: middle;\n",
       "    }\n",
       "\n",
       "    .dataframe tbody tr th {\n",
       "        vertical-align: top;\n",
       "    }\n",
       "\n",
       "    .dataframe thead th {\n",
       "        text-align: right;\n",
       "    }\n",
       "</style>\n",
       "<table border=\"1\" class=\"dataframe\">\n",
       "  <thead>\n",
       "    <tr style=\"text-align: right;\">\n",
       "      <th></th>\n",
       "      <th>UserID</th>\n",
       "      <th>MovieID</th>\n",
       "      <th>Rating</th>\n",
       "    </tr>\n",
       "  </thead>\n",
       "  <tbody>\n",
       "    <tr>\n",
       "      <th>0</th>\n",
       "      <td>106825954</td>\n",
       "      <td>365748</td>\n",
       "      <td>1</td>\n",
       "    </tr>\n",
       "    <tr>\n",
       "      <th>1</th>\n",
       "      <td>9423</td>\n",
       "      <td>53125</td>\n",
       "      <td>9</td>\n",
       "    </tr>\n",
       "    <tr>\n",
       "      <th>2</th>\n",
       "      <td>9423</td>\n",
       "      <td>52618</td>\n",
       "      <td>8</td>\n",
       "    </tr>\n",
       "    <tr>\n",
       "      <th>3</th>\n",
       "      <td>9423</td>\n",
       "      <td>53291</td>\n",
       "      <td>7</td>\n",
       "    </tr>\n",
       "    <tr>\n",
       "      <th>4</th>\n",
       "      <td>106825954</td>\n",
       "      <td>372784</td>\n",
       "      <td>8</td>\n",
       "    </tr>\n",
       "  </tbody>\n",
       "</table>\n",
       "</div>"
      ],
      "text/plain": [
       "      UserID  MovieID  Rating\n",
       "0  106825954   365748       1\n",
       "1       9423    53125       9\n",
       "2       9423    52618       8\n",
       "3       9423    53291       7\n",
       "4  106825954   372784       8"
      ]
     },
     "execution_count": 13,
     "metadata": {},
     "output_type": "execute_result"
    }
   ],
   "source": [
    "test_data.head()"
   ]
  },
  {
   "cell_type": "code",
   "execution_count": 14,
   "metadata": {},
   "outputs": [
    {
     "data": {
      "text/html": [
       "<div>\n",
       "<style scoped>\n",
       "    .dataframe tbody tr th:only-of-type {\n",
       "        vertical-align: middle;\n",
       "    }\n",
       "\n",
       "    .dataframe tbody tr th {\n",
       "        vertical-align: top;\n",
       "    }\n",
       "\n",
       "    .dataframe thead th {\n",
       "        text-align: right;\n",
       "    }\n",
       "</style>\n",
       "<table border=\"1\" class=\"dataframe\">\n",
       "  <thead>\n",
       "    <tr style=\"text-align: right;\">\n",
       "      <th></th>\n",
       "      <th>UserID</th>\n",
       "      <th>MovieID</th>\n",
       "      <th>Rating</th>\n",
       "    </tr>\n",
       "  </thead>\n",
       "  <tbody>\n",
       "    <tr>\n",
       "      <th>8134</th>\n",
       "      <td>106825954</td>\n",
       "      <td>209144</td>\n",
       "      <td>9</td>\n",
       "    </tr>\n",
       "    <tr>\n",
       "      <th>8135</th>\n",
       "      <td>106825954</td>\n",
       "      <td>234215</td>\n",
       "      <td>7</td>\n",
       "    </tr>\n",
       "    <tr>\n",
       "      <th>8136</th>\n",
       "      <td>106825954</td>\n",
       "      <td>245429</td>\n",
       "      <td>9</td>\n",
       "    </tr>\n",
       "    <tr>\n",
       "      <th>8137</th>\n",
       "      <td>106825954</td>\n",
       "      <td>268380</td>\n",
       "      <td>8</td>\n",
       "    </tr>\n",
       "    <tr>\n",
       "      <th>8138</th>\n",
       "      <td>106825954</td>\n",
       "      <td>290334</td>\n",
       "      <td>7</td>\n",
       "    </tr>\n",
       "  </tbody>\n",
       "</table>\n",
       "</div>"
      ],
      "text/plain": [
       "         UserID  MovieID  Rating\n",
       "8134  106825954   209144       9\n",
       "8135  106825954   234215       7\n",
       "8136  106825954   245429       9\n",
       "8137  106825954   268380       8\n",
       "8138  106825954   290334       7"
      ]
     },
     "execution_count": 14,
     "metadata": {},
     "output_type": "execute_result"
    }
   ],
   "source": [
    "test_data.tail()"
   ]
  },
  {
   "cell_type": "code",
   "execution_count": 15,
   "metadata": {},
   "outputs": [
    {
     "data": {
      "text/plain": [
       "(267, 910)"
      ]
     },
     "execution_count": 15,
     "metadata": {},
     "output_type": "execute_result"
    }
   ],
   "source": [
    "num_users = test_data.UserID.unique().shape[0]\n",
    "num_movies = test_data.MovieID.unique().shape[0]\n",
    "num_users, num_movies"
   ]
  },
  {
   "cell_type": "code",
   "execution_count": 16,
   "metadata": {},
   "outputs": [],
   "source": [
    "movies = train_data.MovieID.drop_duplicates()\n",
    "movies = pd.DataFrame(movies, columns=['MovieID'])\n",
    "movies = movies.sort_values('MovieID', ascending=True)\n",
    "movies = movies[['MovieID']]\n",
    "movies = movies.reset_index()"
   ]
  },
  {
   "cell_type": "code",
   "execution_count": 17,
   "metadata": {},
   "outputs": [],
   "source": [
    "users = train_data.UserID.drop_duplicates()\n",
    "users = pd.DataFrame(users, columns=['UserID'])\n",
    "users = users.sort_values('UserID', ascending=True)\n",
    "users = users[['UserID']]\n",
    "users = users.reset_index()"
   ]
  },
  {
   "cell_type": "markdown",
   "metadata": {},
   "source": [
    "### **Build Utility Matrix**"
   ]
  },
  {
   "cell_type": "code",
   "execution_count": 18,
   "metadata": {},
   "outputs": [
    {
     "data": {
      "text/plain": [
       "array([[ 8.,  9., 10., ...,  0.,  0.,  0.],\n",
       "       [10.,  7.,  9., ...,  0.,  0.,  0.],\n",
       "       [ 0.,  0.,  0., ...,  0.,  0.,  0.],\n",
       "       ...,\n",
       "       [ 0.,  0.,  0., ...,  7.,  8.,  0.],\n",
       "       [ 0.,  0.,  0., ...,  0.,  0.,  0.],\n",
       "       [ 0.,  0.,  0., ..., 10.,  0.,  0.]])"
      ]
     },
     "execution_count": 18,
     "metadata": {},
     "output_type": "execute_result"
    }
   ],
   "source": [
    "utility_matrix = build_utility_matrix(train_data)\n",
    "utility_matrix"
   ]
  },
  {
   "cell_type": "markdown",
   "metadata": {},
   "source": [
    "## **User-based MF**"
   ]
  },
  {
   "cell_type": "code",
   "execution_count": 19,
   "metadata": {},
   "outputs": [
    {
     "name": "stdout",
     "output_type": "stream",
     "text": [
      "Epoch: 1 - RMSE: 1.8365\n",
      "Epoch: 2 - RMSE: 1.7349\n",
      "Epoch: 3 - RMSE: 1.6944\n",
      "Epoch: 4 - RMSE: 1.6728\n",
      "Epoch: 5 - RMSE: 1.6591\n",
      "Epoch: 6 - RMSE: 1.6494\n",
      "Epoch: 7 - RMSE: 1.6423\n",
      "Epoch: 8 - RMSE: 1.6367\n",
      "Epoch: 9 - RMSE: 1.6321\n",
      "Epoch: 10 - RMSE: 1.6282\n",
      "Epoch: 11 - RMSE: 1.6247\n",
      "Epoch: 12 - RMSE: 1.6217\n",
      "Epoch: 13 - RMSE: 1.6186\n",
      "Epoch: 14 - RMSE: 1.6157\n",
      "Epoch: 15 - RMSE: 1.6128\n",
      "Epoch: 16 - RMSE: 1.6094\n",
      "Epoch: 17 - RMSE: 1.6059\n",
      "Epoch: 18 - RMSE: 1.6017\n",
      "Epoch: 19 - RMSE: 1.5967\n",
      "Epoch: 20 - RMSE: 1.5910\n",
      "Epoch: 21 - RMSE: 1.5844\n",
      "Epoch: 22 - RMSE: 1.5766\n",
      "Epoch: 23 - RMSE: 1.5678\n",
      "Epoch: 24 - RMSE: 1.5583\n",
      "Epoch: 25 - RMSE: 1.5480\n",
      "Epoch: 26 - RMSE: 1.5370\n",
      "Epoch: 27 - RMSE: 1.5255\n",
      "Epoch: 28 - RMSE: 1.5136\n",
      "Epoch: 29 - RMSE: 1.5016\n",
      "Epoch: 30 - RMSE: 1.4895\n",
      "Epoch: 31 - RMSE: 1.4775\n",
      "Epoch: 32 - RMSE: 1.4657\n",
      "Epoch: 33 - RMSE: 1.4540\n",
      "Epoch: 34 - RMSE: 1.4425\n",
      "Epoch: 35 - RMSE: 1.4311\n",
      "Epoch: 36 - RMSE: 1.4200\n",
      "Epoch: 37 - RMSE: 1.4090\n",
      "Epoch: 38 - RMSE: 1.3982\n",
      "Epoch: 39 - RMSE: 1.3877\n",
      "Epoch: 40 - RMSE: 1.3774\n",
      "Epoch: 41 - RMSE: 1.3674\n",
      "Epoch: 42 - RMSE: 1.3579\n",
      "Epoch: 43 - RMSE: 1.3487\n",
      "Epoch: 44 - RMSE: 1.3399\n",
      "Epoch: 45 - RMSE: 1.3316\n",
      "Epoch: 46 - RMSE: 1.3237\n",
      "Epoch: 47 - RMSE: 1.3162\n",
      "Epoch: 48 - RMSE: 1.3091\n",
      "Epoch: 49 - RMSE: 1.3025\n",
      "Epoch: 50 - RMSE: 1.2961\n"
     ]
    }
   ],
   "source": [
    "UUMF = MatrixFactorizationCF(R=utility_matrix, K=45, learning_rate=0.005, epochs=50, regularization=0.1)\n",
    "UUMF.train()"
   ]
  },
  {
   "cell_type": "code",
   "execution_count": 20,
   "metadata": {},
   "outputs": [],
   "source": [
    "predicted_R = UUMF.full_prediction()"
   ]
  },
  {
   "cell_type": "code",
   "execution_count": 21,
   "metadata": {},
   "outputs": [
    {
     "name": "stdout",
     "output_type": "stream",
     "text": [
      "Recommend movies for user 9423 and predicted ratings:\n"
     ]
    },
    {
     "data": {
      "text/plain": [
       "[(47478, 9), (60196, 9), (110912, 9), (405094, 9), (12361974, 9)]"
      ]
     },
     "execution_count": 21,
     "metadata": {},
     "output_type": "execute_result"
    }
   ],
   "source": [
    "recommendation = UUMF.recommend(id=9423, predicted_R=predicted_R, movies=movies, users=users, top_n=5)\n",
    "print('Recommend movies for user 9423 and predicted ratings:')\n",
    "recommendation"
   ]
  },
  {
   "cell_type": "code",
   "execution_count": 22,
   "metadata": {},
   "outputs": [],
   "source": [
    "# UUMF.print_recommendation(predicted_R=predicted_R, movies=movies, users=users)"
   ]
  },
  {
   "cell_type": "markdown",
   "metadata": {},
   "source": [
    "## **Item-based MF**"
   ]
  },
  {
   "cell_type": "code",
   "execution_count": 23,
   "metadata": {},
   "outputs": [
    {
     "name": "stdout",
     "output_type": "stream",
     "text": [
      "Epoch: 1 - RMSE: 1.8362\n",
      "Epoch: 2 - RMSE: 1.7347\n",
      "Epoch: 3 - RMSE: 1.6943\n",
      "Epoch: 4 - RMSE: 1.6725\n",
      "Epoch: 5 - RMSE: 1.6588\n",
      "Epoch: 6 - RMSE: 1.6493\n",
      "Epoch: 7 - RMSE: 1.6422\n",
      "Epoch: 8 - RMSE: 1.6365\n",
      "Epoch: 9 - RMSE: 1.6320\n",
      "Epoch: 10 - RMSE: 1.6281\n",
      "Epoch: 11 - RMSE: 1.6245\n",
      "Epoch: 12 - RMSE: 1.6213\n",
      "Epoch: 13 - RMSE: 1.6182\n",
      "Epoch: 14 - RMSE: 1.6152\n",
      "Epoch: 15 - RMSE: 1.6119\n",
      "Epoch: 16 - RMSE: 1.6083\n",
      "Epoch: 17 - RMSE: 1.6041\n",
      "Epoch: 18 - RMSE: 1.5995\n",
      "Epoch: 19 - RMSE: 1.5939\n",
      "Epoch: 20 - RMSE: 1.5877\n",
      "Epoch: 21 - RMSE: 1.5804\n",
      "Epoch: 22 - RMSE: 1.5721\n",
      "Epoch: 23 - RMSE: 1.5631\n",
      "Epoch: 24 - RMSE: 1.5532\n",
      "Epoch: 25 - RMSE: 1.5429\n",
      "Epoch: 26 - RMSE: 1.5320\n",
      "Epoch: 27 - RMSE: 1.5208\n",
      "Epoch: 28 - RMSE: 1.5092\n",
      "Epoch: 29 - RMSE: 1.4976\n",
      "Epoch: 30 - RMSE: 1.4859\n",
      "Epoch: 31 - RMSE: 1.4741\n",
      "Epoch: 32 - RMSE: 1.4626\n",
      "Epoch: 33 - RMSE: 1.4511\n",
      "Epoch: 34 - RMSE: 1.4399\n",
      "Epoch: 35 - RMSE: 1.4287\n",
      "Epoch: 36 - RMSE: 1.4177\n",
      "Epoch: 37 - RMSE: 1.4070\n",
      "Epoch: 38 - RMSE: 1.3964\n",
      "Epoch: 39 - RMSE: 1.3860\n",
      "Epoch: 40 - RMSE: 1.3761\n",
      "Epoch: 41 - RMSE: 1.3663\n",
      "Epoch: 42 - RMSE: 1.3569\n",
      "Epoch: 43 - RMSE: 1.3480\n",
      "Epoch: 44 - RMSE: 1.3393\n",
      "Epoch: 45 - RMSE: 1.3311\n",
      "Epoch: 46 - RMSE: 1.3233\n",
      "Epoch: 47 - RMSE: 1.3159\n",
      "Epoch: 48 - RMSE: 1.3089\n",
      "Epoch: 49 - RMSE: 1.3022\n",
      "Epoch: 50 - RMSE: 1.2959\n"
     ]
    }
   ],
   "source": [
    "IIMF = MatrixFactorizationCF(R=utility_matrix, K=45, learning_rate=0.005, epochs=50, regularization=0.1, uu_mf=False)\n",
    "IIMF.train()"
   ]
  },
  {
   "cell_type": "code",
   "execution_count": 24,
   "metadata": {},
   "outputs": [],
   "source": [
    "predicted_R = IIMF.full_prediction()"
   ]
  },
  {
   "cell_type": "code",
   "execution_count": 25,
   "metadata": {},
   "outputs": [
    {
     "data": {
      "text/plain": [
       "array([], dtype=float64)"
      ]
     },
     "execution_count": 25,
     "metadata": {},
     "output_type": "execute_result"
    }
   ],
   "source": [
    "predicted_R[predicted_R > 10]"
   ]
  },
  {
   "cell_type": "code",
   "execution_count": 26,
   "metadata": {},
   "outputs": [
    {
     "name": "stdout",
     "output_type": "stream",
     "text": [
      "Recommend users for movie 27977 and predicted ratings:\n"
     ]
    },
    {
     "data": {
      "text/plain": [
       "[(1257208, 10), (26355627, 10), (60255714, 10), (61541609, 10), (65718654, 10)]"
      ]
     },
     "execution_count": 26,
     "metadata": {},
     "output_type": "execute_result"
    }
   ],
   "source": [
    "recommendation = IIMF.recommend(id=27977, predicted_R=predicted_R, movies=movies, users=users, top_n=5)\n",
    "print('Recommend users for movie 27977 and predicted ratings:')\n",
    "recommendation"
   ]
  },
  {
   "cell_type": "code",
   "execution_count": 27,
   "metadata": {},
   "outputs": [],
   "source": [
    "# IIMF.print_recommendation(predicted_R=predicted_R, movies=movies, users=users)"
   ]
  }
 ],
 "metadata": {
  "kernelspec": {
   "display_name": "Python 3",
   "language": "python",
   "name": "python3"
  },
  "language_info": {
   "codemirror_mode": {
    "name": "ipython",
    "version": 3
   },
   "file_extension": ".py",
   "mimetype": "text/x-python",
   "name": "python",
   "nbconvert_exporter": "python",
   "pygments_lexer": "ipython3",
   "version": "3.11.9"
  }
 },
 "nbformat": 4,
 "nbformat_minor": 2
}
