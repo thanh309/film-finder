{
 "cells": [
  {
   "cell_type": "markdown",
   "metadata": {},
   "source": [
    "## **Movies Recommendation: Matrix Factorized Collaborative Filtering**\n",
    "\n",
    "### **Import necessary library**"
   ]
  },
  {
   "cell_type": "code",
   "execution_count": 1,
   "metadata": {},
   "outputs": [],
   "source": [
    "import pandas as pd \n",
    "import numpy as np \n",
    "import math\n",
    "from collaborative_filtering import MatrixFactorizationCF, build_utility_matrix\n"
   ]
  },
  {
   "cell_type": "code",
   "execution_count": 2,
   "metadata": {},
   "outputs": [],
   "source": [
    "import pandas as pd\n",
    "\n",
    "part_ids = range(2, 11)\n",
    "\n",
    "# Read the first file\n",
    "data = pd.read_csv('resources/data/split_ratings/ratings_part_1.txt', header=None)\n",
    "\n",
    "# Loop through other files\n",
    "for id in part_ids:\n",
    "    file_path = f'resources/data/split_ratings/ratings_part_{id}.txt'\n",
    "    try:\n",
    "        tmp = pd.read_csv(file_path, on_bad_lines=\"skip\", header=None)  # Skip problematic rows\n",
    "        data = pd.concat([data, tmp], ignore_index=True)\n",
    "    except Exception as e:\n",
    "        print(f\"Error reading file {file_path}: {e}\")\n",
    "\n",
    "data.columns =['UserID', 'MovieID', 'Rating']\n",
    "\n",
    "# data = pd.read_csv('resources/data/split_ratings/ratings_part_1.txt', header=None)\n",
    "# data.columns =['UserID', 'MovieID', 'Rating']"
   ]
  },
  {
   "cell_type": "code",
   "execution_count": 3,
   "metadata": {},
   "outputs": [],
   "source": [
    "data = data.sort_values(by=['UserID', 'MovieID'])\n",
    "data = data.drop_duplicates()\n",
    "data = data.reset_index()\n",
    "data = data.drop(columns=['index'])"
   ]
  },
  {
   "cell_type": "code",
   "execution_count": 5,
   "metadata": {},
   "outputs": [
    {
     "data": {
      "text/html": [
       "<div>\n",
       "<style scoped>\n",
       "    .dataframe tbody tr th:only-of-type {\n",
       "        vertical-align: middle;\n",
       "    }\n",
       "\n",
       "    .dataframe tbody tr th {\n",
       "        vertical-align: top;\n",
       "    }\n",
       "\n",
       "    .dataframe thead th {\n",
       "        text-align: right;\n",
       "    }\n",
       "</style>\n",
       "<table border=\"1\" class=\"dataframe\">\n",
       "  <thead>\n",
       "    <tr style=\"text-align: right;\">\n",
       "      <th></th>\n",
       "      <th>UserID</th>\n",
       "      <th>MovieID</th>\n",
       "      <th>Rating</th>\n",
       "    </tr>\n",
       "  </thead>\n",
       "  <tbody>\n",
       "    <tr>\n",
       "      <th>0</th>\n",
       "      <td>66</td>\n",
       "      <td>68646</td>\n",
       "      <td>10</td>\n",
       "    </tr>\n",
       "    <tr>\n",
       "      <th>1</th>\n",
       "      <td>66</td>\n",
       "      <td>71562</td>\n",
       "      <td>10</td>\n",
       "    </tr>\n",
       "    <tr>\n",
       "      <th>2</th>\n",
       "      <td>66</td>\n",
       "      <td>76759</td>\n",
       "      <td>10</td>\n",
       "    </tr>\n",
       "    <tr>\n",
       "      <th>3</th>\n",
       "      <td>66</td>\n",
       "      <td>80684</td>\n",
       "      <td>10</td>\n",
       "    </tr>\n",
       "    <tr>\n",
       "      <th>4</th>\n",
       "      <td>66</td>\n",
       "      <td>88763</td>\n",
       "      <td>8</td>\n",
       "    </tr>\n",
       "  </tbody>\n",
       "</table>\n",
       "</div>"
      ],
      "text/plain": [
       "   UserID  MovieID  Rating\n",
       "0      66    68646      10\n",
       "1      66    71562      10\n",
       "2      66    76759      10\n",
       "3      66    80684      10\n",
       "4      66    88763       8"
      ]
     },
     "execution_count": 5,
     "metadata": {},
     "output_type": "execute_result"
    }
   ],
   "source": [
    "data.head()"
   ]
  },
  {
   "cell_type": "code",
   "execution_count": 6,
   "metadata": {},
   "outputs": [
    {
     "data": {
      "text/html": [
       "<div>\n",
       "<style scoped>\n",
       "    .dataframe tbody tr th:only-of-type {\n",
       "        vertical-align: middle;\n",
       "    }\n",
       "\n",
       "    .dataframe tbody tr th {\n",
       "        vertical-align: top;\n",
       "    }\n",
       "\n",
       "    .dataframe thead th {\n",
       "        text-align: right;\n",
       "    }\n",
       "</style>\n",
       "<table border=\"1\" class=\"dataframe\">\n",
       "  <thead>\n",
       "    <tr style=\"text-align: right;\">\n",
       "      <th></th>\n",
       "      <th>UserID</th>\n",
       "      <th>MovieID</th>\n",
       "      <th>Rating</th>\n",
       "    </tr>\n",
       "  </thead>\n",
       "  <tbody>\n",
       "    <tr>\n",
       "      <th>4681300</th>\n",
       "      <td>190007800</td>\n",
       "      <td>8115900</td>\n",
       "      <td>7</td>\n",
       "    </tr>\n",
       "    <tr>\n",
       "      <th>4681301</th>\n",
       "      <td>190007800</td>\n",
       "      <td>10872600</td>\n",
       "      <td>10</td>\n",
       "    </tr>\n",
       "    <tr>\n",
       "      <th>4681302</th>\n",
       "      <td>190007800</td>\n",
       "      <td>12412888</td>\n",
       "      <td>9</td>\n",
       "    </tr>\n",
       "    <tr>\n",
       "      <th>4681303</th>\n",
       "      <td>190007800</td>\n",
       "      <td>19623240</td>\n",
       "      <td>1</td>\n",
       "    </tr>\n",
       "    <tr>\n",
       "      <th>4681304</th>\n",
       "      <td>190007800</td>\n",
       "      <td>21235248</td>\n",
       "      <td>8</td>\n",
       "    </tr>\n",
       "  </tbody>\n",
       "</table>\n",
       "</div>"
      ],
      "text/plain": [
       "            UserID   MovieID  Rating\n",
       "4681300  190007800   8115900       7\n",
       "4681301  190007800  10872600      10\n",
       "4681302  190007800  12412888       9\n",
       "4681303  190007800  19623240       1\n",
       "4681304  190007800  21235248       8"
      ]
     },
     "execution_count": 6,
     "metadata": {},
     "output_type": "execute_result"
    }
   ],
   "source": [
    "data.tail()"
   ]
  },
  {
   "cell_type": "code",
   "execution_count": 7,
   "metadata": {},
   "outputs": [],
   "source": [
    "# Count the number of interactions for each movie\n",
    "movie_counts =data['MovieID'].value_counts()\n",
    "\n",
    "# Filter out movies appear < 10 times \n",
    "movies_to_keep = movie_counts[movie_counts >= 10].index\n",
    "data = data[data['MovieID'].isin(movies_to_keep)]\n",
    "\n",
    "# Count the number of interactions for each user\n",
    "user_counts = data['UserID'].value_counts()\n",
    "\n",
    "# Filter out users appear < 10 times \n",
    "users_to_keep = user_counts[user_counts >= 10].index \n",
    "data = data[data['UserID'].isin(users_to_keep)]"
   ]
  },
  {
   "cell_type": "code",
   "execution_count": 8,
   "metadata": {},
   "outputs": [
    {
     "data": {
      "text/plain": [
       "(11386, 9816)"
      ]
     },
     "execution_count": 8,
     "metadata": {},
     "output_type": "execute_result"
    }
   ],
   "source": [
    "num_users = data.UserID.unique().shape[0]\n",
    "num_movies = data.MovieID.unique().shape[0]\n",
    "num_users, num_movies"
   ]
  },
  {
   "cell_type": "markdown",
   "metadata": {},
   "source": [
    "### **Split data**"
   ]
  },
  {
   "cell_type": "code",
   "execution_count": 10,
   "metadata": {},
   "outputs": [],
   "source": [
    "def split_data(df, test_size=0.1, random_state=42):\n",
    "    np.random.seed(random_state)\n",
    "    \n",
    "    # Preprocessing Step: Remove movies with frequency = 1\n",
    "    movie_counts = df['MovieID'].value_counts()\n",
    "    movies_to_keep = movie_counts[movie_counts > 1].index\n",
    "    df = df[df['MovieID'].isin(movies_to_keep)].reset_index(drop=True)\n",
    "    \n",
    "    # Initialize sets to keep track of test indices\n",
    "    test_indices = set()\n",
    "    \n",
    "    # Ensure each user has at least one entry in test set\n",
    "    for user_id, group in df.groupby('UserID'):\n",
    "        if len(group) >= 1:\n",
    "            test_count = max(1, int(len(group) * test_size))\n",
    "            test_sample = np.random.choice(group.index, size=test_count, replace=False)\n",
    "            test_indices.update(test_sample)\n",
    "    \n",
    "    # Ensure each movie has at least one entry in test set\n",
    "    for movie_id, group in df.groupby('MovieID'):\n",
    "        # Find indices not already in test set\n",
    "        remaining_indices = list(set(group.index) - test_indices)\n",
    "        if remaining_indices:\n",
    "            test_sample = np.random.choice(remaining_indices, size=1, replace=False)\n",
    "            test_indices.update(test_sample)\n",
    "    \n",
    "    # Create test and train datasets\n",
    "    test_df = df.loc[list(test_indices)].reset_index(drop=True)\n",
    "    train_df = df.drop(list(test_indices)).reset_index(drop=True)\n",
    "    \n",
    "    # Optional: Verify that both train and test have the same users and movies\n",
    "    common_users = set(train_df['UserID']).intersection(set(test_df['UserID']))\n",
    "    common_movies = set(train_df['MovieID']).intersection(set(test_df['MovieID']))\n",
    "    \n",
    "    train_df = train_df[train_df['UserID'].isin(common_users) & train_df['MovieID'].isin(common_movies)].reset_index(drop=True)\n",
    "    test_df = test_df[test_df['UserID'].isin(common_users) & test_df['MovieID'].isin(common_movies)].reset_index(drop=True)\n",
    "    \n",
    "    return train_df, test_df\n",
    "\n",
    "# Example usage:\n",
    "# Assuming your dataframe is named `df` and has columns 'UserID' and 'MovieID'\n",
    "# train, test = split_data(df, test_size=0.2, random_state=42)\n"
   ]
  },
  {
   "cell_type": "code",
   "execution_count": 11,
   "metadata": {},
   "outputs": [],
   "source": [
    "train_data, test_data = split_data(data)"
   ]
  },
  {
   "cell_type": "code",
   "execution_count": 12,
   "metadata": {},
   "outputs": [
    {
     "data": {
      "text/html": [
       "<div>\n",
       "<style scoped>\n",
       "    .dataframe tbody tr th:only-of-type {\n",
       "        vertical-align: middle;\n",
       "    }\n",
       "\n",
       "    .dataframe tbody tr th {\n",
       "        vertical-align: top;\n",
       "    }\n",
       "\n",
       "    .dataframe thead th {\n",
       "        text-align: right;\n",
       "    }\n",
       "</style>\n",
       "<table border=\"1\" class=\"dataframe\">\n",
       "  <thead>\n",
       "    <tr style=\"text-align: right;\">\n",
       "      <th></th>\n",
       "      <th>UserID</th>\n",
       "      <th>MovieID</th>\n",
       "      <th>Rating</th>\n",
       "    </tr>\n",
       "  </thead>\n",
       "  <tbody>\n",
       "    <tr>\n",
       "      <th>0</th>\n",
       "      <td>66</td>\n",
       "      <td>68646</td>\n",
       "      <td>10</td>\n",
       "    </tr>\n",
       "    <tr>\n",
       "      <th>1</th>\n",
       "      <td>66</td>\n",
       "      <td>71562</td>\n",
       "      <td>10</td>\n",
       "    </tr>\n",
       "    <tr>\n",
       "      <th>2</th>\n",
       "      <td>66</td>\n",
       "      <td>76759</td>\n",
       "      <td>10</td>\n",
       "    </tr>\n",
       "    <tr>\n",
       "      <th>3</th>\n",
       "      <td>66</td>\n",
       "      <td>80684</td>\n",
       "      <td>10</td>\n",
       "    </tr>\n",
       "    <tr>\n",
       "      <th>4</th>\n",
       "      <td>66</td>\n",
       "      <td>88763</td>\n",
       "      <td>8</td>\n",
       "    </tr>\n",
       "  </tbody>\n",
       "</table>\n",
       "</div>"
      ],
      "text/plain": [
       "   UserID  MovieID  Rating\n",
       "0      66    68646      10\n",
       "1      66    71562      10\n",
       "2      66    76759      10\n",
       "3      66    80684      10\n",
       "4      66    88763       8"
      ]
     },
     "execution_count": 12,
     "metadata": {},
     "output_type": "execute_result"
    }
   ],
   "source": [
    "train_data.head()"
   ]
  },
  {
   "cell_type": "code",
   "execution_count": 13,
   "metadata": {},
   "outputs": [
    {
     "data": {
      "text/html": [
       "<div>\n",
       "<style scoped>\n",
       "    .dataframe tbody tr th:only-of-type {\n",
       "        vertical-align: middle;\n",
       "    }\n",
       "\n",
       "    .dataframe tbody tr th {\n",
       "        vertical-align: top;\n",
       "    }\n",
       "\n",
       "    .dataframe thead th {\n",
       "        text-align: right;\n",
       "    }\n",
       "</style>\n",
       "<table border=\"1\" class=\"dataframe\">\n",
       "  <thead>\n",
       "    <tr style=\"text-align: right;\">\n",
       "      <th></th>\n",
       "      <th>UserID</th>\n",
       "      <th>MovieID</th>\n",
       "      <th>Rating</th>\n",
       "    </tr>\n",
       "  </thead>\n",
       "  <tbody>\n",
       "    <tr>\n",
       "      <th>4207355</th>\n",
       "      <td>190007800</td>\n",
       "      <td>8115900</td>\n",
       "      <td>7</td>\n",
       "    </tr>\n",
       "    <tr>\n",
       "      <th>4207356</th>\n",
       "      <td>190007800</td>\n",
       "      <td>10872600</td>\n",
       "      <td>10</td>\n",
       "    </tr>\n",
       "    <tr>\n",
       "      <th>4207357</th>\n",
       "      <td>190007800</td>\n",
       "      <td>12412888</td>\n",
       "      <td>9</td>\n",
       "    </tr>\n",
       "    <tr>\n",
       "      <th>4207358</th>\n",
       "      <td>190007800</td>\n",
       "      <td>19623240</td>\n",
       "      <td>1</td>\n",
       "    </tr>\n",
       "    <tr>\n",
       "      <th>4207359</th>\n",
       "      <td>190007800</td>\n",
       "      <td>21235248</td>\n",
       "      <td>8</td>\n",
       "    </tr>\n",
       "  </tbody>\n",
       "</table>\n",
       "</div>"
      ],
      "text/plain": [
       "            UserID   MovieID  Rating\n",
       "4207355  190007800   8115900       7\n",
       "4207356  190007800  10872600      10\n",
       "4207357  190007800  12412888       9\n",
       "4207358  190007800  19623240       1\n",
       "4207359  190007800  21235248       8"
      ]
     },
     "execution_count": 13,
     "metadata": {},
     "output_type": "execute_result"
    }
   ],
   "source": [
    "train_data.tail()"
   ]
  },
  {
   "cell_type": "code",
   "execution_count": 14,
   "metadata": {},
   "outputs": [
    {
     "data": {
      "text/plain": [
       "(11386, 9816)"
      ]
     },
     "execution_count": 14,
     "metadata": {},
     "output_type": "execute_result"
    }
   ],
   "source": [
    "num_users = train_data.UserID.unique().shape[0]\n",
    "num_movies = train_data.MovieID.unique().shape[0]\n",
    "num_users, num_movies"
   ]
  },
  {
   "cell_type": "code",
   "execution_count": 15,
   "metadata": {},
   "outputs": [
    {
     "data": {
      "text/html": [
       "<div>\n",
       "<style scoped>\n",
       "    .dataframe tbody tr th:only-of-type {\n",
       "        vertical-align: middle;\n",
       "    }\n",
       "\n",
       "    .dataframe tbody tr th {\n",
       "        vertical-align: top;\n",
       "    }\n",
       "\n",
       "    .dataframe thead th {\n",
       "        text-align: right;\n",
       "    }\n",
       "</style>\n",
       "<table border=\"1\" class=\"dataframe\">\n",
       "  <thead>\n",
       "    <tr style=\"text-align: right;\">\n",
       "      <th></th>\n",
       "      <th>UserID</th>\n",
       "      <th>MovieID</th>\n",
       "      <th>Rating</th>\n",
       "    </tr>\n",
       "  </thead>\n",
       "  <tbody>\n",
       "    <tr>\n",
       "      <th>0</th>\n",
       "      <td>5897445</td>\n",
       "      <td>8740790</td>\n",
       "      <td>6</td>\n",
       "    </tr>\n",
       "    <tr>\n",
       "      <th>1</th>\n",
       "      <td>66</td>\n",
       "      <td>120689</td>\n",
       "      <td>10</td>\n",
       "    </tr>\n",
       "    <tr>\n",
       "      <th>2</th>\n",
       "      <td>23655320</td>\n",
       "      <td>6499752</td>\n",
       "      <td>7</td>\n",
       "    </tr>\n",
       "    <tr>\n",
       "      <th>3</th>\n",
       "      <td>23655320</td>\n",
       "      <td>6628394</td>\n",
       "      <td>8</td>\n",
       "    </tr>\n",
       "    <tr>\n",
       "      <th>4</th>\n",
       "      <td>23655320</td>\n",
       "      <td>6663582</td>\n",
       "      <td>6</td>\n",
       "    </tr>\n",
       "  </tbody>\n",
       "</table>\n",
       "</div>"
      ],
      "text/plain": [
       "     UserID  MovieID  Rating\n",
       "0   5897445  8740790       6\n",
       "1        66   120689      10\n",
       "2  23655320  6499752       7\n",
       "3  23655320  6628394       8\n",
       "4  23655320  6663582       6"
      ]
     },
     "execution_count": 15,
     "metadata": {},
     "output_type": "execute_result"
    }
   ],
   "source": [
    "test_data.head()"
   ]
  },
  {
   "cell_type": "code",
   "execution_count": 16,
   "metadata": {},
   "outputs": [
    {
     "data": {
      "text/html": [
       "<div>\n",
       "<style scoped>\n",
       "    .dataframe tbody tr th:only-of-type {\n",
       "        vertical-align: middle;\n",
       "    }\n",
       "\n",
       "    .dataframe tbody tr th {\n",
       "        vertical-align: top;\n",
       "    }\n",
       "\n",
       "    .dataframe thead th {\n",
       "        text-align: right;\n",
       "    }\n",
       "</style>\n",
       "<table border=\"1\" class=\"dataframe\">\n",
       "  <thead>\n",
       "    <tr style=\"text-align: right;\">\n",
       "      <th></th>\n",
       "      <th>UserID</th>\n",
       "      <th>MovieID</th>\n",
       "      <th>Rating</th>\n",
       "    </tr>\n",
       "  </thead>\n",
       "  <tbody>\n",
       "    <tr>\n",
       "      <th>473401</th>\n",
       "      <td>44631882</td>\n",
       "      <td>42876</td>\n",
       "      <td>10</td>\n",
       "    </tr>\n",
       "    <tr>\n",
       "      <th>473402</th>\n",
       "      <td>87777106</td>\n",
       "      <td>4972582</td>\n",
       "      <td>10</td>\n",
       "    </tr>\n",
       "    <tr>\n",
       "      <th>473403</th>\n",
       "      <td>5897445</td>\n",
       "      <td>7653254</td>\n",
       "      <td>8</td>\n",
       "    </tr>\n",
       "    <tr>\n",
       "      <th>473404</th>\n",
       "      <td>87777106</td>\n",
       "      <td>6146586</td>\n",
       "      <td>9</td>\n",
       "    </tr>\n",
       "    <tr>\n",
       "      <th>473405</th>\n",
       "      <td>87777106</td>\n",
       "      <td>6802308</td>\n",
       "      <td>3</td>\n",
       "    </tr>\n",
       "  </tbody>\n",
       "</table>\n",
       "</div>"
      ],
      "text/plain": [
       "          UserID  MovieID  Rating\n",
       "473401  44631882    42876      10\n",
       "473402  87777106  4972582      10\n",
       "473403   5897445  7653254       8\n",
       "473404  87777106  6146586       9\n",
       "473405  87777106  6802308       3"
      ]
     },
     "execution_count": 16,
     "metadata": {},
     "output_type": "execute_result"
    }
   ],
   "source": [
    "test_data.tail()"
   ]
  },
  {
   "cell_type": "code",
   "execution_count": 17,
   "metadata": {},
   "outputs": [
    {
     "data": {
      "text/plain": [
       "(11386, 9816)"
      ]
     },
     "execution_count": 17,
     "metadata": {},
     "output_type": "execute_result"
    }
   ],
   "source": [
    "num_users = test_data.UserID.unique().shape[0]\n",
    "num_movies = test_data.MovieID.unique().shape[0]\n",
    "num_users, num_movies"
   ]
  },
  {
   "cell_type": "code",
   "execution_count": 18,
   "metadata": {},
   "outputs": [],
   "source": [
    "movies = train_data.MovieID.drop_duplicates()\n",
    "movies = pd.DataFrame(movies, columns=['MovieID'])\n",
    "movies = movies.sort_values('MovieID', ascending=True)\n",
    "movies = movies[['MovieID']]\n",
    "movies = movies.reset_index()"
   ]
  },
  {
   "cell_type": "code",
   "execution_count": 19,
   "metadata": {},
   "outputs": [],
   "source": [
    "users = train_data.UserID.drop_duplicates()\n",
    "users = pd.DataFrame(users, columns=['UserID'])\n",
    "users = users.sort_values('UserID', ascending=True)\n",
    "users = users[['UserID']]\n",
    "users = users.reset_index()"
   ]
  },
  {
   "cell_type": "markdown",
   "metadata": {},
   "source": [
    "### **Build Utility Matrix**"
   ]
  },
  {
   "cell_type": "code",
   "execution_count": 20,
   "metadata": {},
   "outputs": [
    {
     "data": {
      "text/plain": [
       "array([[0., 0., 0., ..., 0., 0., 0.],\n",
       "       [8., 8., 7., ..., 0., 0., 0.],\n",
       "       [0., 0., 0., ..., 0., 0., 0.],\n",
       "       ...,\n",
       "       [0., 0., 0., ..., 6., 0., 0.],\n",
       "       [0., 0., 0., ..., 0., 0., 0.],\n",
       "       [0., 0., 0., ..., 0., 0., 0.]])"
      ]
     },
     "execution_count": 20,
     "metadata": {},
     "output_type": "execute_result"
    }
   ],
   "source": [
    "utility_matrix = build_utility_matrix(train_data)\n",
    "utility_matrix"
   ]
  },
  {
   "cell_type": "markdown",
   "metadata": {},
   "source": [
    "## **User-based MF**"
   ]
  },
  {
   "cell_type": "code",
   "execution_count": 21,
   "metadata": {},
   "outputs": [
    {
     "name": "stdout",
     "output_type": "stream",
     "text": [
      "Epoch: 1 - RMSE: 1.7373\n",
      "Epoch: 2 - RMSE: 1.6575\n",
      "Epoch: 3 - RMSE: 1.6456\n",
      "Epoch: 4 - RMSE: 1.6339\n",
      "Epoch: 5 - RMSE: 1.6188\n",
      "Epoch: 6 - RMSE: 1.6100\n",
      "Epoch: 7 - RMSE: 1.6032\n",
      "Epoch: 8 - RMSE: 1.5961\n",
      "Epoch: 9 - RMSE: 1.5899\n",
      "Epoch: 10 - RMSE: 1.5849\n",
      "Epoch: 11 - RMSE: 1.5809\n",
      "Epoch: 12 - RMSE: 1.5774\n",
      "Epoch: 13 - RMSE: 1.5744\n",
      "Epoch: 14 - RMSE: 1.5717\n",
      "Epoch: 15 - RMSE: 1.5694\n",
      "Epoch: 16 - RMSE: 1.5672\n",
      "Epoch: 17 - RMSE: 1.5652\n",
      "Epoch: 18 - RMSE: 1.5633\n",
      "Epoch: 19 - RMSE: 1.5616\n",
      "Epoch: 20 - RMSE: 1.5599\n",
      "Epoch: 21 - RMSE: 1.5583\n",
      "Epoch: 22 - RMSE: 1.5568\n",
      "Epoch: 23 - RMSE: 1.5554\n",
      "Epoch: 24 - RMSE: 1.5540\n",
      "Epoch: 25 - RMSE: 1.5527\n",
      "Epoch: 26 - RMSE: 1.5514\n",
      "Epoch: 27 - RMSE: 1.5503\n",
      "Epoch: 28 - RMSE: 1.5491\n",
      "Epoch: 29 - RMSE: 1.5480\n",
      "Epoch: 30 - RMSE: 1.5470\n",
      "Epoch: 31 - RMSE: 1.5460\n",
      "Epoch: 32 - RMSE: 1.5450\n",
      "Epoch: 33 - RMSE: 1.5441\n",
      "Epoch: 34 - RMSE: 1.5432\n",
      "Epoch: 35 - RMSE: 1.5424\n",
      "Epoch: 36 - RMSE: 1.5416\n",
      "Epoch: 37 - RMSE: 1.5408\n",
      "Epoch: 38 - RMSE: 1.5401\n",
      "Epoch: 39 - RMSE: 1.5394\n",
      "Epoch: 40 - RMSE: 1.5387\n",
      "Epoch: 41 - RMSE: 1.5381\n",
      "Epoch: 42 - RMSE: 1.5375\n",
      "Epoch: 43 - RMSE: 1.5369\n",
      "Epoch: 44 - RMSE: 1.5364\n",
      "Epoch: 45 - RMSE: 1.5359\n",
      "Epoch: 46 - RMSE: 1.5354\n"
     ]
    },
    {
     "ename": "KeyboardInterrupt",
     "evalue": "",
     "output_type": "error",
     "traceback": [
      "\u001b[1;31m---------------------------------------------------------------------------\u001b[0m",
      "\u001b[1;31mKeyboardInterrupt\u001b[0m                         Traceback (most recent call last)",
      "Cell \u001b[1;32mIn[21], line 2\u001b[0m\n\u001b[0;32m      1\u001b[0m UUMF \u001b[38;5;241m=\u001b[39m MatrixFactorizationCF(R\u001b[38;5;241m=\u001b[39mutility_matrix, K\u001b[38;5;241m=\u001b[39m\u001b[38;5;241m45\u001b[39m, learning_rate\u001b[38;5;241m=\u001b[39m\u001b[38;5;241m0.005\u001b[39m, epochs\u001b[38;5;241m=\u001b[39m\u001b[38;5;241m50\u001b[39m, regularization\u001b[38;5;241m=\u001b[39m\u001b[38;5;241m0.1\u001b[39m)\n\u001b[1;32m----> 2\u001b[0m \u001b[43mUUMF\u001b[49m\u001b[38;5;241;43m.\u001b[39;49m\u001b[43mtrain\u001b[49m\u001b[43m(\u001b[49m\u001b[43m)\u001b[49m\n",
      "File \u001b[1;32md:\\film-finder\\collaborative_filtering.py:191\u001b[0m, in \u001b[0;36mMatrixFactorizationCF.train\u001b[1;34m(self)\u001b[0m\n\u001b[0;32m    188\u001b[0m total_loss \u001b[38;5;241m=\u001b[39m \u001b[38;5;241m0\u001b[39m\n\u001b[0;32m    189\u001b[0m \u001b[38;5;28;01mfor\u001b[39;00m i, j, r \u001b[38;5;129;01min\u001b[39;00m \u001b[38;5;28mself\u001b[39m\u001b[38;5;241m.\u001b[39msamples: \n\u001b[0;32m    190\u001b[0m     \u001b[38;5;66;03m# Predict current rating\u001b[39;00m\n\u001b[1;32m--> 191\u001b[0m     pred \u001b[38;5;241m=\u001b[39m \u001b[38;5;28;43mself\u001b[39;49m\u001b[38;5;241;43m.\u001b[39;49m\u001b[43mpredict_single\u001b[49m\u001b[43m(\u001b[49m\u001b[43mi\u001b[49m\u001b[43m,\u001b[49m\u001b[43m \u001b[49m\u001b[43mj\u001b[49m\u001b[43m,\u001b[49m\u001b[43m \u001b[49m\u001b[43mclip\u001b[49m\u001b[38;5;241;43m=\u001b[39;49m\u001b[38;5;28;43;01mFalse\u001b[39;49;00m\u001b[43m)\u001b[49m\n\u001b[0;32m    192\u001b[0m     e \u001b[38;5;241m=\u001b[39m r \u001b[38;5;241m-\u001b[39m pred \n\u001b[0;32m    194\u001b[0m     \u001b[38;5;66;03m# Update biases \u001b[39;00m\n",
      "File \u001b[1;32md:\\film-finder\\collaborative_filtering.py:216\u001b[0m, in \u001b[0;36mMatrixFactorizationCF.predict_single\u001b[1;34m(self, i, j, clip)\u001b[0m\n\u001b[0;32m    215\u001b[0m \u001b[38;5;28;01mdef\u001b[39;00m \u001b[38;5;21mpredict_single\u001b[39m(\u001b[38;5;28mself\u001b[39m, i: \u001b[38;5;28mint\u001b[39m, j: \u001b[38;5;28mint\u001b[39m, clip: \u001b[38;5;28mbool\u001b[39m \u001b[38;5;241m=\u001b[39m\u001b[38;5;28;01mTrue\u001b[39;00m) \u001b[38;5;241m-\u001b[39m\u001b[38;5;241m>\u001b[39m \u001b[38;5;28mfloat\u001b[39m: \n\u001b[1;32m--> 216\u001b[0m     pred \u001b[38;5;241m=\u001b[39m \u001b[38;5;28mself\u001b[39m\u001b[38;5;241m.\u001b[39mmu \u001b[38;5;241m+\u001b[39m \u001b[38;5;28mself\u001b[39m\u001b[38;5;241m.\u001b[39mb_u[i] \u001b[38;5;241m+\u001b[39m \u001b[38;5;28mself\u001b[39m\u001b[38;5;241m.\u001b[39mb_m[j] \u001b[38;5;241m+\u001b[39m \u001b[43mnp\u001b[49m\u001b[38;5;241;43m.\u001b[39;49m\u001b[43mdot\u001b[49m\u001b[43m(\u001b[49m\u001b[38;5;28;43mself\u001b[39;49m\u001b[38;5;241;43m.\u001b[39;49m\u001b[43mP\u001b[49m\u001b[43m[\u001b[49m\u001b[43mi\u001b[49m\u001b[43m,\u001b[49m\u001b[43m \u001b[49m\u001b[43m:\u001b[49m\u001b[43m]\u001b[49m\u001b[43m,\u001b[49m\u001b[43m \u001b[49m\u001b[38;5;28;43mself\u001b[39;49m\u001b[38;5;241;43m.\u001b[39;49m\u001b[43mQ\u001b[49m\u001b[43m[\u001b[49m\u001b[43mj\u001b[49m\u001b[43m,\u001b[49m\u001b[43m \u001b[49m\u001b[43m:\u001b[49m\u001b[43m]\u001b[49m\u001b[38;5;241;43m.\u001b[39;49m\u001b[43mT\u001b[49m\u001b[43m)\u001b[49m\n\u001b[0;32m    217\u001b[0m     \u001b[38;5;28;01mif\u001b[39;00m clip:\n\u001b[0;32m    218\u001b[0m         pred \u001b[38;5;241m=\u001b[39m np\u001b[38;5;241m.\u001b[39mclip(pred, \u001b[38;5;28mself\u001b[39m\u001b[38;5;241m.\u001b[39mmin_rating, \u001b[38;5;28mself\u001b[39m\u001b[38;5;241m.\u001b[39mmax_rating)\n",
      "\u001b[1;31mKeyboardInterrupt\u001b[0m: "
     ]
    }
   ],
   "source": [
    "UUMF = MatrixFactorizationCF(R=utility_matrix, K=45, learning_rate=0.005, epochs=50, regularization=0.1)\n",
    "UUMF.train()"
   ]
  },
  {
   "cell_type": "code",
   "execution_count": 20,
   "metadata": {},
   "outputs": [],
   "source": [
    "predicted_R = UUMF.full_prediction()"
   ]
  },
  {
   "cell_type": "code",
   "execution_count": null,
   "metadata": {},
   "outputs": [],
   "source": [
    "recommendation = UUMF.recommend(id=9423, predicted_R=predicted_R, movies=movies, users=users, top_n=5)\n",
    "print('Recommend movies for user 9423 and predicted ratings:')\n",
    "recommendation"
   ]
  },
  {
   "cell_type": "code",
   "execution_count": 22,
   "metadata": {},
   "outputs": [],
   "source": [
    "# UUMF.print_recommendation(predicted_R=predicted_R, movies=movies, users=users)"
   ]
  },
  {
   "cell_type": "markdown",
   "metadata": {},
   "source": [
    "## **Item-based MF**"
   ]
  },
  {
   "cell_type": "code",
   "execution_count": null,
   "metadata": {},
   "outputs": [],
   "source": [
    "IIMF = MatrixFactorizationCF(R=utility_matrix, K=45, learning_rate=0.005, epochs=50, regularization=0.1, uu_mf=False)\n",
    "IIMF.train()"
   ]
  },
  {
   "cell_type": "code",
   "execution_count": 24,
   "metadata": {},
   "outputs": [],
   "source": [
    "predicted_R = IIMF.full_prediction()"
   ]
  },
  {
   "cell_type": "code",
   "execution_count": null,
   "metadata": {},
   "outputs": [],
   "source": [
    "predicted_R[predicted_R > 10]"
   ]
  },
  {
   "cell_type": "code",
   "execution_count": null,
   "metadata": {},
   "outputs": [],
   "source": [
    "recommendation = IIMF.recommend(id=27977, predicted_R=predicted_R, movies=movies, users=users, top_n=5)\n",
    "print('Recommend users for movie 27977 and predicted ratings:')\n",
    "recommendation"
   ]
  },
  {
   "cell_type": "code",
   "execution_count": 27,
   "metadata": {},
   "outputs": [],
   "source": [
    "# IIMF.print_recommendation(predicted_R=predicted_R, movies=movies, users=users)"
   ]
  }
 ],
 "metadata": {
  "kernelspec": {
   "display_name": "Python 3",
   "language": "python",
   "name": "python3"
  },
  "language_info": {
   "codemirror_mode": {
    "name": "ipython",
    "version": 3
   },
   "file_extension": ".py",
   "mimetype": "text/x-python",
   "name": "python",
   "nbconvert_exporter": "python",
   "pygments_lexer": "ipython3",
   "version": "3.11.9"
  }
 },
 "nbformat": 4,
 "nbformat_minor": 2
}
