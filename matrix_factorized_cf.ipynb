{
 "cells": [
  {
   "cell_type": "markdown",
   "id": "971a3384",
   "metadata": {
    "papermill": {
     "duration": 0.006973,
     "end_time": "2024-12-17T14:35:20.932566",
     "exception": false,
     "start_time": "2024-12-17T14:35:20.925593",
     "status": "completed"
    },
    "tags": []
   },
   "source": [
    "## **Movies Recommendation: Matrix Factorized Collaborative Filtering**\n",
    "\n",
    "### **Import necessary library**"
   ]
  },
  {
   "cell_type": "code",
   "execution_count": 3,
   "id": "f11cb830",
   "metadata": {
    "execution": {
     "iopub.execute_input": "2024-12-17T14:35:22.842728Z",
     "iopub.status.busy": "2024-12-17T14:35:22.842313Z",
     "iopub.status.idle": "2024-12-17T14:35:22.846294Z",
     "shell.execute_reply": "2024-12-17T14:35:22.845423Z"
    },
    "papermill": {
     "duration": 0.012298,
     "end_time": "2024-12-17T14:35:22.848045",
     "exception": false,
     "start_time": "2024-12-17T14:35:22.835747",
     "status": "completed"
    },
    "tags": []
   },
   "outputs": [],
   "source": [
    "import pandas as pd \n",
    "import numpy as np \n",
    "import math\n",
    "from collaborative_filtering import MatrixFactorizationCF, build_utility_matrix, eval"
   ]
  },
  {
   "cell_type": "code",
   "execution_count": 4,
   "id": "04b33cc4",
   "metadata": {
    "execution": {
     "iopub.execute_input": "2024-12-17T14:35:22.860771Z",
     "iopub.status.busy": "2024-12-17T14:35:22.860517Z",
     "iopub.status.idle": "2024-12-17T14:35:25.287014Z",
     "shell.execute_reply": "2024-12-17T14:35:25.286008Z"
    },
    "papermill": {
     "duration": 2.43516,
     "end_time": "2024-12-17T14:35:25.289200",
     "exception": false,
     "start_time": "2024-12-17T14:35:22.854040",
     "status": "completed"
    },
    "tags": []
   },
   "outputs": [],
   "source": [
    "train_data = pd.read_csv('resources/data/train_val_test/ratings_train.csv', header=None, names=['UserID', 'MovieID', 'Rating'])\n",
    "test_data = pd.read_csv('resources/data/train_val_test/ratings_test.csv', header=None, names=['UserID', 'MovieID', 'Rating'])\n",
    "val_data = pd.read_csv('resources/data/train_val_test/ratings_val.csv', header=None, names=['UserID', 'MovieID', 'Rating'])"
   ]
  },
  {
   "cell_type": "code",
   "execution_count": 5,
   "id": "96aa0f18",
   "metadata": {
    "execution": {
     "iopub.execute_input": "2024-12-17T14:35:25.303961Z",
     "iopub.status.busy": "2024-12-17T14:35:25.303627Z",
     "iopub.status.idle": "2024-12-17T14:35:25.320154Z",
     "shell.execute_reply": "2024-12-17T14:35:25.319241Z"
    },
    "papermill": {
     "duration": 0.026104,
     "end_time": "2024-12-17T14:35:25.322182",
     "exception": false,
     "start_time": "2024-12-17T14:35:25.296078",
     "status": "completed"
    },
    "tags": []
   },
   "outputs": [
    {
     "data": {
      "text/html": [
       "<div>\n",
       "<style scoped>\n",
       "    .dataframe tbody tr th:only-of-type {\n",
       "        vertical-align: middle;\n",
       "    }\n",
       "\n",
       "    .dataframe tbody tr th {\n",
       "        vertical-align: top;\n",
       "    }\n",
       "\n",
       "    .dataframe thead th {\n",
       "        text-align: right;\n",
       "    }\n",
       "</style>\n",
       "<table border=\"1\" class=\"dataframe\">\n",
       "  <thead>\n",
       "    <tr style=\"text-align: right;\">\n",
       "      <th></th>\n",
       "      <th>UserID</th>\n",
       "      <th>MovieID</th>\n",
       "      <th>Rating</th>\n",
       "    </tr>\n",
       "  </thead>\n",
       "  <tbody>\n",
       "    <tr>\n",
       "      <th>0</th>\n",
       "      <td>36527471</td>\n",
       "      <td>1659337</td>\n",
       "      <td>8</td>\n",
       "    </tr>\n",
       "    <tr>\n",
       "      <th>1</th>\n",
       "      <td>65089494</td>\n",
       "      <td>105695</td>\n",
       "      <td>10</td>\n",
       "    </tr>\n",
       "    <tr>\n",
       "      <th>2</th>\n",
       "      <td>23249666</td>\n",
       "      <td>1628064</td>\n",
       "      <td>9</td>\n",
       "    </tr>\n",
       "    <tr>\n",
       "      <th>3</th>\n",
       "      <td>7776823</td>\n",
       "      <td>110413</td>\n",
       "      <td>10</td>\n",
       "    </tr>\n",
       "    <tr>\n",
       "      <th>4</th>\n",
       "      <td>122607281</td>\n",
       "      <td>2948372</td>\n",
       "      <td>6</td>\n",
       "    </tr>\n",
       "  </tbody>\n",
       "</table>\n",
       "</div>"
      ],
      "text/plain": [
       "      UserID  MovieID  Rating\n",
       "0   36527471  1659337       8\n",
       "1   65089494   105695      10\n",
       "2   23249666  1628064       9\n",
       "3    7776823   110413      10\n",
       "4  122607281  2948372       6"
      ]
     },
     "execution_count": 5,
     "metadata": {},
     "output_type": "execute_result"
    }
   ],
   "source": [
    "train_data.head()"
   ]
  },
  {
   "cell_type": "code",
   "execution_count": 6,
   "id": "ea05276e",
   "metadata": {
    "execution": {
     "iopub.execute_input": "2024-12-17T14:35:25.336804Z",
     "iopub.status.busy": "2024-12-17T14:35:25.336522Z",
     "iopub.status.idle": "2024-12-17T14:35:25.344159Z",
     "shell.execute_reply": "2024-12-17T14:35:25.343342Z"
    },
    "papermill": {
     "duration": 0.016253,
     "end_time": "2024-12-17T14:35:25.345832",
     "exception": false,
     "start_time": "2024-12-17T14:35:25.329579",
     "status": "completed"
    },
    "tags": []
   },
   "outputs": [
    {
     "data": {
      "text/html": [
       "<div>\n",
       "<style scoped>\n",
       "    .dataframe tbody tr th:only-of-type {\n",
       "        vertical-align: middle;\n",
       "    }\n",
       "\n",
       "    .dataframe tbody tr th {\n",
       "        vertical-align: top;\n",
       "    }\n",
       "\n",
       "    .dataframe thead th {\n",
       "        text-align: right;\n",
       "    }\n",
       "</style>\n",
       "<table border=\"1\" class=\"dataframe\">\n",
       "  <thead>\n",
       "    <tr style=\"text-align: right;\">\n",
       "      <th></th>\n",
       "      <th>UserID</th>\n",
       "      <th>MovieID</th>\n",
       "      <th>Rating</th>\n",
       "    </tr>\n",
       "  </thead>\n",
       "  <tbody>\n",
       "    <tr>\n",
       "      <th>3699431</th>\n",
       "      <td>58251797</td>\n",
       "      <td>4729430</td>\n",
       "      <td>8</td>\n",
       "    </tr>\n",
       "    <tr>\n",
       "      <th>3699432</th>\n",
       "      <td>93006392</td>\n",
       "      <td>2545428</td>\n",
       "      <td>8</td>\n",
       "    </tr>\n",
       "    <tr>\n",
       "      <th>3699433</th>\n",
       "      <td>18815933</td>\n",
       "      <td>2537176</td>\n",
       "      <td>6</td>\n",
       "    </tr>\n",
       "    <tr>\n",
       "      <th>3699434</th>\n",
       "      <td>28443655</td>\n",
       "      <td>414982</td>\n",
       "      <td>3</td>\n",
       "    </tr>\n",
       "    <tr>\n",
       "      <th>3699435</th>\n",
       "      <td>1067456</td>\n",
       "      <td>108399</td>\n",
       "      <td>10</td>\n",
       "    </tr>\n",
       "  </tbody>\n",
       "</table>\n",
       "</div>"
      ],
      "text/plain": [
       "           UserID  MovieID  Rating\n",
       "3699431  58251797  4729430       8\n",
       "3699432  93006392  2545428       8\n",
       "3699433  18815933  2537176       6\n",
       "3699434  28443655   414982       3\n",
       "3699435   1067456   108399      10"
      ]
     },
     "execution_count": 6,
     "metadata": {},
     "output_type": "execute_result"
    }
   ],
   "source": [
    "train_data.tail()"
   ]
  },
  {
   "cell_type": "code",
   "execution_count": 7,
   "id": "595e5b69",
   "metadata": {
    "execution": {
     "iopub.execute_input": "2024-12-17T14:35:25.359451Z",
     "iopub.status.busy": "2024-12-17T14:35:25.359132Z",
     "iopub.status.idle": "2024-12-17T14:35:25.424995Z",
     "shell.execute_reply": "2024-12-17T14:35:25.424034Z"
    },
    "papermill": {
     "duration": 0.074351,
     "end_time": "2024-12-17T14:35:25.426748",
     "exception": false,
     "start_time": "2024-12-17T14:35:25.352397",
     "status": "completed"
    },
    "tags": []
   },
   "outputs": [
    {
     "data": {
      "text/plain": [
       "(9130, 9814)"
      ]
     },
     "execution_count": 7,
     "metadata": {},
     "output_type": "execute_result"
    }
   ],
   "source": [
    "num_users = train_data.UserID.unique().shape[0]\n",
    "num_movies = train_data.MovieID.unique().shape[0]\n",
    "num_users, num_movies"
   ]
  },
  {
   "cell_type": "code",
   "execution_count": 8,
   "id": "3863ead6",
   "metadata": {
    "execution": {
     "iopub.execute_input": "2024-12-17T14:35:25.442545Z",
     "iopub.status.busy": "2024-12-17T14:35:25.441994Z",
     "iopub.status.idle": "2024-12-17T14:35:25.450027Z",
     "shell.execute_reply": "2024-12-17T14:35:25.449152Z"
    },
    "papermill": {
     "duration": 0.017334,
     "end_time": "2024-12-17T14:35:25.451572",
     "exception": false,
     "start_time": "2024-12-17T14:35:25.434238",
     "status": "completed"
    },
    "tags": []
   },
   "outputs": [
    {
     "data": {
      "text/html": [
       "<div>\n",
       "<style scoped>\n",
       "    .dataframe tbody tr th:only-of-type {\n",
       "        vertical-align: middle;\n",
       "    }\n",
       "\n",
       "    .dataframe tbody tr th {\n",
       "        vertical-align: top;\n",
       "    }\n",
       "\n",
       "    .dataframe thead th {\n",
       "        text-align: right;\n",
       "    }\n",
       "</style>\n",
       "<table border=\"1\" class=\"dataframe\">\n",
       "  <thead>\n",
       "    <tr style=\"text-align: right;\">\n",
       "      <th></th>\n",
       "      <th>UserID</th>\n",
       "      <th>MovieID</th>\n",
       "      <th>Rating</th>\n",
       "    </tr>\n",
       "  </thead>\n",
       "  <tbody>\n",
       "    <tr>\n",
       "      <th>0</th>\n",
       "      <td>45430544</td>\n",
       "      <td>83798</td>\n",
       "      <td>7</td>\n",
       "    </tr>\n",
       "    <tr>\n",
       "      <th>1</th>\n",
       "      <td>34807113</td>\n",
       "      <td>1250777</td>\n",
       "      <td>9</td>\n",
       "    </tr>\n",
       "    <tr>\n",
       "      <th>2</th>\n",
       "      <td>67646271</td>\n",
       "      <td>80120</td>\n",
       "      <td>4</td>\n",
       "    </tr>\n",
       "    <tr>\n",
       "      <th>3</th>\n",
       "      <td>51265424</td>\n",
       "      <td>1490017</td>\n",
       "      <td>8</td>\n",
       "    </tr>\n",
       "    <tr>\n",
       "      <th>4</th>\n",
       "      <td>51235794</td>\n",
       "      <td>11813216</td>\n",
       "      <td>8</td>\n",
       "    </tr>\n",
       "  </tbody>\n",
       "</table>\n",
       "</div>"
      ],
      "text/plain": [
       "     UserID   MovieID  Rating\n",
       "0  45430544     83798       7\n",
       "1  34807113   1250777       9\n",
       "2  67646271     80120       4\n",
       "3  51265424   1490017       8\n",
       "4  51235794  11813216       8"
      ]
     },
     "execution_count": 8,
     "metadata": {},
     "output_type": "execute_result"
    }
   ],
   "source": [
    "test_data.head()"
   ]
  },
  {
   "cell_type": "code",
   "execution_count": 9,
   "id": "a360c603",
   "metadata": {
    "execution": {
     "iopub.execute_input": "2024-12-17T14:35:25.465928Z",
     "iopub.status.busy": "2024-12-17T14:35:25.465631Z",
     "iopub.status.idle": "2024-12-17T14:35:25.473733Z",
     "shell.execute_reply": "2024-12-17T14:35:25.472846Z"
    },
    "papermill": {
     "duration": 0.017533,
     "end_time": "2024-12-17T14:35:25.475431",
     "exception": false,
     "start_time": "2024-12-17T14:35:25.457898",
     "status": "completed"
    },
    "tags": []
   },
   "outputs": [
    {
     "data": {
      "text/html": [
       "<div>\n",
       "<style scoped>\n",
       "    .dataframe tbody tr th:only-of-type {\n",
       "        vertical-align: middle;\n",
       "    }\n",
       "\n",
       "    .dataframe tbody tr th {\n",
       "        vertical-align: top;\n",
       "    }\n",
       "\n",
       "    .dataframe thead th {\n",
       "        text-align: right;\n",
       "    }\n",
       "</style>\n",
       "<table border=\"1\" class=\"dataframe\">\n",
       "  <thead>\n",
       "    <tr style=\"text-align: right;\">\n",
       "      <th></th>\n",
       "      <th>UserID</th>\n",
       "      <th>MovieID</th>\n",
       "      <th>Rating</th>\n",
       "    </tr>\n",
       "  </thead>\n",
       "  <tbody>\n",
       "    <tr>\n",
       "      <th>462425</th>\n",
       "      <td>30899304</td>\n",
       "      <td>1136608</td>\n",
       "      <td>9</td>\n",
       "    </tr>\n",
       "    <tr>\n",
       "      <th>462426</th>\n",
       "      <td>22328566</td>\n",
       "      <td>108783</td>\n",
       "      <td>10</td>\n",
       "    </tr>\n",
       "    <tr>\n",
       "      <th>462427</th>\n",
       "      <td>26159893</td>\n",
       "      <td>333780</td>\n",
       "      <td>7</td>\n",
       "    </tr>\n",
       "    <tr>\n",
       "      <th>462428</th>\n",
       "      <td>35725947</td>\n",
       "      <td>3569230</td>\n",
       "      <td>6</td>\n",
       "    </tr>\n",
       "    <tr>\n",
       "      <th>462429</th>\n",
       "      <td>23018536</td>\n",
       "      <td>1232829</td>\n",
       "      <td>8</td>\n",
       "    </tr>\n",
       "  </tbody>\n",
       "</table>\n",
       "</div>"
      ],
      "text/plain": [
       "          UserID  MovieID  Rating\n",
       "462425  30899304  1136608       9\n",
       "462426  22328566   108783      10\n",
       "462427  26159893   333780       7\n",
       "462428  35725947  3569230       6\n",
       "462429  23018536  1232829       8"
      ]
     },
     "execution_count": 9,
     "metadata": {},
     "output_type": "execute_result"
    }
   ],
   "source": [
    "test_data.tail()"
   ]
  },
  {
   "cell_type": "code",
   "execution_count": 10,
   "id": "6bc26412",
   "metadata": {
    "execution": {
     "iopub.execute_input": "2024-12-17T14:35:25.490417Z",
     "iopub.status.busy": "2024-12-17T14:35:25.490093Z",
     "iopub.status.idle": "2024-12-17T14:35:25.504362Z",
     "shell.execute_reply": "2024-12-17T14:35:25.503587Z"
    },
    "papermill": {
     "duration": 0.023865,
     "end_time": "2024-12-17T14:35:25.506127",
     "exception": false,
     "start_time": "2024-12-17T14:35:25.482262",
     "status": "completed"
    },
    "tags": []
   },
   "outputs": [
    {
     "data": {
      "text/plain": [
       "(9130, 9814)"
      ]
     },
     "execution_count": 10,
     "metadata": {},
     "output_type": "execute_result"
    }
   ],
   "source": [
    "num_users = test_data.UserID.unique().shape[0]\n",
    "num_movies = test_data.MovieID.unique().shape[0]\n",
    "num_users, num_movies"
   ]
  },
  {
   "cell_type": "code",
   "execution_count": 11,
   "id": "881ef07b",
   "metadata": {
    "execution": {
     "iopub.execute_input": "2024-12-17T14:35:25.521467Z",
     "iopub.status.busy": "2024-12-17T14:35:25.520804Z",
     "iopub.status.idle": "2024-12-17T14:35:25.529011Z",
     "shell.execute_reply": "2024-12-17T14:35:25.528093Z"
    },
    "papermill": {
     "duration": 0.017431,
     "end_time": "2024-12-17T14:35:25.530664",
     "exception": false,
     "start_time": "2024-12-17T14:35:25.513233",
     "status": "completed"
    },
    "tags": []
   },
   "outputs": [
    {
     "data": {
      "text/html": [
       "<div>\n",
       "<style scoped>\n",
       "    .dataframe tbody tr th:only-of-type {\n",
       "        vertical-align: middle;\n",
       "    }\n",
       "\n",
       "    .dataframe tbody tr th {\n",
       "        vertical-align: top;\n",
       "    }\n",
       "\n",
       "    .dataframe thead th {\n",
       "        text-align: right;\n",
       "    }\n",
       "</style>\n",
       "<table border=\"1\" class=\"dataframe\">\n",
       "  <thead>\n",
       "    <tr style=\"text-align: right;\">\n",
       "      <th></th>\n",
       "      <th>UserID</th>\n",
       "      <th>MovieID</th>\n",
       "      <th>Rating</th>\n",
       "    </tr>\n",
       "  </thead>\n",
       "  <tbody>\n",
       "    <tr>\n",
       "      <th>0</th>\n",
       "      <td>131612777</td>\n",
       "      <td>891592</td>\n",
       "      <td>2</td>\n",
       "    </tr>\n",
       "    <tr>\n",
       "      <th>1</th>\n",
       "      <td>23320225</td>\n",
       "      <td>2382320</td>\n",
       "      <td>7</td>\n",
       "    </tr>\n",
       "    <tr>\n",
       "      <th>2</th>\n",
       "      <td>28071275</td>\n",
       "      <td>45758</td>\n",
       "      <td>3</td>\n",
       "    </tr>\n",
       "    <tr>\n",
       "      <th>3</th>\n",
       "      <td>23856336</td>\n",
       "      <td>68699</td>\n",
       "      <td>10</td>\n",
       "    </tr>\n",
       "    <tr>\n",
       "      <th>4</th>\n",
       "      <td>47196478</td>\n",
       "      <td>95327</td>\n",
       "      <td>7</td>\n",
       "    </tr>\n",
       "  </tbody>\n",
       "</table>\n",
       "</div>"
      ],
      "text/plain": [
       "      UserID  MovieID  Rating\n",
       "0  131612777   891592       2\n",
       "1   23320225  2382320       7\n",
       "2   28071275    45758       3\n",
       "3   23856336    68699      10\n",
       "4   47196478    95327       7"
      ]
     },
     "execution_count": 11,
     "metadata": {},
     "output_type": "execute_result"
    }
   ],
   "source": [
    "val_data.head()"
   ]
  },
  {
   "cell_type": "code",
   "execution_count": 12,
   "id": "68bc27a4",
   "metadata": {
    "execution": {
     "iopub.execute_input": "2024-12-17T14:35:25.544725Z",
     "iopub.status.busy": "2024-12-17T14:35:25.544498Z",
     "iopub.status.idle": "2024-12-17T14:35:25.551410Z",
     "shell.execute_reply": "2024-12-17T14:35:25.550654Z"
    },
    "papermill": {
     "duration": 0.015943,
     "end_time": "2024-12-17T14:35:25.553137",
     "exception": false,
     "start_time": "2024-12-17T14:35:25.537194",
     "status": "completed"
    },
    "tags": []
   },
   "outputs": [
    {
     "data": {
      "text/html": [
       "<div>\n",
       "<style scoped>\n",
       "    .dataframe tbody tr th:only-of-type {\n",
       "        vertical-align: middle;\n",
       "    }\n",
       "\n",
       "    .dataframe tbody tr th {\n",
       "        vertical-align: top;\n",
       "    }\n",
       "\n",
       "    .dataframe thead th {\n",
       "        text-align: right;\n",
       "    }\n",
       "</style>\n",
       "<table border=\"1\" class=\"dataframe\">\n",
       "  <thead>\n",
       "    <tr style=\"text-align: right;\">\n",
       "      <th></th>\n",
       "      <th>UserID</th>\n",
       "      <th>MovieID</th>\n",
       "      <th>Rating</th>\n",
       "    </tr>\n",
       "  </thead>\n",
       "  <tbody>\n",
       "    <tr>\n",
       "      <th>462425</th>\n",
       "      <td>77954315</td>\n",
       "      <td>113870</td>\n",
       "      <td>7</td>\n",
       "    </tr>\n",
       "    <tr>\n",
       "      <th>462426</th>\n",
       "      <td>4580541</td>\n",
       "      <td>91877</td>\n",
       "      <td>6</td>\n",
       "    </tr>\n",
       "    <tr>\n",
       "      <th>462427</th>\n",
       "      <td>25506300</td>\n",
       "      <td>1877832</td>\n",
       "      <td>9</td>\n",
       "    </tr>\n",
       "    <tr>\n",
       "      <th>462428</th>\n",
       "      <td>27367887</td>\n",
       "      <td>435761</td>\n",
       "      <td>8</td>\n",
       "    </tr>\n",
       "    <tr>\n",
       "      <th>462429</th>\n",
       "      <td>364025</td>\n",
       "      <td>185014</td>\n",
       "      <td>9</td>\n",
       "    </tr>\n",
       "  </tbody>\n",
       "</table>\n",
       "</div>"
      ],
      "text/plain": [
       "          UserID  MovieID  Rating\n",
       "462425  77954315   113870       7\n",
       "462426   4580541    91877       6\n",
       "462427  25506300  1877832       9\n",
       "462428  27367887   435761       8\n",
       "462429    364025   185014       9"
      ]
     },
     "execution_count": 12,
     "metadata": {},
     "output_type": "execute_result"
    }
   ],
   "source": [
    "val_data.tail()"
   ]
  },
  {
   "cell_type": "code",
   "execution_count": 13,
   "id": "3aa49ce9",
   "metadata": {
    "execution": {
     "iopub.execute_input": "2024-12-17T14:35:25.567795Z",
     "iopub.status.busy": "2024-12-17T14:35:25.567539Z",
     "iopub.status.idle": "2024-12-17T14:35:25.580461Z",
     "shell.execute_reply": "2024-12-17T14:35:25.579652Z"
    },
    "papermill": {
     "duration": 0.021925,
     "end_time": "2024-12-17T14:35:25.582009",
     "exception": false,
     "start_time": "2024-12-17T14:35:25.560084",
     "status": "completed"
    },
    "tags": []
   },
   "outputs": [
    {
     "data": {
      "text/plain": [
       "(9130, 9814)"
      ]
     },
     "execution_count": 13,
     "metadata": {},
     "output_type": "execute_result"
    }
   ],
   "source": [
    "num_users = val_data.UserID.unique().shape[0]\n",
    "num_movies = val_data.MovieID.unique().shape[0]\n",
    "num_users, num_movies"
   ]
  },
  {
   "cell_type": "code",
   "execution_count": 14,
   "id": "693df505",
   "metadata": {
    "execution": {
     "iopub.execute_input": "2024-12-17T14:35:25.596480Z",
     "iopub.status.busy": "2024-12-17T14:35:25.595988Z",
     "iopub.status.idle": "2024-12-17T14:35:25.664552Z",
     "shell.execute_reply": "2024-12-17T14:35:25.663582Z"
    },
    "papermill": {
     "duration": 0.077936,
     "end_time": "2024-12-17T14:35:25.666570",
     "exception": false,
     "start_time": "2024-12-17T14:35:25.588634",
     "status": "completed"
    },
    "tags": []
   },
   "outputs": [],
   "source": [
    "movies = train_data.MovieID.drop_duplicates()\n",
    "movies = pd.DataFrame(movies, columns=['MovieID'])\n",
    "movies = movies.sort_values('MovieID', ascending=True)\n",
    "movies = movies[['MovieID']]\n",
    "movies = movies.reset_index()"
   ]
  },
  {
   "cell_type": "code",
   "execution_count": 15,
   "id": "88368746",
   "metadata": {
    "execution": {
     "iopub.execute_input": "2024-12-17T14:35:25.681590Z",
     "iopub.status.busy": "2024-12-17T14:35:25.681021Z",
     "iopub.status.idle": "2024-12-17T14:35:25.730771Z",
     "shell.execute_reply": "2024-12-17T14:35:25.729888Z"
    },
    "papermill": {
     "duration": 0.059332,
     "end_time": "2024-12-17T14:35:25.732784",
     "exception": false,
     "start_time": "2024-12-17T14:35:25.673452",
     "status": "completed"
    },
    "tags": []
   },
   "outputs": [],
   "source": [
    "users = train_data.UserID.drop_duplicates()\n",
    "users = pd.DataFrame(users, columns=['UserID'])\n",
    "users = users.sort_values('UserID', ascending=True)\n",
    "users = users[['UserID']]\n",
    "users = users.reset_index()"
   ]
  },
  {
   "cell_type": "markdown",
   "id": "854c409b",
   "metadata": {
    "papermill": {
     "duration": 0.006538,
     "end_time": "2024-12-17T14:35:25.746204",
     "exception": false,
     "start_time": "2024-12-17T14:35:25.739666",
     "status": "completed"
    },
    "tags": []
   },
   "source": [
    "### **Build Utility Matrix**"
   ]
  },
  {
   "cell_type": "code",
   "execution_count": 16,
   "id": "44d065ae",
   "metadata": {
    "execution": {
     "iopub.execute_input": "2024-12-17T14:35:25.760583Z",
     "iopub.status.busy": "2024-12-17T14:35:25.760275Z",
     "iopub.status.idle": "2024-12-17T14:35:29.846286Z",
     "shell.execute_reply": "2024-12-17T14:35:29.845450Z"
    },
    "papermill": {
     "duration": 4.095301,
     "end_time": "2024-12-17T14:35:29.848117",
     "exception": false,
     "start_time": "2024-12-17T14:35:25.752816",
     "status": "completed"
    },
    "tags": []
   },
   "outputs": [
    {
     "data": {
      "text/plain": [
       "array([[0., 0., 7., ..., 0., 0., 0.],\n",
       "       [0., 0., 0., ..., 7., 0., 0.],\n",
       "       [0., 0., 0., ..., 0., 0., 0.],\n",
       "       ...,\n",
       "       [0., 0., 0., ..., 0., 0., 0.],\n",
       "       [0., 0., 0., ..., 0., 0., 0.],\n",
       "       [0., 0., 0., ..., 0., 0., 0.]])"
      ]
     },
     "execution_count": 16,
     "metadata": {},
     "output_type": "execute_result"
    }
   ],
   "source": [
    "train_R = build_utility_matrix(train_data)\n",
    "train_R"
   ]
  },
  {
   "cell_type": "code",
   "execution_count": 17,
   "id": "55c5d9a5",
   "metadata": {
    "execution": {
     "iopub.execute_input": "2024-12-17T14:35:29.863640Z",
     "iopub.status.busy": "2024-12-17T14:35:29.863316Z",
     "iopub.status.idle": "2024-12-17T14:35:31.943903Z",
     "shell.execute_reply": "2024-12-17T14:35:31.942794Z"
    },
    "papermill": {
     "duration": 2.090571,
     "end_time": "2024-12-17T14:35:31.945845",
     "exception": false,
     "start_time": "2024-12-17T14:35:29.855274",
     "status": "completed"
    },
    "tags": []
   },
   "outputs": [
    {
     "data": {
      "text/plain": [
       "array([[8., 8., 0., ..., 0., 0., 0.],\n",
       "       [0., 0., 0., ..., 0., 0., 0.],\n",
       "       [0., 0., 0., ..., 0., 0., 0.],\n",
       "       ...,\n",
       "       [0., 0., 0., ..., 0., 0., 0.],\n",
       "       [0., 0., 0., ..., 0., 0., 0.],\n",
       "       [0., 0., 0., ..., 0., 0., 0.]])"
      ]
     },
     "execution_count": 17,
     "metadata": {},
     "output_type": "execute_result"
    }
   ],
   "source": [
    "val_R = build_utility_matrix(val_data)\n",
    "val_R"
   ]
  },
  {
   "cell_type": "markdown",
   "id": "ec508bae",
   "metadata": {
    "papermill": {
     "duration": 0.007122,
     "end_time": "2024-12-17T14:35:31.960818",
     "exception": false,
     "start_time": "2024-12-17T14:35:31.953696",
     "status": "completed"
    },
    "tags": []
   },
   "source": [
    "## **User-based MF**"
   ]
  },
  {
   "cell_type": "code",
   "execution_count": 18,
   "id": "423de15b",
   "metadata": {
    "execution": {
     "iopub.execute_input": "2024-12-17T14:35:31.976022Z",
     "iopub.status.busy": "2024-12-17T14:35:31.975728Z",
     "iopub.status.idle": "2024-12-17T16:26:45.249409Z",
     "shell.execute_reply": "2024-12-17T16:26:45.248148Z"
    },
    "papermill": {
     "duration": 6673.301793,
     "end_time": "2024-12-17T16:26:45.269526",
     "exception": false,
     "start_time": "2024-12-17T14:35:31.967733",
     "status": "completed"
    },
    "tags": []
   },
   "outputs": [
    {
     "name": "stdout",
     "output_type": "stream",
     "text": [
      "Epoch: 1 - Train RMSE: 1.7212, Validation RMSE: 1.6257\n",
      "Model saved to best_uumf_model.joblib.\n",
      "Epoch: 2 - Train RMSE: 1.6297, Validation RMSE: 1.5990\n",
      "Model saved to best_uumf_model.joblib.\n",
      "Epoch: 3 - Train RMSE: 1.6136, Validation RMSE: 1.5834\n",
      "Model saved to best_uumf_model.joblib.\n",
      "Epoch: 4 - Train RMSE: 1.5935, Validation RMSE: 1.5539\n",
      "Model saved to best_uumf_model.joblib.\n",
      "Epoch: 5 - Train RMSE: 1.5724, Validation RMSE: 1.5348\n",
      "Model saved to best_uumf_model.joblib.\n",
      "Epoch: 6 - Train RMSE: 1.5556, Validation RMSE: 1.5171\n",
      "Model saved to best_uumf_model.joblib.\n",
      "Epoch: 7 - Train RMSE: 1.5407, Validation RMSE: 1.5038\n",
      "Model saved to best_uumf_model.joblib.\n",
      "Epoch: 8 - Train RMSE: 1.5281, Validation RMSE: 1.4930\n",
      "Model saved to best_uumf_model.joblib.\n",
      "Epoch: 9 - Train RMSE: 1.5170, Validation RMSE: 1.4840\n",
      "Model saved to best_uumf_model.joblib.\n",
      "Epoch: 10 - Train RMSE: 1.5069, Validation RMSE: 1.4759\n",
      "Model saved to best_uumf_model.joblib.\n",
      "Epoch: 11 - Train RMSE: 1.4977, Validation RMSE: 1.4695\n",
      "Model saved to best_uumf_model.joblib.\n",
      "Epoch: 12 - Train RMSE: 1.4892, Validation RMSE: 1.4644\n",
      "Model saved to best_uumf_model.joblib.\n",
      "Epoch: 13 - Train RMSE: 1.4814, Validation RMSE: 1.4601\n",
      "Model saved to best_uumf_model.joblib.\n",
      "Epoch: 14 - Train RMSE: 1.4740, Validation RMSE: 1.4566\n",
      "Model saved to best_uumf_model.joblib.\n",
      "Epoch: 15 - Train RMSE: 1.4673, Validation RMSE: 1.4540\n",
      "Model saved to best_uumf_model.joblib.\n",
      "Epoch: 16 - Train RMSE: 1.4611, Validation RMSE: 1.4524\n",
      "Model saved to best_uumf_model.joblib.\n",
      "Epoch: 17 - Train RMSE: 1.4555, Validation RMSE: 1.4512\n",
      "Model saved to best_uumf_model.joblib.\n",
      "Epoch: 18 - Train RMSE: 1.4505, Validation RMSE: 1.4505\n",
      "Model saved to best_uumf_model.joblib.\n",
      "Epoch: 19 - Train RMSE: 1.4459, Validation RMSE: 1.4504\n",
      "Model saved to best_uumf_model.joblib.\n",
      "Epoch: 20 - Train RMSE: 1.4419, Validation RMSE: 1.4508\n",
      "Epoch: 21 - Train RMSE: 1.4383, Validation RMSE: 1.4512\n",
      "Epoch: 22 - Train RMSE: 1.4352, Validation RMSE: 1.4521\n",
      "Epoch: 23 - Train RMSE: 1.4324, Validation RMSE: 1.4525\n",
      "Epoch: 24 - Train RMSE: 1.4299, Validation RMSE: 1.4534\n",
      "Epoch: 25 - Train RMSE: 1.4277, Validation RMSE: 1.4540\n",
      "Epoch: 26 - Train RMSE: 1.4257, Validation RMSE: 1.4546\n",
      "Epoch: 27 - Train RMSE: 1.4239, Validation RMSE: 1.4558\n",
      "Epoch: 28 - Train RMSE: 1.4223, Validation RMSE: 1.4564\n",
      "Epoch: 29 - Train RMSE: 1.4209, Validation RMSE: 1.4572\n",
      "Epoch: 30 - Train RMSE: 1.4196, Validation RMSE: 1.4579\n",
      "Epoch: 31 - Train RMSE: 1.4184, Validation RMSE: 1.4585\n",
      "Epoch: 32 - Train RMSE: 1.4174, Validation RMSE: 1.4593\n",
      "Epoch: 33 - Train RMSE: 1.4164, Validation RMSE: 1.4599\n",
      "Epoch: 34 - Train RMSE: 1.4155, Validation RMSE: 1.4606\n",
      "Epoch: 35 - Train RMSE: 1.4147, Validation RMSE: 1.4617\n",
      "Epoch: 36 - Train RMSE: 1.4140, Validation RMSE: 1.4618\n",
      "Epoch: 37 - Train RMSE: 1.4133, Validation RMSE: 1.4622\n",
      "Epoch: 38 - Train RMSE: 1.4127, Validation RMSE: 1.4629\n",
      "Epoch: 39 - Train RMSE: 1.4121, Validation RMSE: 1.4632\n",
      "Epoch: 40 - Train RMSE: 1.4116, Validation RMSE: 1.4638\n",
      "Epoch: 41 - Train RMSE: 1.4111, Validation RMSE: 1.4643\n",
      "Epoch: 42 - Train RMSE: 1.4106, Validation RMSE: 1.4648\n",
      "Epoch: 43 - Train RMSE: 1.4103, Validation RMSE: 1.4653\n",
      "Epoch: 44 - Train RMSE: 1.4099, Validation RMSE: 1.4661\n",
      "Epoch: 45 - Train RMSE: 1.4095, Validation RMSE: 1.4660\n",
      "Epoch: 46 - Train RMSE: 1.4091, Validation RMSE: 1.4666\n",
      "Epoch: 47 - Train RMSE: 1.4088, Validation RMSE: 1.4673\n",
      "Epoch: 48 - Train RMSE: 1.4085, Validation RMSE: 1.4675\n",
      "Epoch: 49 - Train RMSE: 1.4082, Validation RMSE: 1.4676\n",
      "Epoch: 50 - Train RMSE: 1.4080, Validation RMSE: 1.4680\n"
     ]
    },
    {
     "data": {
      "text/plain": [
       "1.4503506346479929"
      ]
     },
     "execution_count": 18,
     "metadata": {},
     "output_type": "execute_result"
    }
   ],
   "source": [
    "UUMF = MatrixFactorizationCF(R=train_R, K=30, learning_rate=0.005, epochs=50, regularization=0.05)\n",
    "UUMF.train(val_R)"
   ]
  },
  {
   "cell_type": "code",
   "execution_count": 19,
   "id": "e776cca2",
   "metadata": {
    "execution": {
     "iopub.execute_input": "2024-12-17T16:26:45.296589Z",
     "iopub.status.busy": "2024-12-17T16:26:45.296205Z",
     "iopub.status.idle": "2024-12-17T16:26:45.305335Z",
     "shell.execute_reply": "2024-12-17T16:26:45.304299Z"
    },
    "papermill": {
     "duration": 0.022352,
     "end_time": "2024-12-17T16:26:45.307180",
     "exception": false,
     "start_time": "2024-12-17T16:26:45.284828",
     "status": "completed"
    },
    "tags": []
   },
   "outputs": [
    {
     "name": "stdout",
     "output_type": "stream",
     "text": [
      "Model loaded from best_uumf_model.joblib.\n"
     ]
    }
   ],
   "source": [
    "uumf_model = MatrixFactorizationCF.load_model('best_uumf_model.joblib', train_R)"
   ]
  },
  {
   "cell_type": "code",
   "execution_count": 20,
   "id": "be6be4b4",
   "metadata": {
    "execution": {
     "iopub.execute_input": "2024-12-17T16:26:45.329353Z",
     "iopub.status.busy": "2024-12-17T16:26:45.329055Z",
     "iopub.status.idle": "2024-12-17T16:26:46.327330Z",
     "shell.execute_reply": "2024-12-17T16:26:46.326210Z"
    },
    "papermill": {
     "duration": 1.012436,
     "end_time": "2024-12-17T16:26:46.330194",
     "exception": false,
     "start_time": "2024-12-17T16:26:45.317758",
     "status": "completed"
    },
    "tags": []
   },
   "outputs": [],
   "source": [
    "uu_predicted_R = uumf_model.full_prediction()"
   ]
  },
  {
   "cell_type": "code",
   "execution_count": 21,
   "id": "30fa5fad",
   "metadata": {
    "execution": {
     "iopub.execute_input": "2024-12-17T16:26:46.359719Z",
     "iopub.status.busy": "2024-12-17T16:26:46.359269Z",
     "iopub.status.idle": "2024-12-17T16:27:18.039134Z",
     "shell.execute_reply": "2024-12-17T16:27:18.038202Z"
    },
    "papermill": {
     "duration": 31.702303,
     "end_time": "2024-12-17T16:27:18.049889",
     "exception": false,
     "start_time": "2024-12-17T16:26:46.347586",
     "status": "completed"
    },
    "tags": []
   },
   "outputs": [
    {
     "data": {
      "text/plain": [
       "{'RMSE': 1.4517803300300467,\n",
       " 'Precision': 0.9202185319823873,\n",
       " 'Recall': 0.6982773428496173,\n",
       " 'F1-Score': 0.7940307557723417}"
      ]
     },
     "execution_count": 21,
     "metadata": {},
     "output_type": "execute_result"
    }
   ],
   "source": [
    "eval(\n",
    "    uu_predicted_R,\n",
    "    test_data=test_data,\n",
    "    users=users,\n",
    "    movies=movies        \n",
    ")"
   ]
  },
  {
   "cell_type": "code",
   "execution_count": 22,
   "id": "905f4e99",
   "metadata": {
    "execution": {
     "iopub.execute_input": "2024-12-17T16:27:18.072148Z",
     "iopub.status.busy": "2024-12-17T16:27:18.071832Z",
     "iopub.status.idle": "2024-12-17T16:27:18.476470Z",
     "shell.execute_reply": "2024-12-17T16:27:18.475626Z"
    },
    "papermill": {
     "duration": 0.418673,
     "end_time": "2024-12-17T16:27:18.478399",
     "exception": false,
     "start_time": "2024-12-17T16:27:18.059726",
     "status": "completed"
    },
    "tags": []
   },
   "outputs": [
    {
     "name": "stdout",
     "output_type": "stream",
     "text": [
      "Recommend movies for user 36527471 and predicted ratings:\n"
     ]
    },
    {
     "data": {
      "text/plain": [
       "[(1000252, 10),\n",
       " (1615553, 10),\n",
       " (1615944, 10),\n",
       " (1683085, 10),\n",
       " (1683086, 10),\n",
       " (1683088, 10),\n",
       " (2084342, 10),\n",
       " (2140553, 10),\n",
       " (2301449, 10),\n",
       " (2301451, 10),\n",
       " (2301455, 10),\n",
       " (2832378, 10),\n",
       " (3060860, 10),\n",
       " (3060910, 10),\n",
       " (3866850, 10),\n",
       " (4283088, 10),\n",
       " (4283094, 10),\n",
       " (4832268, 10),\n",
       " (5229638, 10),\n",
       " (7074030, 10),\n",
       " (9166696, 10),\n",
       " (11172022, 10),\n",
       " (12187032, 10),\n",
       " (12187040, 10),\n",
       " (12187044, 10)]"
      ]
     },
     "execution_count": 22,
     "metadata": {},
     "output_type": "execute_result"
    }
   ],
   "source": [
    "recommendation = uumf_model.recommend_using_predicted_ratings(id=36527471, predicted_ratings= uu_predicted_R, movies=movies, users=users, top_n=25)\n",
    "print('Recommend movies for user 36527471 and predicted ratings:')\n",
    "recommendation"
   ]
  },
  {
   "cell_type": "code",
   "execution_count": 23,
   "id": "f432ca63",
   "metadata": {
    "execution": {
     "iopub.execute_input": "2024-12-17T16:27:18.499555Z",
     "iopub.status.busy": "2024-12-17T16:27:18.499239Z",
     "iopub.status.idle": "2024-12-17T16:27:19.188141Z",
     "shell.execute_reply": "2024-12-17T16:27:19.187122Z"
    },
    "papermill": {
     "duration": 0.701374,
     "end_time": "2024-12-17T16:27:19.190008",
     "exception": false,
     "start_time": "2024-12-17T16:27:18.488634",
     "status": "completed"
    },
    "tags": []
   },
   "outputs": [
    {
     "name": "stdout",
     "output_type": "stream",
     "text": [
      "Recommend movies for user 36527471 and predicted ratings:\n"
     ]
    },
    {
     "data": {
      "text/plain": [
       "[(1000252, 10),\n",
       " (1615553, 10),\n",
       " (1615944, 10),\n",
       " (1683085, 10),\n",
       " (1683086, 10),\n",
       " (1683088, 10),\n",
       " (2084342, 10),\n",
       " (2140553, 10),\n",
       " (2301449, 10),\n",
       " (2301451, 10),\n",
       " (2301455, 10),\n",
       " (2832378, 10),\n",
       " (3060860, 10),\n",
       " (3060910, 10),\n",
       " (3866850, 10),\n",
       " (4283088, 10),\n",
       " (4283094, 10),\n",
       " (4832268, 10),\n",
       " (5229638, 10),\n",
       " (7074030, 10),\n",
       " (9166696, 10),\n",
       " (11172022, 10),\n",
       " (12187032, 10),\n",
       " (12187040, 10),\n",
       " (12187044, 10)]"
      ]
     },
     "execution_count": 23,
     "metadata": {},
     "output_type": "execute_result"
    }
   ],
   "source": [
    "recommendation = uumf_model.recommend(id=36527471, movies=movies, users=users, top_n=25)\n",
    "print('Recommend movies for user 36527471 and predicted ratings:')\n",
    "recommendation"
   ]
  },
  {
   "cell_type": "code",
   "execution_count": 24,
   "id": "fbc5c911",
   "metadata": {
    "execution": {
     "iopub.execute_input": "2024-12-17T16:27:19.211741Z",
     "iopub.status.busy": "2024-12-17T16:27:19.211008Z",
     "iopub.status.idle": "2024-12-17T16:27:19.214790Z",
     "shell.execute_reply": "2024-12-17T16:27:19.213991Z"
    },
    "papermill": {
     "duration": 0.016209,
     "end_time": "2024-12-17T16:27:19.216560",
     "exception": false,
     "start_time": "2024-12-17T16:27:19.200351",
     "status": "completed"
    },
    "tags": []
   },
   "outputs": [],
   "source": [
    "# UUMF.print_recommendation(predicted_R=predicted_R, movies=movies, users=users)"
   ]
  },
  {
   "cell_type": "markdown",
   "id": "49c77341",
   "metadata": {
    "papermill": {
     "duration": 0.009599,
     "end_time": "2024-12-17T16:27:19.236018",
     "exception": false,
     "start_time": "2024-12-17T16:27:19.226419",
     "status": "completed"
    },
    "tags": []
   },
   "source": [
    "## **Item-based MF**"
   ]
  },
  {
   "cell_type": "code",
   "execution_count": 25,
   "id": "08af7774",
   "metadata": {
    "execution": {
     "iopub.execute_input": "2024-12-17T16:27:19.256401Z",
     "iopub.status.busy": "2024-12-17T16:27:19.256089Z",
     "iopub.status.idle": "2024-12-17T18:20:52.666435Z",
     "shell.execute_reply": "2024-12-17T18:20:52.665088Z"
    },
    "papermill": {
     "duration": 6813.43578,
     "end_time": "2024-12-17T18:20:52.681323",
     "exception": false,
     "start_time": "2024-12-17T16:27:19.245543",
     "status": "completed"
    },
    "tags": []
   },
   "outputs": [
    {
     "name": "stdout",
     "output_type": "stream",
     "text": [
      "Epoch: 1 - Train RMSE: 1.7211, Validation RMSE: 1.6256\n",
      "Model saved to best_iimf_model.joblib.\n",
      "Epoch: 2 - Train RMSE: 1.6295, Validation RMSE: 1.5984\n",
      "Model saved to best_iimf_model.joblib.\n",
      "Epoch: 3 - Train RMSE: 1.6115, Validation RMSE: 1.5772\n",
      "Model saved to best_iimf_model.joblib.\n",
      "Epoch: 4 - Train RMSE: 1.5887, Validation RMSE: 1.5503\n",
      "Model saved to best_iimf_model.joblib.\n",
      "Epoch: 5 - Train RMSE: 1.5707, Validation RMSE: 1.5341\n",
      "Model saved to best_iimf_model.joblib.\n",
      "Epoch: 6 - Train RMSE: 1.5558, Validation RMSE: 1.5181\n",
      "Model saved to best_iimf_model.joblib.\n",
      "Epoch: 7 - Train RMSE: 1.5414, Validation RMSE: 1.5041\n",
      "Model saved to best_iimf_model.joblib.\n",
      "Epoch: 8 - Train RMSE: 1.5288, Validation RMSE: 1.4932\n",
      "Model saved to best_iimf_model.joblib.\n",
      "Epoch: 9 - Train RMSE: 1.5176, Validation RMSE: 1.4845\n",
      "Model saved to best_iimf_model.joblib.\n",
      "Epoch: 10 - Train RMSE: 1.5076, Validation RMSE: 1.4766\n",
      "Model saved to best_iimf_model.joblib.\n",
      "Epoch: 11 - Train RMSE: 1.4983, Validation RMSE: 1.4701\n",
      "Model saved to best_iimf_model.joblib.\n",
      "Epoch: 12 - Train RMSE: 1.4897, Validation RMSE: 1.4648\n",
      "Model saved to best_iimf_model.joblib.\n",
      "Epoch: 13 - Train RMSE: 1.4817, Validation RMSE: 1.4599\n",
      "Model saved to best_iimf_model.joblib.\n",
      "Epoch: 14 - Train RMSE: 1.4742, Validation RMSE: 1.4566\n",
      "Model saved to best_iimf_model.joblib.\n",
      "Epoch: 15 - Train RMSE: 1.4673, Validation RMSE: 1.4536\n",
      "Model saved to best_iimf_model.joblib.\n",
      "Epoch: 16 - Train RMSE: 1.4610, Validation RMSE: 1.4519\n",
      "Model saved to best_iimf_model.joblib.\n",
      "Epoch: 17 - Train RMSE: 1.4552, Validation RMSE: 1.4508\n",
      "Model saved to best_iimf_model.joblib.\n",
      "Epoch: 18 - Train RMSE: 1.4501, Validation RMSE: 1.4496\n",
      "Model saved to best_iimf_model.joblib.\n",
      "Epoch: 19 - Train RMSE: 1.4455, Validation RMSE: 1.4497\n",
      "Epoch: 20 - Train RMSE: 1.4414, Validation RMSE: 1.4498\n",
      "Epoch: 21 - Train RMSE: 1.4377, Validation RMSE: 1.4502\n",
      "Epoch: 22 - Train RMSE: 1.4345, Validation RMSE: 1.4501\n",
      "Epoch: 23 - Train RMSE: 1.4316, Validation RMSE: 1.4506\n",
      "Epoch: 24 - Train RMSE: 1.4291, Validation RMSE: 1.4516\n",
      "Epoch: 25 - Train RMSE: 1.4269, Validation RMSE: 1.4525\n",
      "Epoch: 26 - Train RMSE: 1.4249, Validation RMSE: 1.4531\n",
      "Epoch: 27 - Train RMSE: 1.4231, Validation RMSE: 1.4539\n",
      "Epoch: 28 - Train RMSE: 1.4215, Validation RMSE: 1.4545\n",
      "Epoch: 29 - Train RMSE: 1.4200, Validation RMSE: 1.4554\n",
      "Epoch: 30 - Train RMSE: 1.4187, Validation RMSE: 1.4563\n",
      "Epoch: 31 - Train RMSE: 1.4175, Validation RMSE: 1.4572\n",
      "Epoch: 32 - Train RMSE: 1.4165, Validation RMSE: 1.4576\n",
      "Epoch: 33 - Train RMSE: 1.4155, Validation RMSE: 1.4584\n",
      "Epoch: 34 - Train RMSE: 1.4147, Validation RMSE: 1.4590\n",
      "Epoch: 35 - Train RMSE: 1.4138, Validation RMSE: 1.4596\n",
      "Epoch: 36 - Train RMSE: 1.4131, Validation RMSE: 1.4601\n",
      "Epoch: 37 - Train RMSE: 1.4124, Validation RMSE: 1.4612\n",
      "Epoch: 38 - Train RMSE: 1.4118, Validation RMSE: 1.4614\n",
      "Epoch: 39 - Train RMSE: 1.4112, Validation RMSE: 1.4621\n",
      "Epoch: 40 - Train RMSE: 1.4108, Validation RMSE: 1.4625\n",
      "Epoch: 41 - Train RMSE: 1.4102, Validation RMSE: 1.4634\n",
      "Epoch: 42 - Train RMSE: 1.4098, Validation RMSE: 1.4637\n",
      "Epoch: 43 - Train RMSE: 1.4094, Validation RMSE: 1.4639\n",
      "Epoch: 44 - Train RMSE: 1.4089, Validation RMSE: 1.4649\n",
      "Epoch: 45 - Train RMSE: 1.4086, Validation RMSE: 1.4648\n",
      "Epoch: 46 - Train RMSE: 1.4083, Validation RMSE: 1.4657\n",
      "Epoch: 47 - Train RMSE: 1.4080, Validation RMSE: 1.4659\n",
      "Epoch: 48 - Train RMSE: 1.4076, Validation RMSE: 1.4667\n",
      "Epoch: 49 - Train RMSE: 1.4074, Validation RMSE: 1.4667\n",
      "Epoch: 50 - Train RMSE: 1.4071, Validation RMSE: 1.4668\n"
     ]
    },
    {
     "data": {
      "text/plain": [
       "1.4496348120276787"
      ]
     },
     "execution_count": 25,
     "metadata": {},
     "output_type": "execute_result"
    }
   ],
   "source": [
    "IIMF = MatrixFactorizationCF(R=train_R, K=30, learning_rate=0.005, epochs=50, regularization=0.05, uu_mf=False)\n",
    "IIMF.train(val_R)"
   ]
  },
  {
   "cell_type": "code",
   "execution_count": 26,
   "id": "0c3c1348",
   "metadata": {
    "execution": {
     "iopub.execute_input": "2024-12-17T18:20:52.710971Z",
     "iopub.status.busy": "2024-12-17T18:20:52.710083Z",
     "iopub.status.idle": "2024-12-17T18:20:52.718586Z",
     "shell.execute_reply": "2024-12-17T18:20:52.717690Z"
    },
    "papermill": {
     "duration": 0.025277,
     "end_time": "2024-12-17T18:20:52.720274",
     "exception": false,
     "start_time": "2024-12-17T18:20:52.694997",
     "status": "completed"
    },
    "tags": []
   },
   "outputs": [
    {
     "name": "stdout",
     "output_type": "stream",
     "text": [
      "Model loaded from best_iimf_model.joblib.\n"
     ]
    }
   ],
   "source": [
    "iimf_model = MatrixFactorizationCF.load_model(\"best_iimf_model.joblib\", train_R)"
   ]
  },
  {
   "cell_type": "code",
   "execution_count": 27,
   "id": "ccb8ecde",
   "metadata": {
    "execution": {
     "iopub.execute_input": "2024-12-17T18:20:52.748678Z",
     "iopub.status.busy": "2024-12-17T18:20:52.748279Z",
     "iopub.status.idle": "2024-12-17T18:20:53.635916Z",
     "shell.execute_reply": "2024-12-17T18:20:53.634818Z"
    },
    "papermill": {
     "duration": 0.904385,
     "end_time": "2024-12-17T18:20:53.638183",
     "exception": false,
     "start_time": "2024-12-17T18:20:52.733798",
     "status": "completed"
    },
    "tags": []
   },
   "outputs": [],
   "source": [
    "ii_predicted_R = iimf_model.full_prediction()"
   ]
  },
  {
   "cell_type": "code",
   "execution_count": 28,
   "id": "d2c5b824",
   "metadata": {
    "execution": {
     "iopub.execute_input": "2024-12-17T18:20:53.665997Z",
     "iopub.status.busy": "2024-12-17T18:20:53.665638Z",
     "iopub.status.idle": "2024-12-17T18:21:28.598271Z",
     "shell.execute_reply": "2024-12-17T18:21:28.597210Z"
    },
    "papermill": {
     "duration": 34.962136,
     "end_time": "2024-12-17T18:21:28.613885",
     "exception": false,
     "start_time": "2024-12-17T18:20:53.651749",
     "status": "completed"
    },
    "tags": []
   },
   "outputs": [
    {
     "data": {
      "text/plain": [
       "{'RMSE': 1.4517127892572503,\n",
       " 'Precision': 0.920375505419648,\n",
       " 'Recall': 0.6984736913478218,\n",
       " 'F1-Score': 0.7942161357342519}"
      ]
     },
     "execution_count": 28,
     "metadata": {},
     "output_type": "execute_result"
    }
   ],
   "source": [
    "eval(\n",
    "    ii_predicted_R,\n",
    "    test_data=test_data,\n",
    "    users=users,\n",
    "    movies=movies        \n",
    ")"
   ]
  },
  {
   "cell_type": "code",
   "execution_count": 29,
   "id": "b6f9bf43",
   "metadata": {
    "execution": {
     "iopub.execute_input": "2024-12-17T18:21:28.644584Z",
     "iopub.status.busy": "2024-12-17T18:21:28.643276Z",
     "iopub.status.idle": "2024-12-17T18:21:28.741274Z",
     "shell.execute_reply": "2024-12-17T18:21:28.740249Z"
    },
    "papermill": {
     "duration": 0.115745,
     "end_time": "2024-12-17T18:21:28.743536",
     "exception": false,
     "start_time": "2024-12-17T18:21:28.627791",
     "status": "completed"
    },
    "tags": []
   },
   "outputs": [
    {
     "data": {
      "text/plain": [
       "array([], dtype=float64)"
      ]
     },
     "execution_count": 29,
     "metadata": {},
     "output_type": "execute_result"
    }
   ],
   "source": [
    "ii_predicted_R[ii_predicted_R > 10]"
   ]
  },
  {
   "cell_type": "code",
   "execution_count": 30,
   "id": "2ff5a058",
   "metadata": {
    "execution": {
     "iopub.execute_input": "2024-12-17T18:21:28.825434Z",
     "iopub.status.busy": "2024-12-17T18:21:28.824535Z",
     "iopub.status.idle": "2024-12-17T18:21:29.276309Z",
     "shell.execute_reply": "2024-12-17T18:21:29.275155Z"
    },
    "papermill": {
     "duration": 0.469306,
     "end_time": "2024-12-17T18:21:29.278518",
     "exception": false,
     "start_time": "2024-12-17T18:21:28.809212",
     "status": "completed"
    },
    "tags": []
   },
   "outputs": [
    {
     "name": "stdout",
     "output_type": "stream",
     "text": [
      "Recommend users for movie 105695 and predicted ratings:\n"
     ]
    },
    {
     "data": {
      "text/plain": [
       "[(1690952, 10),\n",
       " (1819213, 10),\n",
       " (1887253, 10),\n",
       " (1906746, 10),\n",
       " (1937893, 10),\n",
       " (4496495, 10),\n",
       " (5426623, 10),\n",
       " (18246891, 10),\n",
       " (19556601, 10),\n",
       " (25228468, 10),\n",
       " (29812060, 10),\n",
       " (30198461, 10),\n",
       " (32796562, 10),\n",
       " (33279366, 10),\n",
       " (36181843, 10),\n",
       " (36284954, 10),\n",
       " (36672583, 10),\n",
       " (43105756, 10),\n",
       " (49952068, 10),\n",
       " (61036395, 10),\n",
       " (79319221, 10),\n",
       " (97480288, 10),\n",
       " (131218083, 10),\n",
       " (160672695, 10),\n",
       " (168830426, 10)]"
      ]
     },
     "execution_count": 30,
     "metadata": {},
     "output_type": "execute_result"
    }
   ],
   "source": [
    "recommendation = iimf_model.recommend_using_predicted_ratings(id=105695, predicted_ratings= ii_predicted_R, movies=movies, users=users, top_n=25)\n",
    "print('Recommend users for movie 105695 and predicted ratings:')\n",
    "recommendation"
   ]
  },
  {
   "cell_type": "code",
   "execution_count": 31,
   "id": "05e963ef",
   "metadata": {
    "execution": {
     "iopub.execute_input": "2024-12-17T18:21:29.308784Z",
     "iopub.status.busy": "2024-12-17T18:21:29.308068Z",
     "iopub.status.idle": "2024-12-17T18:21:30.075765Z",
     "shell.execute_reply": "2024-12-17T18:21:30.074587Z"
    },
    "papermill": {
     "duration": 0.784782,
     "end_time": "2024-12-17T18:21:30.077755",
     "exception": false,
     "start_time": "2024-12-17T18:21:29.292973",
     "status": "completed"
    },
    "tags": []
   },
   "outputs": [
    {
     "name": "stdout",
     "output_type": "stream",
     "text": [
      "Recommend users for movie 105695 and predicted ratings:\n"
     ]
    },
    {
     "data": {
      "text/plain": [
       "[(1690952, 10),\n",
       " (1819213, 10),\n",
       " (1887253, 10),\n",
       " (1906746, 10),\n",
       " (1937893, 10),\n",
       " (4496495, 10),\n",
       " (5426623, 10),\n",
       " (18246891, 10),\n",
       " (19556601, 10),\n",
       " (25228468, 10),\n",
       " (29812060, 10),\n",
       " (30198461, 10),\n",
       " (32796562, 10),\n",
       " (33279366, 10),\n",
       " (36181843, 10),\n",
       " (36284954, 10),\n",
       " (36672583, 10),\n",
       " (43105756, 10),\n",
       " (49952068, 10),\n",
       " (61036395, 10),\n",
       " (79319221, 10),\n",
       " (97480288, 10),\n",
       " (131218083, 10),\n",
       " (160672695, 10),\n",
       " (168830426, 10)]"
      ]
     },
     "execution_count": 31,
     "metadata": {},
     "output_type": "execute_result"
    }
   ],
   "source": [
    "recommendation = iimf_model.recommend(id=105695, movies=movies, users=users, top_n=25)\n",
    "print('Recommend users for movie 105695 and predicted ratings:')\n",
    "recommendation"
   ]
  },
  {
   "cell_type": "code",
   "execution_count": 32,
   "id": "3634cbd9",
   "metadata": {
    "execution": {
     "iopub.execute_input": "2024-12-17T18:21:30.108243Z",
     "iopub.status.busy": "2024-12-17T18:21:30.107272Z",
     "iopub.status.idle": "2024-12-17T18:21:30.112084Z",
     "shell.execute_reply": "2024-12-17T18:21:30.110979Z"
    },
    "papermill": {
     "duration": 0.022032,
     "end_time": "2024-12-17T18:21:30.113967",
     "exception": false,
     "start_time": "2024-12-17T18:21:30.091935",
     "status": "completed"
    },
    "tags": []
   },
   "outputs": [],
   "source": [
    "# IIMF.print_recommendation(predicted_R=predicted_R, movies=movies, users=users)"
   ]
  }
 ],
 "metadata": {
  "kaggle": {
   "accelerator": "gpu",
   "dataSources": [
    {
     "datasetId": 6318146,
     "sourceId": 10220527,
     "sourceType": "datasetVersion"
    }
   ],
   "dockerImageVersionId": 30805,
   "isGpuEnabled": true,
   "isInternetEnabled": true,
   "language": "python",
   "sourceType": "notebook"
  },
  "kernelspec": {
   "display_name": "Python 3",
   "language": "python",
   "name": "python3"
  },
  "language_info": {
   "codemirror_mode": {
    "name": "ipython",
    "version": 3
   },
   "file_extension": ".py",
   "mimetype": "text/x-python",
   "name": "python",
   "nbconvert_exporter": "python",
   "pygments_lexer": "ipython3",
   "version": "3.11.9"
  },
  "papermill": {
   "default_parameters": {},
   "duration": 13574.406782,
   "end_time": "2024-12-17T18:21:32.949928",
   "environment_variables": {},
   "exception": null,
   "input_path": "__notebook__.ipynb",
   "output_path": "__notebook__.ipynb",
   "parameters": {},
   "start_time": "2024-12-17T14:35:18.543146",
   "version": "2.6.0"
  }
 },
 "nbformat": 4,
 "nbformat_minor": 5
}
