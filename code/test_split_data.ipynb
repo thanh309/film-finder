{
 "cells": [
  {
   "cell_type": "code",
   "execution_count": 1,
   "metadata": {},
   "outputs": [],
   "source": [
    "from os import chdir, path, getcwd\n",
    "for i in range(10):\n",
    "    if path.isfile(\"checkcwd\"):\n",
    "        break\n",
    "    chdir(path.pardir)\n",
    "if path.isfile(\"checkcwd\"):\n",
    "    pass\n",
    "else:\n",
    "    raise Exception(\"Something went wrong. cwd=\" + getcwd())"
   ]
  },
  {
   "cell_type": "code",
   "execution_count": 2,
   "metadata": {},
   "outputs": [],
   "source": [
    "import pandas as pd"
   ]
  },
  {
   "cell_type": "code",
   "execution_count": 3,
   "metadata": {},
   "outputs": [],
   "source": [
    "pdlist = []\n",
    "for i in range(1, 11):\n",
    "    pdlist.append(pd.read_csv(f'resources/data/split_ratings/ratings_part_{i}.txt', header=None))\n",
    "\n",
    "df = pd.concat(pdlist, ignore_index=True)\n",
    "df.columns = ['uid', 'fid', 'rating']"
   ]
  },
  {
   "cell_type": "code",
   "execution_count": 4,
   "metadata": {},
   "outputs": [],
   "source": [
    "from sklearn.model_selection import train_test_split"
   ]
  },
  {
   "cell_type": "code",
   "execution_count": 19,
   "metadata": {},
   "outputs": [
    {
     "data": {
      "text/plain": [
       "uid\n",
       "13143896     6611\n",
       "5156288      6237\n",
       "37568851     6217\n",
       "11195430     6111\n",
       "114602934    5726\n",
       "             ... \n",
       "93778729       40\n",
       "25316342       40\n",
       "12311869       40\n",
       "18000328       40\n",
       "20457641       40\n",
       "Name: count, Length: 9130, dtype: int64"
      ]
     },
     "execution_count": 19,
     "metadata": {},
     "output_type": "execute_result"
    }
   ],
   "source": [
    "df.uid.value_counts()"
   ]
  },
  {
   "cell_type": "code",
   "execution_count": 5,
   "metadata": {},
   "outputs": [
    {
     "data": {
      "text/plain": [
       "(9814, 9130)"
      ]
     },
     "execution_count": 5,
     "metadata": {},
     "output_type": "execute_result"
    }
   ],
   "source": [
    "num_fid, num_uid = len(df.fid.value_counts()), len(df.uid.value_counts())\n",
    "num_fid, num_uid"
   ]
  },
  {
   "cell_type": "code",
   "execution_count": 14,
   "metadata": {},
   "outputs": [],
   "source": [
    "df_train, df_valtest = train_test_split(\n",
    "    df, test_size=0.2, stratify=df.uid.values\n",
    ")"
   ]
  },
  {
   "cell_type": "code",
   "execution_count": 15,
   "metadata": {},
   "outputs": [
    {
     "name": "stdout",
     "output_type": "stream",
     "text": [
      "9814 9130\n",
      "9814 9130\n"
     ]
    }
   ],
   "source": [
    "print(len(df_train.fid.value_counts()), len(df_train.uid.value_counts()))\n",
    "print(len(df_valtest.fid.value_counts()), len(df_valtest.uid.value_counts()))"
   ]
  },
  {
   "cell_type": "code",
   "execution_count": 16,
   "metadata": {},
   "outputs": [],
   "source": [
    "df_val, df_test = train_test_split(\n",
    "    df_valtest, test_size=0.5\n",
    ")"
   ]
  },
  {
   "cell_type": "code",
   "execution_count": 17,
   "metadata": {},
   "outputs": [
    {
     "name": "stdout",
     "output_type": "stream",
     "text": [
      "9814 9130\n",
      "9814 9130\n"
     ]
    }
   ],
   "source": [
    "print(len(df_val.fid.value_counts()), len(df_val.uid.value_counts()))\n",
    "print(len(df_test.fid.value_counts()), len(df_test.uid.value_counts()))"
   ]
  },
  {
   "cell_type": "code",
   "execution_count": 23,
   "metadata": {},
   "outputs": [],
   "source": [
    "df_train.to_csv(f'resources/data/train_val_test/ratings_train.csv', header=None, index=False)"
   ]
  },
  {
   "cell_type": "code",
   "execution_count": 24,
   "metadata": {},
   "outputs": [],
   "source": [
    "df_val.to_csv(f'resources/data/train_val_test/ratings_val.csv', header=None, index=False)"
   ]
  },
  {
   "cell_type": "code",
   "execution_count": 25,
   "metadata": {},
   "outputs": [],
   "source": [
    "df_test.to_csv(f'resources/data/train_val_test/ratings_test.csv', header=None, index=False)"
   ]
  }
 ],
 "metadata": {
  "kernelspec": {
   "display_name": "thanh309-ml",
   "language": "python",
   "name": "python3"
  },
  "language_info": {
   "codemirror_mode": {
    "name": "ipython",
    "version": 3
   },
   "file_extension": ".py",
   "mimetype": "text/x-python",
   "name": "python",
   "nbconvert_exporter": "python",
   "pygments_lexer": "ipython3",
   "version": "3.12.2"
  }
 },
 "nbformat": 4,
 "nbformat_minor": 2
}
