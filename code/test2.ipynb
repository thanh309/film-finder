{
 "cells": [
  {
   "cell_type": "code",
   "execution_count": 6,
   "metadata": {},
   "outputs": [],
   "source": [
    "import pandas as pd\n",
    "from os import chdir, path, getcwd\n",
    "for i in range(10):\n",
    "    if path.isfile(\"checkcwd\"):\n",
    "        break\n",
    "    chdir(path.pardir)\n",
    "if path.isfile(\"checkcwd\"):\n",
    "    pass\n",
    "else:\n",
    "    raise Exception(\"Something went wrong. cwd=\" + getcwd())\n",
    "import os"
   ]
  },
  {
   "cell_type": "code",
   "execution_count": 7,
   "metadata": {},
   "outputs": [],
   "source": [
    "RATINGS_DIR = 'resources/data/split_film_data'\n",
    "rating_files = os.listdir(RATINGS_DIR)\n",
    "RATINGS_FILES = [os.path.join(RATINGS_DIR, f) for f in rating_files]\n",
    "\n",
    "pdlist = []\n",
    "for file in RATINGS_FILES:\n",
    "    pdlist.append(pd.read_csv(file, dtype='object'))\n",
    "\n",
    "df = pd.concat(pdlist, axis=0)\n"
   ]
  },
  {
   "cell_type": "code",
   "execution_count": 8,
   "metadata": {},
   "outputs": [],
   "source": [
    "listoflist = []\n",
    "for i in range(1, 5):\n",
    "    with open(f'resources/data/split_fids/fids_part_{i}.txt', 'r') as fr:\n",
    "        listoflist.append([x.strip() for x in fr.readlines()])"
   ]
  },
  {
   "cell_type": "code",
   "execution_count": 9,
   "metadata": {},
   "outputs": [],
   "source": [
    "for i in range(1, 5):\n",
    "    df_temp = df[df['fid'].isin(listoflist[i-1])]\n",
    "    df_temp.to_csv(f'resources/data/split_film_data/film_data_part{i}.csv', index=False)"
   ]
  }
 ],
 "metadata": {
  "kernelspec": {
   "display_name": "thanh309-ml",
   "language": "python",
   "name": "python3"
  },
  "language_info": {
   "codemirror_mode": {
    "name": "ipython",
    "version": 3
   },
   "file_extension": ".py",
   "mimetype": "text/x-python",
   "name": "python",
   "nbconvert_exporter": "python",
   "pygments_lexer": "ipython3",
   "version": "3.12.2"
  }
 },
 "nbformat": 4,
 "nbformat_minor": 2
}
