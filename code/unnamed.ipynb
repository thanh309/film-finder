{
 "cells": [
  {
   "cell_type": "code",
   "execution_count": 21,
   "metadata": {},
   "outputs": [],
   "source": [
    "from os import chdir, path, getcwd\n",
    "for i in range(10):\n",
    "    if path.isfile(\"checkcwd\"):\n",
    "        break\n",
    "    chdir(path.pardir)\n",
    "if path.isfile(\"checkcwd\"):\n",
    "    pass\n",
    "else:\n",
    "    raise Exception(\"Something went wrong. cwd=\" + getcwd())"
   ]
  },
  {
   "cell_type": "code",
   "execution_count": 22,
   "metadata": {},
   "outputs": [],
   "source": [
    "from tqdm.auto import tqdm\n",
    "from collections import defaultdict\n",
    "import sys\n",
    "\n",
    "import requests\n",
    "import random\n",
    "from bs4 import BeautifulSoup\n",
    "from json import loads\n",
    "from html import unescape"
   ]
  },
  {
   "cell_type": "code",
   "execution_count": 23,
   "metadata": {},
   "outputs": [],
   "source": [
    "RATINGS_DIR = 'resources/ratings'\n",
    "\n",
    "\n",
    "USER_AGENTS = [\n",
    "    'Mozilla/5.0 (Windows NT 10.0; Win64; x64; rv:131.0) Gecko/20100101 Firefox/131.0',\n",
    "    'Mozilla/5.0 (Windows NT 10.0; Win64; x64; rv:130.0) Gecko/20100101 Firefox/130.0',\n",
    "    'Mozilla/5.0 (X11; Ubuntu; Linux x86_64; rv:109.0) Gecko/20100101 Firefox/109.0',\n",
    "    'Mozilla/5.0 (X11; Linux x86_64) AppleWebKit/537.36 (KHTML, like Gecko) Chrome/115.0.5790.170 Safari/537.36',\n",
    "    'Mozilla/5.0 (Windows NT 10.0; Win64; x64) AppleWebKit/537.36 (KHTML, like Gecko) Chrome/116.0.0.0 Safari/537.36',\n",
    "    'Mozilla/5.0 (Windows NT 10.0; Win64; x64) AppleWebKit/537.36 (KHTML, like Gecko) Chrome/130.0.0.0 Safari/537.36',\n",
    "    'Mozilla/5.0 (Macintosh; Intel Mac OS X 13_0) AppleWebKit/605.1.15 (KHTML, like Gecko) Version/16.0 Safari/605.1.15'\n",
    "]\n"
   ]
  },
  {
   "cell_type": "code",
   "execution_count": 24,
   "metadata": {},
   "outputs": [
    {
     "data": {
      "text/plain": [
       "43"
      ]
     },
     "execution_count": 24,
     "metadata": {},
     "output_type": "execute_result"
    }
   ],
   "source": [
    "import os\n",
    "rating_files = os.listdir(RATINGS_DIR)\n",
    "len(rating_files)"
   ]
  },
  {
   "cell_type": "code",
   "execution_count": 25,
   "metadata": {},
   "outputs": [
    {
     "data": {
      "application/vnd.jupyter.widget-view+json": {
       "model_id": "c3267eb65c114898b3a5d645e6b8419c",
       "version_major": 2,
       "version_minor": 0
      },
      "text/plain": [
       "  0%|          | 0/43 [00:00<?, ?it/s]"
      ]
     },
     "metadata": {},
     "output_type": "display_data"
    }
   ],
   "source": [
    "rating_filepaths = [os.path.join(RATINGS_DIR, f) for f in rating_files]\n",
    "uids = defaultdict(int)\n",
    "fids = defaultdict(int)\n",
    "for filepath in tqdm(rating_filepaths):\n",
    "    with open(filepath, 'r') as fr:\n",
    "        lines = fr.readlines()\n",
    "    for line in lines:\n",
    "        splitted_line = line.split(sep=',')\n",
    "        uids[splitted_line[0]] += 1\n",
    "        fids[splitted_line[1]] += 1"
   ]
  },
  {
   "cell_type": "code",
   "execution_count": 26,
   "metadata": {},
   "outputs": [
    {
     "data": {
      "text/plain": [
       "15379208"
      ]
     },
     "execution_count": 26,
     "metadata": {},
     "output_type": "execute_result"
    }
   ],
   "source": [
    "sys.getsizeof(fids)"
   ]
  },
  {
   "cell_type": "code",
   "execution_count": 29,
   "metadata": {},
   "outputs": [],
   "source": [
    "def get_film_data(id: str):\n",
    "    film_url = f'https://www.imdb.com/title/tt{id}'\n",
    "    r = requests.get(\n",
    "        film_url,\n",
    "        headers={'User-Agent': random.choice(USER_AGENTS)}\n",
    "    )\n",
    "    soup = BeautifulSoup(r.text, 'html.parser').head\n",
    "    ld_json_script = soup.find('script', type='application/ld+json')\n",
    "    json_data = loads(ld_json_script.string)\n",
    "    print(json_data)"
   ]
  },
  {
   "cell_type": "code",
   "execution_count": 30,
   "metadata": {},
   "outputs": [
    {
     "name": "stdout",
     "output_type": "stream",
     "text": [
      "{'@context': 'https://schema.org', '@type': 'Movie', 'url': 'https://www.imdb.com/title/tt0910970/', 'name': 'WALL·E', 'alternateName': 'Rô-bốt Biết Yêu', 'image': 'https://m.media-amazon.com/images/M/MV5BZGZiOTdlMzMtNjVmYi00ODAwLTgwMmUtOTAwY2IyOGJiMDg2XkEyXkFqcGc@._V1_.jpg', 'description': 'A robot who is responsible for cleaning a waste-covered Earth meets another robot and falls in love with her. Together, they set out on a journey that will alter the fate of mankind.', 'review': {'@type': 'Review', 'itemReviewed': {'@type': 'Movie', 'url': 'https://www.imdb.com/title/tt0910970/'}, 'author': {'@type': 'Person', 'name': 'ametaphysicalshark'}, 'dateCreated': '2008-06-27', 'inLanguage': 'English', 'name': 'Who says popular films can&apos;t be art? &quot;WALL·E&quot; is magical', 'reviewBody': 'Who says popular films are not and cannot be art? If anything is proof that popular films can be of a stunningly high quality, the beauty of the animation, writing, music, and sound design in &quot;WALL·E&quot; is it. &quot;WALL·E&quot; eclipses even Andrew Stanton&apos;s &quot;Toy Story&quot; and &quot;Toy Story 2&quot; in the Pixar pantheon, is perhaps Pixar&apos;s best film to date and, call me crazy as I&apos;ve just seen it, a contender for the title of best animated film, period.\\n\\n&quot;WALL·E&quot; is everything we&apos;ve come to expect from Pixar and more- colorful, vibrant, imaginative, exciting, involving, beautiful, and most importantly a film with interesting, involving characters. Sure, WALL·E is adorable, and as much credit as the animators get for that, this film would be nothing without Stanton&apos;s screenplay, which features very little dialogue but is still notably intelligent and surprisingly subtle, making a refreshing change from the &apos;go green&apos; campaigns we&apos;re all so used to. Does &quot;WALL·E&quot; have a message? Sure, but it&apos;s an important message and it is delivered subtly and beautifully.\\n\\n&quot;WALL·E&quot; operates on two levels (and works spectacularly well on both). It is a majestic science fiction epic like we haven&apos;t seen in a couple of decades and it is a genuinely touching and never cheap romance. &quot;WALL·E&quot; will never get points for originality but it doesn&apos;t exactly need them because the homages to great films and figures of the past- Chaplin, Keaton, Tati, the Marx Brothers, &quot;2001: A Space Odyssey&quot; (this one is particularly spectacular), &quot;Close Encounters of the Third Kind&quot; are actually homages and not ripoffs. &quot;WALL·E&quot; is a wonderful tribute to a bygone cinematic tradition (well, two or three of them actually). \\n\\nThe social commentary in &quot;WALL·E&quot; is sobering because it&apos;s never overbearing and most importantly because we see the world through machines, machines who feel more about Earth and life than the humans do. The depiction of humans on the ship could have been incredibly offensive, cheap, and tasteless in concept but the execution here is absolutely perfect.\\n\\nWhat is most surprising about &quot;WALL·E&quot; is how sad it is. Not even in the &apos;how will they get out of this, oh I feel so sorry for them&apos; way &quot;Finding Nemo&quot;, a previous Stanton effort, is, but in a truly melancholy sense. The early portion of the film maintains all the playfulness of a Jacques Tati film but also evokes a striking and powerful feeling of loneliness. It&apos;s a brilliant introduction to WALL·E, given that the rest of the film is too wacky to bother with long scenes focused entirely on character, and works beautifully with the ugly yet beautifully-rendered future Earth, a barren wasteland filled with nothing but garbage, a seriously resilient cockroach being WALL·E&apos;s only companion before EVE shows up, but I won&apos;t go into the story- it&apos;s best you see it unfold for yourself.\\n\\nFrom the entertaining shorts shown before the film to the memorable characters, locations, and animation we have come to expect, Pixar films are now event cinema, and they have outdone themselves with &quot;WALL·E&quot;. This film is spectacular, majestic, touching, involving, and achingly beautiful. Most importantly, however, it is perfect entertainment. I may be saying this too soon, but I don&apos;t think I have ever seen an animated film that has satisfied me more than &quot;WALL·E&quot;, and 2008 is going to have to work hard to keep this from being the top film of the year, which it most certainly is at the moment.\\n\\n9.5/10'}, 'aggregateRating': {'@type': 'AggregateRating', 'ratingCount': 1234649, 'bestRating': 10, 'worstRating': 1, 'ratingValue': 8.4}, 'contentRating': 'G', 'genre': ['Animation', 'Adventure', 'Family'], 'datePublished': '2008-08-22', 'keywords': 'robot,obesity,pollution,outer space,earth', 'trailer': {'@type': 'VideoObject', 'name': 'Wall E', 'embedUrl': 'https://www.imdb.com/video/imdb/vi2192703769', 'thumbnail': {'@type': 'ImageObject', 'contentUrl': 'https://m.media-amazon.com/images/M/MV5BMTc2Njc2MTYyN15BMl5BanBnXkFtZTgwMzcwNTczMzE@._V1_.jpg'}, 'thumbnailUrl': 'https://m.media-amazon.com/images/M/MV5BMTc2Njc2MTYyN15BMl5BanBnXkFtZTgwMzcwNTczMzE@._V1_.jpg', 'url': 'https://www.imdb.com/video/vi2192703769/', 'description': 'Wall E - Trailer #3', 'duration': 'PT2M32S', 'uploadDate': '2008-03-15T11:26:18Z'}, 'actor': [{'@type': 'Person', 'url': 'https://www.imdb.com/name/nm0123785/', 'name': 'Ben Burtt'}, {'@type': 'Person', 'url': 'https://www.imdb.com/name/nm2264184/', 'name': 'Elissa Knight'}, {'@type': 'Person', 'url': 'https://www.imdb.com/name/nm0307531/', 'name': 'Jeff Garlin'}], 'director': [{'@type': 'Person', 'url': 'https://www.imdb.com/name/nm0004056/', 'name': 'Andrew Stanton'}], 'creator': [{'@type': 'Organization', 'url': 'https://www.imdb.com/company/co0008970/'}, {'@type': 'Organization', 'url': 'https://www.imdb.com/company/co0017902/'}, {'@type': 'Organization', 'url': 'https://www.imdb.com/company/co0622634/'}, {'@type': 'Person', 'url': 'https://www.imdb.com/name/nm0004056/', 'name': 'Andrew Stanton'}, {'@type': 'Person', 'url': 'https://www.imdb.com/name/nm0230032/', 'name': 'Pete Docter'}, {'@type': 'Person', 'url': 'https://www.imdb.com/name/nm0714114/', 'name': 'Jim Reardon'}], 'duration': 'PT1H38M'}\n"
     ]
    }
   ],
   "source": [
    "film_id = '0910970'\n",
    "get_film_data(film_id)"
   ]
  }
 ],
 "metadata": {
  "kernelspec": {
   "display_name": "thanh309-ml",
   "language": "python",
   "name": "python3"
  },
  "language_info": {
   "codemirror_mode": {
    "name": "ipython",
    "version": 3
   },
   "file_extension": ".py",
   "mimetype": "text/x-python",
   "name": "python",
   "nbconvert_exporter": "python",
   "pygments_lexer": "ipython3",
   "version": "3.12.2"
  }
 },
 "nbformat": 4,
 "nbformat_minor": 2
}
