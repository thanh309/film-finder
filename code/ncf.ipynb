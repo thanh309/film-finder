{
 "cells": [
  {
   "cell_type": "code",
   "execution_count": 1,
   "metadata": {},
   "outputs": [],
   "source": [
    "from os import chdir, path, getcwd\n",
    "for i in range(10):\n",
    "    if path.isfile('checkcwd'):\n",
    "        break\n",
    "    chdir(path.pardir)\n",
    "if path.isfile('checkcwd'):\n",
    "    pass\n",
    "else:\n",
    "    raise Exception('Something went wrong. cwd=' + getcwd())"
   ]
  },
  {
   "cell_type": "code",
   "execution_count": 2,
   "metadata": {},
   "outputs": [],
   "source": [
    "import pandas as pd\n",
    "import os\n",
    "import torch\n",
    "from torch import nn\n",
    "from torch.utils.data import Dataset, DataLoader\n",
    "from sklearn import preprocessing\n",
    "import wandb\n",
    "import datetime\n",
    "from tqdm import tqdm\n",
    "from collections import defaultdict\n",
    "import joblib"
   ]
  },
  {
   "cell_type": "code",
   "execution_count": 3,
   "metadata": {},
   "outputs": [
    {
     "name": "stdout",
     "output_type": "stream",
     "text": [
      "cuda\n"
     ]
    }
   ],
   "source": [
    "RATINGS_DIR = 'resources/data/train_val_test'\n",
    "CHECKPOINT_PATH = 'resources/checkpoints'\n",
    "\n",
    "batch_size = 512\n",
    "layers = [32, 16, 8]\n",
    "reg_layers = [0.3, 0.3, 0.3]\n",
    "learning_rate = 5e-4\n",
    "epochs = 40\n",
    "\n",
    "k = 25\n",
    "threshold = 6\n",
    "\n",
    "device = torch.device('cuda' if torch.cuda.is_available() else 'cpu')\n",
    "print(device)"
   ]
  },
  {
   "cell_type": "code",
   "execution_count": 4,
   "metadata": {},
   "outputs": [],
   "source": [
    "df_train = pd.read_csv(f'{RATINGS_DIR}/ratings_train.csv', header=None, dtype='int32')\n",
    "df_train.columns = ['uid', 'fid', 'rating']"
   ]
  },
  {
   "cell_type": "code",
   "execution_count": 5,
   "metadata": {},
   "outputs": [],
   "source": [
    "df_val = pd.read_csv(f'{RATINGS_DIR}/ratings_val.csv', header=None, dtype='int32')\n",
    "df_val.columns = ['uid', 'fid', 'rating']"
   ]
  },
  {
   "cell_type": "code",
   "execution_count": 6,
   "metadata": {},
   "outputs": [],
   "source": [
    "# df = pd.concat([df_train, df_val], ignore_index=True) # no effect"
   ]
  },
  {
   "cell_type": "code",
   "execution_count": 7,
   "metadata": {},
   "outputs": [],
   "source": [
    "# from sklearn.model_selection import train_test_split\n",
    "# df_train, df_val = train_test_split(\n",
    "#     df, test_size=0.1111, stratify=df.rating.values\n",
    "# )"
   ]
  },
  {
   "cell_type": "code",
   "execution_count": 8,
   "metadata": {},
   "outputs": [],
   "source": [
    "class MyDataset(Dataset):\n",
    "    def __init__(self, users, movies, ratings):\n",
    "        self.users = users\n",
    "        self.movies = movies\n",
    "        self.ratings = ratings\n",
    "\n",
    "    def __len__(self):\n",
    "        return len(self.users)\n",
    "\n",
    "    def __getitem__(self, item):\n",
    "        users = self.users[item]\n",
    "        movies = self.movies[item]\n",
    "        ratings = self.ratings[item]\n",
    "\n",
    "        return {\n",
    "            'uid': torch.tensor(users, dtype=torch.int),\n",
    "            'fid': torch.tensor(movies, dtype=torch.int),\n",
    "            'rating': torch.tensor(ratings, dtype=torch.float),\n",
    "        }"
   ]
  },
  {
   "cell_type": "code",
   "execution_count": 9,
   "metadata": {},
   "outputs": [
    {
     "data": {
      "text/plain": [
       "['resources/checkpoints/label_enc_uid.pkl']"
      ]
     },
     "execution_count": 9,
     "metadata": {},
     "output_type": "execute_result"
    }
   ],
   "source": [
    "label_enc_uid = preprocessing.LabelEncoder()\n",
    "label_enc_fid = preprocessing.LabelEncoder()\n",
    "\n",
    "# label_enc_fid.fit(df.fid.values)\n",
    "# label_enc_uid.fit(df.uid.values)   \n",
    "\n",
    "# df_train.uid = label_enc_uid.transform(df_train.uid.values)\n",
    "# df_train.fid = label_enc_fid.transform(df_train.fid.values)\n",
    "\n",
    "df_train.uid = label_enc_uid.fit_transform(df_train.uid.values)\n",
    "df_train.fid = label_enc_fid.fit_transform(df_train.fid.values)\n",
    "\n",
    "df_val.uid = label_enc_uid.transform(df_val.uid.values)\n",
    "df_val.fid = label_enc_fid.transform(df_val.fid.values)\n",
    "\n",
    "joblib.dump(label_enc_fid, f'{CHECKPOINT_PATH}/label_enc_fid.pkl')\n",
    "joblib.dump(label_enc_uid, f'{CHECKPOINT_PATH}/label_enc_uid.pkl')"
   ]
  },
  {
   "cell_type": "code",
   "execution_count": 10,
   "metadata": {},
   "outputs": [],
   "source": [
    "train_dataset = MyDataset(\n",
    "    list(df_train.uid),\n",
    "    list(df_train.fid),\n",
    "    list(df_train.rating)\n",
    ")\n",
    "\n",
    "val_dataset = MyDataset(\n",
    "    list(df_val.uid),\n",
    "    list(df_val.fid),\n",
    "    list(df_val.rating)\n",
    ")\n",
    "\n",
    "# r = 4\n",
    "\n",
    "# train_dataset = MyDataset(\n",
    "#     list(df_train.uid)[::r],\n",
    "#     list(df_train.fid)[::r],\n",
    "#     list(df_train.rating)[::r]\n",
    "# )\n",
    "\n",
    "# val_dataset = MyDataset(\n",
    "#     list(df_val.uid)[::r],\n",
    "#     list(df_val.fid)[::r],\n",
    "#     list(df_val.rating)[::r]\n",
    "# )"
   ]
  },
  {
   "cell_type": "code",
   "execution_count": null,
   "metadata": {},
   "outputs": [],
   "source": [
    "train_loader = DataLoader(\n",
    "    train_dataset,\n",
    "    batch_size=batch_size,\n",
    "    shuffle=True,\n",
    "    num_workers=2,\n",
    "    drop_last=True\n",
    ")\n",
    "\n",
    "val_loader = DataLoader(\n",
    "    val_dataset,\n",
    "    batch_size=batch_size,\n",
    "    shuffle=False,\n",
    "    num_workers=2,\n",
    "    drop_last=True\n",
    ")"
   ]
  },
  {
   "cell_type": "code",
   "execution_count": 12,
   "metadata": {},
   "outputs": [],
   "source": [
    "class RecSysModel(nn.Module):\n",
    "    def __init__(self, num_users, num_items, layers, reg_layers):\n",
    "        super(RecSysModel, self).__init__()\n",
    "        self.num_layers = len(layers)\n",
    "\n",
    "        # split for concat later\n",
    "        self.user_embedding = nn.Embedding(num_users, layers[0] // 2)\n",
    "        self.item_embedding = nn.Embedding(num_items, layers[0] // 2)\n",
    "\n",
    "        fc_layers = []\n",
    "        input_size = layers[0]\n",
    "        for i in range(1, len(layers)):\n",
    "            fc_layers.append(nn.Linear(input_size, layers[i]))\n",
    "            fc_layers.append(nn.ReLU())\n",
    "            if reg_layers[i] > 0:\n",
    "                fc_layers.append(nn.Dropout(reg_layers[i]))\n",
    "            input_size = layers[i]\n",
    "\n",
    "        self.fc_layers = nn.Sequential(*fc_layers)\n",
    "        self.output_layer = nn.Linear(layers[-1], 1)\n",
    "\n",
    "        self._init_weight()\n",
    "\n",
    "    def forward(self, user_input, item_input):\n",
    "        # [batch, num_users, embed_size]\n",
    "        user_latent = self.user_embedding(user_input)\n",
    "        item_latent = self.item_embedding(item_input)\n",
    "\n",
    "        vector = torch.cat([user_latent, item_latent], dim=-1)\n",
    "\n",
    "        vector = self.fc_layers(vector)\n",
    "\n",
    "        prediction = self.output_layer(vector)\n",
    "        return prediction\n",
    "\n",
    "    def _init_weight(self):\n",
    "        nn.init.normal_(self.user_embedding.weight, std=0.01)\n",
    "        nn.init.normal_(self.item_embedding.weight, std=0.01)"
   ]
  },
  {
   "cell_type": "code",
   "execution_count": 13,
   "metadata": {},
   "outputs": [],
   "source": [
    "def calculate_precision_recall(user_ratings, k, threshold):\n",
    "    user_ratings.sort(key=lambda x: x[0], reverse=True)\n",
    "\n",
    "    n_rel = sum(true_r >= threshold for _, true_r in user_ratings)\n",
    "    n_rec_k = sum(est >= threshold for est, _ in user_ratings[:k])\n",
    "    n_rel_and_rec_k = sum(\n",
    "        (true_r >= threshold) and (est >= threshold) for est, true_r in user_ratings[:k]\n",
    "    )\n",
    "\n",
    "    precision = n_rel_and_rec_k / n_rec_k if n_rec_k != 0 else 1\n",
    "    recall = n_rel_and_rec_k / n_rel if n_rel != 0 else 1\n",
    "\n",
    "    return precision, recall"
   ]
  },
  {
   "cell_type": "code",
   "execution_count": 14,
   "metadata": {},
   "outputs": [],
   "source": [
    "model = RecSysModel(\n",
    "    num_users=len(label_enc_uid.classes_),\n",
    "    num_items=len(label_enc_fid.classes_),\n",
    "    layers=layers,\n",
    "    reg_layers=reg_layers\n",
    ").to(device)"
   ]
  },
  {
   "cell_type": "code",
   "execution_count": 15,
   "metadata": {},
   "outputs": [
    {
     "name": "stderr",
     "output_type": "stream",
     "text": [
      "\u001b[34m\u001b[1mwandb\u001b[0m: Using wandb-core as the SDK backend. Please refer to https://wandb.me/wandb-core for more information.\n",
      "\u001b[34m\u001b[1mwandb\u001b[0m: Currently logged in as: \u001b[33mthanh309\u001b[0m. Use \u001b[1m`wandb login --relogin`\u001b[0m to force relogin\n"
     ]
    },
    {
     "data": {
      "text/html": [
       "Tracking run with wandb version 0.18.5"
      ],
      "text/plain": [
       "<IPython.core.display.HTML object>"
      ]
     },
     "metadata": {},
     "output_type": "display_data"
    },
    {
     "data": {
      "text/html": [
       "Run data is saved locally in <code>/home/thanh309/film-finder/wandb/run-20241217_144200-guhf0fwh</code>"
      ],
      "text/plain": [
       "<IPython.core.display.HTML object>"
      ]
     },
     "metadata": {},
     "output_type": "display_data"
    },
    {
     "data": {
      "text/html": [
       "Syncing run <strong><a href='https://wandb.ai/thanh309/RecSysNCF/runs/guhf0fwh' target=\"_blank\">2024-12-17 14:41:59.230161</a></strong> to <a href='https://wandb.ai/thanh309/RecSysNCF' target=\"_blank\">Weights & Biases</a> (<a href='https://wandb.me/run' target=\"_blank\">docs</a>)<br/>"
      ],
      "text/plain": [
       "<IPython.core.display.HTML object>"
      ]
     },
     "metadata": {},
     "output_type": "display_data"
    },
    {
     "data": {
      "text/html": [
       " View project at <a href='https://wandb.ai/thanh309/RecSysNCF' target=\"_blank\">https://wandb.ai/thanh309/RecSysNCF</a>"
      ],
      "text/plain": [
       "<IPython.core.display.HTML object>"
      ]
     },
     "metadata": {},
     "output_type": "display_data"
    },
    {
     "data": {
      "text/html": [
       " View run at <a href='https://wandb.ai/thanh309/RecSysNCF/runs/guhf0fwh' target=\"_blank\">https://wandb.ai/thanh309/RecSysNCF/runs/guhf0fwh</a>"
      ],
      "text/plain": [
       "<IPython.core.display.HTML object>"
      ]
     },
     "metadata": {},
     "output_type": "display_data"
    },
    {
     "name": "stdout",
     "output_type": "stream",
     "text": [
      "\n",
      "Epoch [1/40]\n"
     ]
    },
    {
     "name": "stderr",
     "output_type": "stream",
     "text": [
      "100%|██████████| 7225/7225 [01:03<00:00, 114.47it/s]\n"
     ]
    },
    {
     "name": "stdout",
     "output_type": "stream",
     "text": [
      "Average Training Loss for Epoch 1: 8.1619\n"
     ]
    },
    {
     "name": "stderr",
     "output_type": "stream",
     "text": [
      "100%|██████████| 903/903 [01:46<00:00,  8.45it/s]\n"
     ]
    },
    {
     "name": "stdout",
     "output_type": "stream",
     "text": [
      "val_loss: 2.7043, precision: 0.9081, recall: 0.6744, f1:0.7740\n",
      "f1-score improved. Model checkpoint saved at epoch 1.\n",
      "--------------------------------------------------\n",
      "\n",
      "Epoch [2/40]\n"
     ]
    },
    {
     "name": "stderr",
     "output_type": "stream",
     "text": [
      "100%|██████████| 7225/7225 [01:06<00:00, 108.73it/s]\n"
     ]
    },
    {
     "name": "stdout",
     "output_type": "stream",
     "text": [
      "Average Training Loss for Epoch 2: 3.5670\n"
     ]
    },
    {
     "name": "stderr",
     "output_type": "stream",
     "text": [
      "100%|██████████| 903/903 [01:42<00:00,  8.78it/s]\n"
     ]
    },
    {
     "name": "stdout",
     "output_type": "stream",
     "text": [
      "val_loss: 2.5008, precision: 0.9088, recall: 0.6845, f1:0.7809\n",
      "f1-score improved. Model checkpoint saved at epoch 2.\n",
      "--------------------------------------------------\n",
      "\n",
      "Epoch [3/40]\n"
     ]
    },
    {
     "name": "stderr",
     "output_type": "stream",
     "text": [
      "100%|██████████| 7225/7225 [01:07<00:00, 106.88it/s]\n"
     ]
    },
    {
     "name": "stdout",
     "output_type": "stream",
     "text": [
      "Average Training Loss for Epoch 3: 2.7699\n"
     ]
    },
    {
     "name": "stderr",
     "output_type": "stream",
     "text": [
      "100%|██████████| 903/903 [01:51<00:00,  8.13it/s]\n"
     ]
    },
    {
     "name": "stdout",
     "output_type": "stream",
     "text": [
      "val_loss: 2.5145, precision: 0.9033, recall: 0.7008, f1:0.7893\n",
      "f1-score improved. Model checkpoint saved at epoch 3.\n",
      "--------------------------------------------------\n",
      "\n",
      "Epoch [4/40]\n"
     ]
    },
    {
     "name": "stderr",
     "output_type": "stream",
     "text": [
      "100%|██████████| 7225/7225 [01:11<00:00, 100.60it/s]\n"
     ]
    },
    {
     "name": "stdout",
     "output_type": "stream",
     "text": [
      "Average Training Loss for Epoch 4: 2.6909\n"
     ]
    },
    {
     "name": "stderr",
     "output_type": "stream",
     "text": [
      "100%|██████████| 903/903 [01:43<00:00,  8.74it/s]\n"
     ]
    },
    {
     "name": "stdout",
     "output_type": "stream",
     "text": [
      "val_loss: 2.5157, precision: 0.9011, recall: 0.7061, f1:0.7918\n",
      "f1-score improved. Model checkpoint saved at epoch 4.\n",
      "--------------------------------------------------\n",
      "\n",
      "Epoch [5/40]\n"
     ]
    },
    {
     "name": "stderr",
     "output_type": "stream",
     "text": [
      "100%|██████████| 7225/7225 [01:06<00:00, 109.45it/s]\n"
     ]
    },
    {
     "name": "stdout",
     "output_type": "stream",
     "text": [
      "Average Training Loss for Epoch 5: 2.6762\n"
     ]
    },
    {
     "name": "stderr",
     "output_type": "stream",
     "text": [
      "100%|██████████| 903/903 [01:46<00:00,  8.49it/s]\n"
     ]
    },
    {
     "name": "stdout",
     "output_type": "stream",
     "text": [
      "val_loss: 2.5083, precision: 0.9013, recall: 0.7061, f1:0.7919\n",
      "f1-score improved. Model checkpoint saved at epoch 5.\n",
      "--------------------------------------------------\n",
      "\n",
      "Epoch [6/40]\n"
     ]
    },
    {
     "name": "stderr",
     "output_type": "stream",
     "text": [
      "100%|██████████| 7225/7225 [01:08<00:00, 104.90it/s]\n"
     ]
    },
    {
     "name": "stdout",
     "output_type": "stream",
     "text": [
      "Average Training Loss for Epoch 6: 2.6681\n"
     ]
    },
    {
     "name": "stderr",
     "output_type": "stream",
     "text": [
      "100%|██████████| 903/903 [01:46<00:00,  8.48it/s]\n"
     ]
    },
    {
     "name": "stdout",
     "output_type": "stream",
     "text": [
      "val_loss: 2.5144, precision: 0.9020, recall: 0.7044, f1:0.7910\n",
      "f1-score did not improve.\n",
      "--------------------------------------------------\n",
      "\n",
      "Epoch [7/40]\n"
     ]
    },
    {
     "name": "stderr",
     "output_type": "stream",
     "text": [
      "100%|██████████| 7225/7225 [01:05<00:00, 110.32it/s]\n"
     ]
    },
    {
     "name": "stdout",
     "output_type": "stream",
     "text": [
      "Average Training Loss for Epoch 7: 2.6557\n"
     ]
    },
    {
     "name": "stderr",
     "output_type": "stream",
     "text": [
      "100%|██████████| 903/903 [01:50<00:00,  8.18it/s]\n"
     ]
    },
    {
     "name": "stdout",
     "output_type": "stream",
     "text": [
      "val_loss: 2.5019, precision: 0.9046, recall: 0.7033, f1:0.7914\n",
      "f1-score did not improve.\n",
      "--------------------------------------------------\n",
      "\n",
      "Epoch [8/40]\n"
     ]
    },
    {
     "name": "stderr",
     "output_type": "stream",
     "text": [
      "100%|██████████| 7225/7225 [01:09<00:00, 104.65it/s]\n"
     ]
    },
    {
     "name": "stdout",
     "output_type": "stream",
     "text": [
      "Average Training Loss for Epoch 8: 2.6433\n"
     ]
    },
    {
     "name": "stderr",
     "output_type": "stream",
     "text": [
      "100%|██████████| 903/903 [01:45<00:00,  8.59it/s]\n"
     ]
    },
    {
     "name": "stdout",
     "output_type": "stream",
     "text": [
      "val_loss: 2.4955, precision: 0.9038, recall: 0.7065, f1:0.7931\n",
      "f1-score improved. Model checkpoint saved at epoch 8.\n",
      "--------------------------------------------------\n",
      "\n",
      "Epoch [9/40]\n"
     ]
    },
    {
     "name": "stderr",
     "output_type": "stream",
     "text": [
      "100%|██████████| 7225/7225 [01:07<00:00, 107.34it/s]\n"
     ]
    },
    {
     "name": "stdout",
     "output_type": "stream",
     "text": [
      "Average Training Loss for Epoch 9: 2.6281\n"
     ]
    },
    {
     "name": "stderr",
     "output_type": "stream",
     "text": [
      "100%|██████████| 903/903 [01:46<00:00,  8.46it/s]\n"
     ]
    },
    {
     "name": "stdout",
     "output_type": "stream",
     "text": [
      "val_loss: 2.4768, precision: 0.9048, recall: 0.7055, f1:0.7928\n",
      "f1-score did not improve.\n",
      "--------------------------------------------------\n",
      "\n",
      "Epoch [10/40]\n"
     ]
    },
    {
     "name": "stderr",
     "output_type": "stream",
     "text": [
      "100%|██████████| 7225/7225 [01:08<00:00, 104.87it/s]\n"
     ]
    },
    {
     "name": "stdout",
     "output_type": "stream",
     "text": [
      "Average Training Loss for Epoch 10: 2.6147\n"
     ]
    },
    {
     "name": "stderr",
     "output_type": "stream",
     "text": [
      "100%|██████████| 903/903 [01:46<00:00,  8.49it/s]\n"
     ]
    },
    {
     "name": "stdout",
     "output_type": "stream",
     "text": [
      "val_loss: 2.4689, precision: 0.9055, recall: 0.7058, f1:0.7933\n",
      "f1-score improved. Model checkpoint saved at epoch 10.\n",
      "--------------------------------------------------\n",
      "\n",
      "Epoch [11/40]\n"
     ]
    },
    {
     "name": "stderr",
     "output_type": "stream",
     "text": [
      "100%|██████████| 7225/7225 [01:11<00:00, 101.07it/s]\n"
     ]
    },
    {
     "name": "stdout",
     "output_type": "stream",
     "text": [
      "Average Training Loss for Epoch 11: 2.6060\n"
     ]
    },
    {
     "name": "stderr",
     "output_type": "stream",
     "text": [
      "100%|██████████| 903/903 [01:49<00:00,  8.21it/s]\n"
     ]
    },
    {
     "name": "stdout",
     "output_type": "stream",
     "text": [
      "val_loss: 2.4645, precision: 0.9057, recall: 0.7050, f1:0.7929\n",
      "f1-score did not improve.\n",
      "--------------------------------------------------\n",
      "\n",
      "Epoch [12/40]\n"
     ]
    },
    {
     "name": "stderr",
     "output_type": "stream",
     "text": [
      "100%|██████████| 7225/7225 [01:03<00:00, 113.79it/s]\n"
     ]
    },
    {
     "name": "stdout",
     "output_type": "stream",
     "text": [
      "Average Training Loss for Epoch 12: 2.5995\n"
     ]
    },
    {
     "name": "stderr",
     "output_type": "stream",
     "text": [
      "100%|██████████| 903/903 [01:47<00:00,  8.43it/s]\n"
     ]
    },
    {
     "name": "stdout",
     "output_type": "stream",
     "text": [
      "val_loss: 2.4574, precision: 0.9059, recall: 0.7050, f1:0.7929\n",
      "f1-score did not improve.\n",
      "--------------------------------------------------\n",
      "\n",
      "Epoch [13/40]\n"
     ]
    },
    {
     "name": "stderr",
     "output_type": "stream",
     "text": [
      "100%|██████████| 7225/7225 [01:06<00:00, 108.16it/s]\n"
     ]
    },
    {
     "name": "stdout",
     "output_type": "stream",
     "text": [
      "Average Training Loss for Epoch 13: 2.5940\n"
     ]
    },
    {
     "name": "stderr",
     "output_type": "stream",
     "text": [
      "100%|██████████| 903/903 [01:43<00:00,  8.73it/s]\n"
     ]
    },
    {
     "name": "stdout",
     "output_type": "stream",
     "text": [
      "val_loss: 2.4724, precision: 0.9043, recall: 0.7088, f1:0.7947\n",
      "f1-score improved. Model checkpoint saved at epoch 13.\n",
      "--------------------------------------------------\n",
      "\n",
      "Epoch [14/40]\n"
     ]
    },
    {
     "name": "stderr",
     "output_type": "stream",
     "text": [
      "100%|██████████| 7225/7225 [01:05<00:00, 109.61it/s]\n"
     ]
    },
    {
     "name": "stdout",
     "output_type": "stream",
     "text": [
      "Average Training Loss for Epoch 14: 2.5864\n"
     ]
    },
    {
     "name": "stderr",
     "output_type": "stream",
     "text": [
      "100%|██████████| 903/903 [01:48<00:00,  8.34it/s]\n"
     ]
    },
    {
     "name": "stdout",
     "output_type": "stream",
     "text": [
      "val_loss: 2.4441, precision: 0.9047, recall: 0.7076, f1:0.7941\n",
      "f1-score did not improve.\n",
      "--------------------------------------------------\n",
      "\n",
      "Epoch [15/40]\n"
     ]
    },
    {
     "name": "stderr",
     "output_type": "stream",
     "text": [
      "100%|██████████| 7225/7225 [01:07<00:00, 106.82it/s]\n"
     ]
    },
    {
     "name": "stdout",
     "output_type": "stream",
     "text": [
      "Average Training Loss for Epoch 15: 2.5830\n"
     ]
    },
    {
     "name": "stderr",
     "output_type": "stream",
     "text": [
      "100%|██████████| 903/903 [01:47<00:00,  8.37it/s]\n"
     ]
    },
    {
     "name": "stdout",
     "output_type": "stream",
     "text": [
      "val_loss: 2.4412, precision: 0.9048, recall: 0.7084, f1:0.7946\n",
      "f1-score did not improve.\n",
      "--------------------------------------------------\n",
      "\n",
      "Epoch [16/40]\n"
     ]
    },
    {
     "name": "stderr",
     "output_type": "stream",
     "text": [
      "100%|██████████| 7225/7225 [01:05<00:00, 110.26it/s]\n"
     ]
    },
    {
     "name": "stdout",
     "output_type": "stream",
     "text": [
      "Average Training Loss for Epoch 16: 2.5768\n"
     ]
    },
    {
     "name": "stderr",
     "output_type": "stream",
     "text": [
      "100%|██████████| 903/903 [01:44<00:00,  8.65it/s]\n"
     ]
    },
    {
     "name": "stdout",
     "output_type": "stream",
     "text": [
      "val_loss: 2.4340, precision: 0.9060, recall: 0.7059, f1:0.7935\n",
      "f1-score did not improve.\n",
      "--------------------------------------------------\n",
      "\n",
      "Epoch [17/40]\n"
     ]
    },
    {
     "name": "stderr",
     "output_type": "stream",
     "text": [
      "100%|██████████| 7225/7225 [01:06<00:00, 109.32it/s]\n"
     ]
    },
    {
     "name": "stdout",
     "output_type": "stream",
     "text": [
      "Average Training Loss for Epoch 17: 2.5719\n"
     ]
    },
    {
     "name": "stderr",
     "output_type": "stream",
     "text": [
      "100%|██████████| 903/903 [01:45<00:00,  8.54it/s]\n"
     ]
    },
    {
     "name": "stdout",
     "output_type": "stream",
     "text": [
      "val_loss: 2.4314, precision: 0.9040, recall: 0.7075, f1:0.7938\n",
      "f1-score did not improve.\n",
      "--------------------------------------------------\n",
      "\n",
      "Epoch [18/40]\n"
     ]
    },
    {
     "name": "stderr",
     "output_type": "stream",
     "text": [
      "100%|██████████| 7225/7225 [01:10<00:00, 101.99it/s]\n"
     ]
    },
    {
     "name": "stdout",
     "output_type": "stream",
     "text": [
      "Average Training Loss for Epoch 18: 2.5688\n"
     ]
    },
    {
     "name": "stderr",
     "output_type": "stream",
     "text": [
      "100%|██████████| 903/903 [01:45<00:00,  8.53it/s]\n"
     ]
    },
    {
     "name": "stdout",
     "output_type": "stream",
     "text": [
      "val_loss: 2.4388, precision: 0.9057, recall: 0.7062, f1:0.7936\n",
      "f1-score did not improve.\n",
      "--------------------------------------------------\n",
      "\n",
      "Epoch [19/40]\n"
     ]
    },
    {
     "name": "stderr",
     "output_type": "stream",
     "text": [
      "100%|██████████| 7225/7225 [01:10<00:00, 103.21it/s]\n"
     ]
    },
    {
     "name": "stdout",
     "output_type": "stream",
     "text": [
      "Average Training Loss for Epoch 19: 2.5642\n"
     ]
    },
    {
     "name": "stderr",
     "output_type": "stream",
     "text": [
      "100%|██████████| 903/903 [01:45<00:00,  8.56it/s]\n"
     ]
    },
    {
     "name": "stdout",
     "output_type": "stream",
     "text": [
      "val_loss: 2.4243, precision: 0.9042, recall: 0.7066, f1:0.7933\n",
      "f1-score did not improve.\n",
      "--------------------------------------------------\n",
      "\n",
      "Epoch [20/40]\n"
     ]
    },
    {
     "name": "stderr",
     "output_type": "stream",
     "text": [
      "100%|██████████| 7225/7225 [01:06<00:00, 107.89it/s]\n"
     ]
    },
    {
     "name": "stdout",
     "output_type": "stream",
     "text": [
      "Average Training Loss for Epoch 20: 2.5594\n"
     ]
    },
    {
     "name": "stderr",
     "output_type": "stream",
     "text": [
      "100%|██████████| 903/903 [01:47<00:00,  8.40it/s]\n"
     ]
    },
    {
     "name": "stdout",
     "output_type": "stream",
     "text": [
      "val_loss: 2.4341, precision: 0.9056, recall: 0.7071, f1:0.7942\n",
      "f1-score did not improve.\n",
      "--------------------------------------------------\n",
      "\n",
      "Epoch [21/40]\n"
     ]
    },
    {
     "name": "stderr",
     "output_type": "stream",
     "text": [
      "100%|██████████| 7225/7225 [01:12<00:00, 99.41it/s] \n"
     ]
    },
    {
     "name": "stdout",
     "output_type": "stream",
     "text": [
      "Average Training Loss for Epoch 21: 2.5588\n"
     ]
    },
    {
     "name": "stderr",
     "output_type": "stream",
     "text": [
      "100%|██████████| 903/903 [01:43<00:00,  8.70it/s]\n"
     ]
    },
    {
     "name": "stdout",
     "output_type": "stream",
     "text": [
      "val_loss: 2.4143, precision: 0.9052, recall: 0.7067, f1:0.7937\n",
      "f1-score did not improve.\n",
      "--------------------------------------------------\n",
      "\n",
      "Epoch [22/40]\n"
     ]
    },
    {
     "name": "stderr",
     "output_type": "stream",
     "text": [
      "100%|██████████| 7225/7225 [01:08<00:00, 105.30it/s]\n"
     ]
    },
    {
     "name": "stdout",
     "output_type": "stream",
     "text": [
      "Average Training Loss for Epoch 22: 2.5563\n"
     ]
    },
    {
     "name": "stderr",
     "output_type": "stream",
     "text": [
      "100%|██████████| 903/903 [01:45<00:00,  8.54it/s]\n"
     ]
    },
    {
     "name": "stdout",
     "output_type": "stream",
     "text": [
      "val_loss: 2.4180, precision: 0.9045, recall: 0.7067, f1:0.7935\n",
      "f1-score did not improve.\n",
      "--------------------------------------------------\n",
      "\n",
      "Epoch [23/40]\n"
     ]
    },
    {
     "name": "stderr",
     "output_type": "stream",
     "text": [
      "100%|██████████| 7225/7225 [01:07<00:00, 106.53it/s]\n"
     ]
    },
    {
     "name": "stdout",
     "output_type": "stream",
     "text": [
      "Average Training Loss for Epoch 23: 2.5532\n"
     ]
    },
    {
     "name": "stderr",
     "output_type": "stream",
     "text": [
      "100%|██████████| 903/903 [01:48<00:00,  8.30it/s]\n"
     ]
    },
    {
     "name": "stdout",
     "output_type": "stream",
     "text": [
      "val_loss: 2.4144, precision: 0.9053, recall: 0.7035, f1:0.7917\n",
      "f1-score did not improve.\n",
      "--------------------------------------------------\n",
      "\n",
      "Epoch [24/40]\n"
     ]
    },
    {
     "name": "stderr",
     "output_type": "stream",
     "text": [
      "100%|██████████| 7225/7225 [01:07<00:00, 107.40it/s]\n"
     ]
    },
    {
     "name": "stdout",
     "output_type": "stream",
     "text": [
      "Average Training Loss for Epoch 24: 2.5516\n"
     ]
    },
    {
     "name": "stderr",
     "output_type": "stream",
     "text": [
      "100%|██████████| 903/903 [01:47<00:00,  8.42it/s]\n"
     ]
    },
    {
     "name": "stdout",
     "output_type": "stream",
     "text": [
      "val_loss: 2.4132, precision: 0.9046, recall: 0.7067, f1:0.7935\n",
      "f1-score did not improve.\n",
      "--------------------------------------------------\n",
      "\n",
      "Epoch [25/40]\n"
     ]
    },
    {
     "name": "stderr",
     "output_type": "stream",
     "text": [
      "100%|██████████| 7225/7225 [01:08<00:00, 106.14it/s]\n"
     ]
    },
    {
     "name": "stdout",
     "output_type": "stream",
     "text": [
      "Average Training Loss for Epoch 25: 2.5495\n"
     ]
    },
    {
     "name": "stderr",
     "output_type": "stream",
     "text": [
      "100%|██████████| 903/903 [01:50<00:00,  8.14it/s]\n"
     ]
    },
    {
     "name": "stdout",
     "output_type": "stream",
     "text": [
      "val_loss: 2.4121, precision: 0.9051, recall: 0.7049, f1:0.7925\n",
      "f1-score did not improve.\n",
      "--------------------------------------------------\n",
      "\n",
      "Epoch [26/40]\n"
     ]
    },
    {
     "name": "stderr",
     "output_type": "stream",
     "text": [
      "100%|██████████| 7225/7225 [01:11<00:00, 101.69it/s]\n"
     ]
    },
    {
     "name": "stdout",
     "output_type": "stream",
     "text": [
      "Average Training Loss for Epoch 26: 2.5468\n"
     ]
    },
    {
     "name": "stderr",
     "output_type": "stream",
     "text": [
      "100%|██████████| 903/903 [01:48<00:00,  8.32it/s]\n"
     ]
    },
    {
     "name": "stdout",
     "output_type": "stream",
     "text": [
      "val_loss: 2.4108, precision: 0.9046, recall: 0.7053, f1:0.7926\n",
      "f1-score did not improve.\n",
      "--------------------------------------------------\n",
      "\n",
      "Epoch [27/40]\n"
     ]
    },
    {
     "name": "stderr",
     "output_type": "stream",
     "text": [
      "100%|██████████| 7225/7225 [01:10<00:00, 102.85it/s]\n"
     ]
    },
    {
     "name": "stdout",
     "output_type": "stream",
     "text": [
      "Average Training Loss for Epoch 27: 2.5458\n"
     ]
    },
    {
     "name": "stderr",
     "output_type": "stream",
     "text": [
      "100%|██████████| 903/903 [01:44<00:00,  8.68it/s]\n"
     ]
    },
    {
     "name": "stdout",
     "output_type": "stream",
     "text": [
      "val_loss: 2.4110, precision: 0.9046, recall: 0.7049, f1:0.7924\n",
      "f1-score did not improve.\n",
      "--------------------------------------------------\n",
      "\n",
      "Epoch [28/40]\n"
     ]
    },
    {
     "name": "stderr",
     "output_type": "stream",
     "text": [
      "100%|██████████| 7225/7225 [01:08<00:00, 105.03it/s]\n"
     ]
    },
    {
     "name": "stdout",
     "output_type": "stream",
     "text": [
      "Average Training Loss for Epoch 28: 2.5426\n"
     ]
    },
    {
     "name": "stderr",
     "output_type": "stream",
     "text": [
      "100%|██████████| 903/903 [01:43<00:00,  8.70it/s]\n"
     ]
    },
    {
     "name": "stdout",
     "output_type": "stream",
     "text": [
      "val_loss: 2.4122, precision: 0.9034, recall: 0.7078, f1:0.7938\n",
      "f1-score did not improve.\n",
      "--------------------------------------------------\n",
      "\n",
      "Epoch [29/40]\n"
     ]
    },
    {
     "name": "stderr",
     "output_type": "stream",
     "text": [
      "100%|██████████| 7225/7225 [01:00<00:00, 118.94it/s]\n"
     ]
    },
    {
     "name": "stdout",
     "output_type": "stream",
     "text": [
      "Average Training Loss for Epoch 29: 2.5395\n"
     ]
    },
    {
     "name": "stderr",
     "output_type": "stream",
     "text": [
      "100%|██████████| 903/903 [01:44<00:00,  8.63it/s]\n"
     ]
    },
    {
     "name": "stdout",
     "output_type": "stream",
     "text": [
      "val_loss: 2.4081, precision: 0.9052, recall: 0.7017, f1:0.7906\n",
      "f1-score did not improve.\n",
      "--------------------------------------------------\n",
      "\n",
      "Epoch [30/40]\n"
     ]
    },
    {
     "name": "stderr",
     "output_type": "stream",
     "text": [
      "100%|██████████| 7225/7225 [01:00<00:00, 119.03it/s]\n"
     ]
    },
    {
     "name": "stdout",
     "output_type": "stream",
     "text": [
      "Average Training Loss for Epoch 30: 2.5401\n"
     ]
    },
    {
     "name": "stderr",
     "output_type": "stream",
     "text": [
      "100%|██████████| 903/903 [01:42<00:00,  8.82it/s]\n"
     ]
    },
    {
     "name": "stdout",
     "output_type": "stream",
     "text": [
      "val_loss: 2.4161, precision: 0.9034, recall: 0.7076, f1:0.7936\n",
      "f1-score did not improve.\n",
      "--------------------------------------------------\n",
      "\n",
      "Epoch [31/40]\n"
     ]
    },
    {
     "name": "stderr",
     "output_type": "stream",
     "text": [
      "100%|██████████| 7225/7225 [01:00<00:00, 119.06it/s]\n"
     ]
    },
    {
     "name": "stdout",
     "output_type": "stream",
     "text": [
      "Average Training Loss for Epoch 31: 2.5374\n"
     ]
    },
    {
     "name": "stderr",
     "output_type": "stream",
     "text": [
      "100%|██████████| 903/903 [01:40<00:00,  8.95it/s]\n"
     ]
    },
    {
     "name": "stdout",
     "output_type": "stream",
     "text": [
      "val_loss: 2.3990, precision: 0.9043, recall: 0.7058, f1:0.7928\n",
      "f1-score did not improve.\n",
      "--------------------------------------------------\n",
      "\n",
      "Epoch [32/40]\n"
     ]
    },
    {
     "name": "stderr",
     "output_type": "stream",
     "text": [
      "100%|██████████| 7225/7225 [01:02<00:00, 115.59it/s]\n"
     ]
    },
    {
     "name": "stdout",
     "output_type": "stream",
     "text": [
      "Average Training Loss for Epoch 32: 2.5348\n"
     ]
    },
    {
     "name": "stderr",
     "output_type": "stream",
     "text": [
      "100%|██████████| 903/903 [01:41<00:00,  8.90it/s]\n"
     ]
    },
    {
     "name": "stdout",
     "output_type": "stream",
     "text": [
      "val_loss: 2.4090, precision: 0.9031, recall: 0.7045, f1:0.7915\n",
      "f1-score did not improve.\n",
      "--------------------------------------------------\n",
      "\n",
      "Epoch [33/40]\n"
     ]
    },
    {
     "name": "stderr",
     "output_type": "stream",
     "text": [
      "100%|██████████| 7225/7225 [01:02<00:00, 115.65it/s]\n"
     ]
    },
    {
     "name": "stdout",
     "output_type": "stream",
     "text": [
      "Average Training Loss for Epoch 33: 2.5363\n"
     ]
    },
    {
     "name": "stderr",
     "output_type": "stream",
     "text": [
      "100%|██████████| 903/903 [01:42<00:00,  8.78it/s]\n"
     ]
    },
    {
     "name": "stdout",
     "output_type": "stream",
     "text": [
      "val_loss: 2.4236, precision: 0.9028, recall: 0.7078, f1:0.7935\n",
      "f1-score did not improve.\n",
      "--------------------------------------------------\n",
      "\n",
      "Epoch [34/40]\n"
     ]
    },
    {
     "name": "stderr",
     "output_type": "stream",
     "text": [
      "100%|██████████| 7225/7225 [01:04<00:00, 112.49it/s]\n"
     ]
    },
    {
     "name": "stdout",
     "output_type": "stream",
     "text": [
      "Average Training Loss for Epoch 34: 2.5326\n"
     ]
    },
    {
     "name": "stderr",
     "output_type": "stream",
     "text": [
      "100%|██████████| 903/903 [01:41<00:00,  8.91it/s]\n"
     ]
    },
    {
     "name": "stdout",
     "output_type": "stream",
     "text": [
      "val_loss: 2.4168, precision: 0.9031, recall: 0.7063, f1:0.7927\n",
      "f1-score did not improve.\n",
      "--------------------------------------------------\n",
      "\n",
      "Epoch [35/40]\n"
     ]
    },
    {
     "name": "stderr",
     "output_type": "stream",
     "text": [
      "100%|██████████| 7225/7225 [01:01<00:00, 118.05it/s]\n"
     ]
    },
    {
     "name": "stdout",
     "output_type": "stream",
     "text": [
      "Average Training Loss for Epoch 35: 2.5307\n"
     ]
    },
    {
     "name": "stderr",
     "output_type": "stream",
     "text": [
      "100%|██████████| 903/903 [01:41<00:00,  8.88it/s]\n"
     ]
    },
    {
     "name": "stdout",
     "output_type": "stream",
     "text": [
      "val_loss: 2.4064, precision: 0.9045, recall: 0.7044, f1:0.7920\n",
      "f1-score did not improve.\n",
      "--------------------------------------------------\n",
      "\n",
      "Epoch [36/40]\n"
     ]
    },
    {
     "name": "stderr",
     "output_type": "stream",
     "text": [
      "100%|██████████| 7225/7225 [00:59<00:00, 122.07it/s]\n"
     ]
    },
    {
     "name": "stdout",
     "output_type": "stream",
     "text": [
      "Average Training Loss for Epoch 36: 2.5310\n"
     ]
    },
    {
     "name": "stderr",
     "output_type": "stream",
     "text": [
      "100%|██████████| 903/903 [01:52<00:00,  8.00it/s]\n"
     ]
    },
    {
     "name": "stdout",
     "output_type": "stream",
     "text": [
      "val_loss: 2.3958, precision: 0.9041, recall: 0.7049, f1:0.7921\n",
      "f1-score did not improve.\n",
      "--------------------------------------------------\n",
      "\n",
      "Epoch [37/40]\n"
     ]
    },
    {
     "name": "stderr",
     "output_type": "stream",
     "text": [
      "100%|██████████| 7225/7225 [01:07<00:00, 107.07it/s]\n"
     ]
    },
    {
     "name": "stdout",
     "output_type": "stream",
     "text": [
      "Average Training Loss for Epoch 37: 2.5305\n"
     ]
    },
    {
     "name": "stderr",
     "output_type": "stream",
     "text": [
      "100%|██████████| 903/903 [01:44<00:00,  8.63it/s]\n"
     ]
    },
    {
     "name": "stdout",
     "output_type": "stream",
     "text": [
      "val_loss: 2.4066, precision: 0.9042, recall: 0.7047, f1:0.7920\n",
      "f1-score did not improve.\n",
      "--------------------------------------------------\n",
      "\n",
      "Epoch [38/40]\n"
     ]
    },
    {
     "name": "stderr",
     "output_type": "stream",
     "text": [
      "100%|██████████| 7225/7225 [01:05<00:00, 110.58it/s]\n"
     ]
    },
    {
     "name": "stdout",
     "output_type": "stream",
     "text": [
      "Average Training Loss for Epoch 38: 2.5274\n"
     ]
    },
    {
     "name": "stderr",
     "output_type": "stream",
     "text": [
      "100%|██████████| 903/903 [01:49<00:00,  8.25it/s]\n"
     ]
    },
    {
     "name": "stdout",
     "output_type": "stream",
     "text": [
      "val_loss: 2.4026, precision: 0.9041, recall: 0.7059, f1:0.7928\n",
      "f1-score did not improve.\n",
      "--------------------------------------------------\n",
      "\n",
      "Epoch [39/40]\n"
     ]
    },
    {
     "name": "stderr",
     "output_type": "stream",
     "text": [
      "100%|██████████| 7225/7225 [01:04<00:00, 112.50it/s]\n"
     ]
    },
    {
     "name": "stdout",
     "output_type": "stream",
     "text": [
      "Average Training Loss for Epoch 39: 2.5255\n"
     ]
    },
    {
     "name": "stderr",
     "output_type": "stream",
     "text": [
      "100%|██████████| 903/903 [01:47<00:00,  8.37it/s]\n"
     ]
    },
    {
     "name": "stdout",
     "output_type": "stream",
     "text": [
      "val_loss: 2.4208, precision: 0.9042, recall: 0.7056, f1:0.7926\n",
      "f1-score did not improve.\n",
      "--------------------------------------------------\n",
      "\n",
      "Epoch [40/40]\n"
     ]
    },
    {
     "name": "stderr",
     "output_type": "stream",
     "text": [
      "100%|██████████| 7225/7225 [01:04<00:00, 111.93it/s]\n"
     ]
    },
    {
     "name": "stdout",
     "output_type": "stream",
     "text": [
      "Average Training Loss for Epoch 40: 2.5277\n"
     ]
    },
    {
     "name": "stderr",
     "output_type": "stream",
     "text": [
      "100%|██████████| 903/903 [01:44<00:00,  8.61it/s]\n"
     ]
    },
    {
     "name": "stdout",
     "output_type": "stream",
     "text": [
      "val_loss: 2.3960, precision: 0.9055, recall: 0.7043, f1:0.7923\n",
      "f1-score did not improve.\n",
      "--------------------------------------------------\n"
     ]
    },
    {
     "data": {
      "text/html": [
       "<style>\n",
       "    table.wandb td:nth-child(1) { padding: 0 10px; text-align: left ; width: auto;} td:nth-child(2) {text-align: left ; width: 100%}\n",
       "    .wandb-row { display: flex; flex-direction: row; flex-wrap: wrap; justify-content: flex-start; width: 100% }\n",
       "    .wandb-col { display: flex; flex-direction: column; flex-basis: 100%; flex: 1; padding: 10px; }\n",
       "    </style>\n",
       "<div class=\"wandb-row\"><div class=\"wandb-col\"><h3>Run history:</h3><br/><table class=\"wandb\"><tr><td>f1</td><td>▁▃▆▇▇▇▇▇▇█▇▇██████████▇█▇▇▇█▇█▇▇█▇▇▇▇▇▇▇</td></tr><tr><td>precision</td><td>▇█▃▁▁▂▄▃▄▅▅▅▄▄▄▅▄▅▄▅▅▄▅▄▅▄▄▃▅▃▄▃▃▃▄▄▄▄▄▅</td></tr><tr><td>recall</td><td>▁▃▆▇▇▇▇█▇▇▇▇███▇█▇████▇█▇▇▇█▇█▇▇█▇▇▇▇▇▇▇</td></tr><tr><td>train_loss</td><td>█▂▁▁▁▁▁▁▁▁▁▁▁▁▁▁▁▁▁▁▁▁▁▁▁▁▁▁▁▁▁▁▁▁▁▁▁▁▁▁</td></tr><tr><td>val_loss</td><td>█▃▄▄▄▄▃▃▃▃▃▂▃▂▂▂▂▂▂▂▁▂▁▁▁▁▁▁▁▁▁▁▂▁▁▁▁▁▂▁</td></tr></table><br/></div><div class=\"wandb-col\"><h3>Run summary:</h3><br/><table class=\"wandb\"><tr><td>f1</td><td>0.7923</td></tr><tr><td>precision</td><td>0.90551</td></tr><tr><td>recall</td><td>0.70426</td></tr><tr><td>train_loss</td><td>2.52766</td></tr><tr><td>val_loss</td><td>2.396</td></tr></table><br/></div></div>"
      ],
      "text/plain": [
       "<IPython.core.display.HTML object>"
      ]
     },
     "metadata": {},
     "output_type": "display_data"
    },
    {
     "data": {
      "text/html": [
       " View run <strong style=\"color:#cdcd00\">2024-12-17 14:41:59.230161</strong> at: <a href='https://wandb.ai/thanh309/RecSysNCF/runs/guhf0fwh' target=\"_blank\">https://wandb.ai/thanh309/RecSysNCF/runs/guhf0fwh</a><br/> View project at: <a href='https://wandb.ai/thanh309/RecSysNCF' target=\"_blank\">https://wandb.ai/thanh309/RecSysNCF</a><br/>Synced 5 W&B file(s), 0 media file(s), 0 artifact file(s) and 0 other file(s)"
      ],
      "text/plain": [
       "<IPython.core.display.HTML object>"
      ]
     },
     "metadata": {},
     "output_type": "display_data"
    },
    {
     "data": {
      "text/html": [
       "Find logs at: <code>./wandb/run-20241217_144200-guhf0fwh/logs</code>"
      ],
      "text/plain": [
       "<IPython.core.display.HTML object>"
      ]
     },
     "metadata": {},
     "output_type": "display_data"
    }
   ],
   "source": [
    "optimizer = torch.optim.Adam(model.parameters(), lr=learning_rate)\n",
    "loss_func = nn.MSELoss()\n",
    "\n",
    "model.train()\n",
    "\n",
    "RESUME = 'allow'\n",
    "wandb.init(\n",
    "    project='RecSysNCF',\n",
    "    resume=RESUME,\n",
    "    name=str(datetime.datetime.now()),\n",
    "    config={\n",
    "        'batch_size': batch_size,\n",
    "        'layers': layers,\n",
    "        'reg_layers': reg_layers,\n",
    "        'learning_rate': learning_rate,\n",
    "        'epochs': epochs,\n",
    "        'threshold': threshold,\n",
    "        'k': k\n",
    "    }\n",
    ")\n",
    "\n",
    "wandb.watch(model)\n",
    "best_f1_score = float('-inf')\n",
    "\n",
    "for epoch in range(epochs):\n",
    "    model.train()\n",
    "    total_train_loss = 0\n",
    "    print(f'\\nEpoch [{epoch+1}/{epochs}]')\n",
    "\n",
    "    for i, train_data in enumerate(tqdm(train_loader)):\n",
    "\n",
    "        uid = train_data['uid'].to(device)\n",
    "        fid = train_data['fid'].to(device)\n",
    "        rating = train_data[\"rating\"].to(device)\n",
    "\n",
    "        optimizer.zero_grad()\n",
    "        output: torch.Tensor = model(\n",
    "            uid, fid\n",
    "        )\n",
    "        # [batch, 1] -> [batch]\n",
    "        output = output.squeeze()\n",
    "\n",
    "        loss = loss_func(output, rating)\n",
    "        loss.backward()\n",
    "        optimizer.step()\n",
    "\n",
    "        total_train_loss += loss.item()\n",
    "    \n",
    "    avg_train_loss = total_train_loss / len(train_loader)\n",
    "    print(f\"Average Training Loss for Epoch {epoch+1}: {avg_train_loss:.4f}\")\n",
    "\n",
    "    model.eval()  \n",
    "    total_val_loss = 0\n",
    "\n",
    "    y_pred = []\n",
    "    y_true = []\n",
    "    user_ratings_comparison = defaultdict(list)\n",
    "\n",
    "    with torch.no_grad():\n",
    "        for i, val_data in enumerate(tqdm(val_loader)):\n",
    "            uid = val_data['uid'].to(device)\n",
    "            fid = val_data['fid'].to(device)\n",
    "            rating = val_data[\"rating\"].to(device)\n",
    "\n",
    "            output = model(\n",
    "                uid, fid\n",
    "            )\n",
    "            output = output.squeeze()\n",
    "\n",
    "            loss = loss_func(output, rating)\n",
    "            \n",
    "            total_val_loss += loss.item()\n",
    "\n",
    "            y_pred.extend(output.cpu().numpy())\n",
    "            y_true.extend(rating.cpu().numpy())\n",
    "            for user, pred, true in zip(uid, output, rating):\n",
    "                user_ratings_comparison[user.item()].append((pred.item(), true.item()))\n",
    "\n",
    "\n",
    "    avg_val_loss = total_val_loss / len(val_loader)\n",
    "    # rmse = root_mean_squared_error(y_true, y_pred)\n",
    "    avg_precision = 0.0\n",
    "    avg_recall = 0.0\n",
    "\n",
    "    for user, user_ratings in user_ratings_comparison.items():\n",
    "        precision, recall = calculate_precision_recall(user_ratings, k, threshold)\n",
    "        avg_precision += precision\n",
    "        avg_recall += recall\n",
    "    \n",
    "    avg_precision /= len(user_ratings_comparison)\n",
    "    avg_recall /= len(user_ratings_comparison)\n",
    "    f1_score = (2 * avg_precision * avg_recall) / (avg_precision + avg_recall)\n",
    "    print(f'val_loss: {avg_val_loss:.4f}, precision: {avg_precision:.4f}, recall: {avg_recall:.4f}, f1:{f1_score:.4f}')\n",
    "\n",
    "\n",
    "    if f1_score > best_f1_score:\n",
    "        best_f1_score = f1_score\n",
    "        torch.save(model.state_dict(), f'{CHECKPOINT_PATH}/ncf.pth')\n",
    "        print(f\"f1-score improved. Model checkpoint saved at epoch {epoch+1}.\")\n",
    "    else:\n",
    "        print(\"f1-score did not improve.\")\n",
    "\n",
    "    wandb.log({\n",
    "        'train_loss': avg_train_loss,\n",
    "        'val_loss': avg_val_loss,\n",
    "        'precision': avg_precision,\n",
    "        'recall': avg_recall,\n",
    "        'f1': f1_score\n",
    "    })\n",
    "\n",
    "    print('-' * 50)\n",
    "\n",
    "wandb.finish()"
   ]
  }
 ],
 "metadata": {
  "kernelspec": {
   "display_name": "thanh309-ml",
   "language": "python",
   "name": "python3"
  },
  "language_info": {
   "codemirror_mode": {
    "name": "ipython",
    "version": 3
   },
   "file_extension": ".py",
   "mimetype": "text/x-python",
   "name": "python",
   "nbconvert_exporter": "python",
   "pygments_lexer": "ipython3",
   "version": "3.12.2"
  }
 },
 "nbformat": 4,
 "nbformat_minor": 2
}
