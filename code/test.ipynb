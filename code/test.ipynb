{
 "cells": [
  {
   "cell_type": "code",
   "execution_count": null,
   "metadata": {},
   "outputs": [
    {
     "name": "stdout",
     "output_type": "stream",
     "text": [
      "<class 'pandas.core.frame.DataFrame'>\n",
      "RangeIndex: 54537 entries, 0 to 54536\n",
      "Data columns (total 3 columns):\n",
      " #   Column  Non-Null Count  Dtype \n",
      "---  ------  --------------  ----- \n",
      " 0   uid     54537 non-null  object\n",
      " 1   fid     54537 non-null  object\n",
      " 2   rating  54537 non-null  object\n",
      "dtypes: object(3)\n",
      "memory usage: 1.2+ MB\n"
     ]
    }
   ],
   "source": [
    "import pandas as pd\n",
    "\n",
    "df1 = pd.read_csv('../resources/ratings/users_ratings_part1.csv', header=None, dtype=str)\n",
    "df1.columns = ['uid', 'fid', 'rating']\n",
    "df1.info()"
   ]
  },
  {
   "cell_type": "code",
   "execution_count": 3,
   "metadata": {},
   "outputs": [
    {
     "name": "stdout",
     "output_type": "stream",
     "text": [
      "<class 'pandas.core.frame.DataFrame'>\n",
      "RangeIndex: 51522 entries, 0 to 51521\n",
      "Data columns (total 3 columns):\n",
      " #   Column  Non-Null Count  Dtype \n",
      "---  ------  --------------  ----- \n",
      " 0   uid     51522 non-null  object\n",
      " 1   fid     51522 non-null  object\n",
      " 2   rating  51522 non-null  object\n",
      "dtypes: object(3)\n",
      "memory usage: 1.2+ MB\n"
     ]
    }
   ],
   "source": [
    "df2 = pd.read_csv('../resources/ratings/users_ratings_part2.csv', header=None, dtype=str)\n",
    "df2.columns = ['uid', 'fid', 'rating']\n",
    "df2.info()"
   ]
  },
  {
   "cell_type": "code",
   "execution_count": 10,
   "metadata": {},
   "outputs": [
    {
     "name": "stdout",
     "output_type": "stream",
     "text": [
      "10958 283\n",
      "10832 267\n",
      "16794\n"
     ]
    }
   ],
   "source": [
    "print(df1['fid'].nunique(), df1['uid'].nunique())\n",
    "print(df2['fid'].nunique(), df2['uid'].nunique())\n",
    "\n",
    "df3 = pd.concat([df1['fid'], df2['fid']]).unique()\n",
    "print(len(df3))"
   ]
  }
 ],
 "metadata": {
  "kernelspec": {
   "display_name": "thanh309-ml",
   "language": "python",
   "name": "python3"
  },
  "language_info": {
   "codemirror_mode": {
    "name": "ipython",
    "version": 3
   },
   "file_extension": ".py",
   "mimetype": "text/x-python",
   "name": "python",
   "nbconvert_exporter": "python",
   "pygments_lexer": "ipython3",
   "version": "3.12.2"
  }
 },
 "nbformat": 4,
 "nbformat_minor": 2
}
