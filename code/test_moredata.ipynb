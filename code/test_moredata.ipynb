{
 "cells": [
  {
   "cell_type": "code",
   "execution_count": 39,
   "metadata": {},
   "outputs": [],
   "source": [
    "from os import chdir, path, getcwd\n",
    "for i in range(10):\n",
    "    if path.isfile(\"checkcwd\"):\n",
    "        break\n",
    "    chdir(path.pardir)\n",
    "if path.isfile(\"checkcwd\"):\n",
    "    pass\n",
    "else:\n",
    "    raise Exception(\"Something went wrong. cwd=\" + getcwd())"
   ]
  },
  {
   "cell_type": "code",
   "execution_count": 40,
   "metadata": {},
   "outputs": [],
   "source": [
    "from tqdm.auto import tqdm\n",
    "from collections import defaultdict\n",
    "import sys\n",
    "\n",
    "import requests\n",
    "import random\n",
    "from bs4 import BeautifulSoup\n",
    "from json import loads\n",
    "from html import unescape\n",
    "import pandas as pd"
   ]
  },
  {
   "cell_type": "code",
   "execution_count": 41,
   "metadata": {},
   "outputs": [],
   "source": [
    "RATINGS_DIR = 'resources/ratings'\n",
    "\n",
    "\n",
    "USER_AGENTS = [\n",
    "    'Mozilla/5.0 (Windows NT 10.0; Win64; x64; rv:131.0) Gecko/20100101 Firefox/131.0',\n",
    "    'Mozilla/5.0 (Windows NT 10.0; Win64; x64; rv:130.0) Gecko/20100101 Firefox/130.0',\n",
    "    'Mozilla/5.0 (X11; Ubuntu; Linux x86_64; rv:109.0) Gecko/20100101 Firefox/109.0',\n",
    "    'Mozilla/5.0 (X11; Linux x86_64) AppleWebKit/537.36 (KHTML, like Gecko) Chrome/115.0.5790.170 Safari/537.36',\n",
    "    'Mozilla/5.0 (Windows NT 10.0; Win64; x64) AppleWebKit/537.36 (KHTML, like Gecko) Chrome/116.0.0.0 Safari/537.36',\n",
    "    'Mozilla/5.0 (Windows NT 10.0; Win64; x64) AppleWebKit/537.36 (KHTML, like Gecko) Chrome/130.0.0.0 Safari/537.36',\n",
    "    'Mozilla/5.0 (Macintosh; Intel Mac OS X 13_0) AppleWebKit/605.1.15 (KHTML, like Gecko) Version/16.0 Safari/605.1.15'\n",
    "]\n"
   ]
  },
  {
   "cell_type": "code",
   "execution_count": 42,
   "metadata": {},
   "outputs": [
    {
     "data": {
      "text/plain": [
       "43"
      ]
     },
     "execution_count": 42,
     "metadata": {},
     "output_type": "execute_result"
    }
   ],
   "source": [
    "import os\n",
    "rating_files = os.listdir(RATINGS_DIR)\n",
    "len(rating_files)"
   ]
  },
  {
   "cell_type": "code",
   "execution_count": 43,
   "metadata": {},
   "outputs": [
    {
     "data": {
      "application/vnd.jupyter.widget-view+json": {
       "model_id": "4bd0f358120f492c9aa0140d06c31d68",
       "version_major": 2,
       "version_minor": 0
      },
      "text/plain": [
       "  0%|          | 0/43 [00:00<?, ?it/s]"
      ]
     },
     "metadata": {},
     "output_type": "display_data"
    }
   ],
   "source": [
    "rating_filepaths = [os.path.join(RATINGS_DIR, f) for f in rating_files]\n",
    "uids = defaultdict(int)\n",
    "fids = defaultdict(int)\n",
    "for filepath in tqdm(rating_filepaths):\n",
    "    with open(filepath, 'r') as fr:\n",
    "        lines = fr.readlines()\n",
    "    for line in lines:\n",
    "        splitted_line = line.split(sep=',')\n",
    "        uids[splitted_line[0]] += 1\n",
    "        fids[splitted_line[1]] += 1"
   ]
  },
  {
   "cell_type": "code",
   "execution_count": 44,
   "metadata": {},
   "outputs": [
    {
     "data": {
      "text/plain": [
       "15379208"
      ]
     },
     "execution_count": 44,
     "metadata": {},
     "output_type": "execute_result"
    }
   ],
   "source": [
    "sys.getsizeof(fids)"
   ]
  },
  {
   "cell_type": "code",
   "execution_count": 45,
   "metadata": {},
   "outputs": [],
   "source": [
    "def get_film_data(id: str):\n",
    "    film_url = f'https://www.imdb.com/title/tt{id}'\n",
    "    r = requests.get(\n",
    "        film_url,\n",
    "        headers={'User-Agent': random.choice(USER_AGENTS)}\n",
    "    )\n",
    "    soup = BeautifulSoup(r.text, 'html.parser').head\n",
    "    ld_json_script = soup.find('script', type='application/ld+json')\n",
    "    json_data = loads(ld_json_script.string)\n",
    "    return json_data"
   ]
  },
  {
   "cell_type": "code",
   "execution_count": 46,
   "metadata": {},
   "outputs": [],
   "source": [
    "film_id = '0910970'\n",
    "walle = get_film_data(film_id)"
   ]
  },
  {
   "cell_type": "code",
   "execution_count": 47,
   "metadata": {},
   "outputs": [
    {
     "data": {
      "text/plain": [
       "5880"
      ]
     },
     "execution_count": 47,
     "metadata": {},
     "output_type": "execute_result"
    }
   ],
   "source": [
    "walle['duration']\n",
    "dt = pd.Timedelta(walle['duration'])\n",
    "int(dt.total_seconds())"
   ]
  },
  {
   "cell_type": "code",
   "execution_count": 52,
   "metadata": {},
   "outputs": [
    {
     "data": {
      "text/plain": [
       "['0111161', '0109830', '0110912', '0133093', '0068646']"
      ]
     },
     "execution_count": 52,
     "metadata": {},
     "output_type": "execute_result"
    }
   ],
   "source": [
    "test_fids = list(fids.keys())[:5]\n",
    "test_fids"
   ]
  },
  {
   "cell_type": "code",
   "execution_count": 61,
   "metadata": {},
   "outputs": [],
   "source": [
    "with open('test.csv', 'w') as fw:\n",
    "    # fw.write(f'fid,name,description,ratingCount,ratingValue,contentRating,genre,keywords,duration\\n')\n",
    "    for fid in test_fids:\n",
    "        json_film = get_film_data(fid)\n",
    "        fw.write(f'\"{fid}\",\"{json_film['name']}\",\"{json_film['description']}\",{json_film['aggregateRating']['ratingCount']},')\n",
    "        fw.write(f'{json_film['aggregateRating']['ratingValue']},{json_film['contentRating']},')\n",
    "        fw.write(f'\"{','.join(json_film['genre'])}\",\"{json_film['keywords']}\",{int(pd.Timedelta(json_film['duration']).total_seconds())}\\n')"
   ]
  }
 ],
 "metadata": {
  "kernelspec": {
   "display_name": "thanh309-ml",
   "language": "python",
   "name": "python3"
  },
  "language_info": {
   "codemirror_mode": {
    "name": "ipython",
    "version": 3
   },
   "file_extension": ".py",
   "mimetype": "text/x-python",
   "name": "python",
   "nbconvert_exporter": "python",
   "pygments_lexer": "ipython3",
   "version": "3.12.2"
  }
 },
 "nbformat": 4,
 "nbformat_minor": 2
}
