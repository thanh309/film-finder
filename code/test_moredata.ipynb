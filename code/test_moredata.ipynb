{
 "cells": [
  {
   "cell_type": "code",
   "execution_count": 1,
   "metadata": {},
   "outputs": [],
   "source": [
    "from os import chdir, path, getcwd\n",
    "for i in range(10):\n",
    "    if path.isfile(\"checkcwd\"):\n",
    "        break\n",
    "    chdir(path.pardir)\n",
    "if path.isfile(\"checkcwd\"):\n",
    "    pass\n",
    "else:\n",
    "    raise Exception(\"Something went wrong. cwd=\" + getcwd())"
   ]
  },
  {
   "cell_type": "code",
   "execution_count": 2,
   "metadata": {},
   "outputs": [],
   "source": [
    "from tqdm.auto import tqdm\n",
    "from collections import defaultdict\n",
    "import sys\n",
    "\n",
    "import requests\n",
    "import random\n",
    "from bs4 import BeautifulSoup\n",
    "from json import loads\n",
    "from html import unescape\n",
    "import pandas as pd\n",
    "\n",
    "import concurrent.futures"
   ]
  },
  {
   "cell_type": "code",
   "execution_count": 3,
   "metadata": {},
   "outputs": [],
   "source": [
    "RATINGS_DIR = 'resources/ratings'\n",
    "\n",
    "\n",
    "USER_AGENTS = [\n",
    "    'Mozilla/5.0 (Windows NT 10.0; Win64; x64; rv:131.0) Gecko/20100101 Firefox/131.0',\n",
    "    'Mozilla/5.0 (Windows NT 10.0; Win64; x64; rv:130.0) Gecko/20100101 Firefox/130.0',\n",
    "    'Mozilla/5.0 (X11; Ubuntu; Linux x86_64; rv:109.0) Gecko/20100101 Firefox/109.0',\n",
    "    'Mozilla/5.0 (X11; Linux x86_64) AppleWebKit/537.36 (KHTML, like Gecko) Chrome/115.0.5790.170 Safari/537.36',\n",
    "    'Mozilla/5.0 (Windows NT 10.0; Win64; x64) AppleWebKit/537.36 (KHTML, like Gecko) Chrome/116.0.0.0 Safari/537.36',\n",
    "    'Mozilla/5.0 (Windows NT 10.0; Win64; x64) AppleWebKit/537.36 (KHTML, like Gecko) Chrome/130.0.0.0 Safari/537.36',\n",
    "    'Mozilla/5.0 (Macintosh; Intel Mac OS X 13_0) AppleWebKit/605.1.15 (KHTML, like Gecko) Version/16.0 Safari/605.1.15'\n",
    "]\n"
   ]
  },
  {
   "cell_type": "code",
   "execution_count": 4,
   "metadata": {},
   "outputs": [
    {
     "data": {
      "text/plain": [
       "43"
      ]
     },
     "execution_count": 4,
     "metadata": {},
     "output_type": "execute_result"
    }
   ],
   "source": [
    "import os\n",
    "rating_files = os.listdir(RATINGS_DIR)\n",
    "len(rating_files)"
   ]
  },
  {
   "cell_type": "code",
   "execution_count": 5,
   "metadata": {},
   "outputs": [
    {
     "data": {
      "application/vnd.jupyter.widget-view+json": {
       "model_id": "e5f6a8594a104a4bb753135d5a35d0c0",
       "version_major": 2,
       "version_minor": 0
      },
      "text/plain": [
       "  0%|          | 0/43 [00:00<?, ?it/s]"
      ]
     },
     "metadata": {},
     "output_type": "display_data"
    }
   ],
   "source": [
    "rating_filepaths = [os.path.join(RATINGS_DIR, f) for f in rating_files]\n",
    "uids = defaultdict(int)\n",
    "fids = defaultdict(int)\n",
    "for filepath in tqdm(rating_filepaths):\n",
    "    with open(filepath, 'r') as fr:\n",
    "        lines = fr.readlines()\n",
    "    for line in lines:\n",
    "        splitted_line = line.split(sep=',')\n",
    "        uids[splitted_line[0]] += 1\n",
    "        fids[splitted_line[1]] += 1"
   ]
  },
  {
   "cell_type": "code",
   "execution_count": 6,
   "metadata": {},
   "outputs": [
    {
     "data": {
      "text/plain": [
       "15379208"
      ]
     },
     "execution_count": 6,
     "metadata": {},
     "output_type": "execute_result"
    }
   ],
   "source": [
    "sys.getsizeof(fids)"
   ]
  },
  {
   "cell_type": "code",
   "execution_count": 7,
   "metadata": {},
   "outputs": [],
   "source": [
    "def get_film_data(id: str):\n",
    "    film_url = f'https://www.imdb.com/title/tt{id}'\n",
    "    r = requests.get(\n",
    "        film_url,\n",
    "        headers={'User-Agent': random.choice(USER_AGENTS)}\n",
    "    )\n",
    "    soup = BeautifulSoup(r.text, 'html.parser').head\n",
    "    ld_json_script = soup.find('script', type='application/ld+json')\n",
    "    json_data = loads(ld_json_script.string)\n",
    "    return json_data"
   ]
  },
  {
   "cell_type": "code",
   "execution_count": 8,
   "metadata": {},
   "outputs": [],
   "source": [
    "film_id = '0910970'\n",
    "walle = get_film_data(film_id)"
   ]
  },
  {
   "cell_type": "code",
   "execution_count": 9,
   "metadata": {},
   "outputs": [
    {
     "data": {
      "text/plain": [
       "5880"
      ]
     },
     "execution_count": 9,
     "metadata": {},
     "output_type": "execute_result"
    }
   ],
   "source": [
    "walle['duration']\n",
    "dt = pd.Timedelta(walle['duration'])\n",
    "int(dt.total_seconds())"
   ]
  },
  {
   "cell_type": "code",
   "execution_count": 14,
   "metadata": {},
   "outputs": [
    {
     "data": {
      "text/plain": [
       "['0111161',\n",
       " '0109830',\n",
       " '0110912',\n",
       " '0133093',\n",
       " '0068646',\n",
       " '0120737',\n",
       " '0114369',\n",
       " '0172495',\n",
       " '0102926',\n",
       " '0120815',\n",
       " '0108052',\n",
       " '0076759',\n",
       " '0080684',\n",
       " '0071562',\n",
       " '0088763',\n",
       " '0120338',\n",
       " '0099685',\n",
       " '0110413',\n",
       " '0120382',\n",
       " '0169547',\n",
       " '0120586',\n",
       " '0103064',\n",
       " '0114814',\n",
       " '0086190',\n",
       " '0105236',\n",
       " '0112573',\n",
       " '0119217',\n",
       " '0073486',\n",
       " '0107290',\n",
       " '0082971',\n",
       " '0078748',\n",
       " '0095016',\n",
       " '0075314',\n",
       " '0088247',\n",
       " '0066921',\n",
       " '0120915',\n",
       " '0083658',\n",
       " '0097576',\n",
       " '0093058',\n",
       " '0090605',\n",
       " '0118799',\n",
       " '0144084',\n",
       " '0116282',\n",
       " '0117951',\n",
       " '0113277',\n",
       " '0054215',\n",
       " '0062622',\n",
       " '0078788',\n",
       " '0107048',\n",
       " '0073195',\n",
       " '0114746',\n",
       " '0120363',\n",
       " '0119488',\n",
       " '0119654',\n",
       " '0120735',\n",
       " '0034583',\n",
       " '0116629',\n",
       " '8111088',\n",
       " '0071853',\n",
       " '6710474',\n",
       " '0095953',\n",
       " '0057012',\n",
       " '0119116',\n",
       " '0092099',\n",
       " '0038650',\n",
       " '0101414',\n",
       " '0084787',\n",
       " '0117060',\n",
       " '0033467',\n",
       " '0120616',\n",
       " '2283362',\n",
       " '0120591',\n",
       " '0119567',\n",
       " '0091763',\n",
       " '0083866',\n",
       " '0105695',\n",
       " '0163651',\n",
       " '0032138',\n",
       " '9140554',\n",
       " '0079470',\n",
       " '0112864',\n",
       " '0096895',\n",
       " '0119094',\n",
       " '0111257',\n",
       " '0091042',\n",
       " '0081398',\n",
       " '0119396',\n",
       " '0047478',\n",
       " '0117500',\n",
       " '0120601',\n",
       " '0213149',\n",
       " '0110148',\n",
       " '0053125',\n",
       " '0125439',\n",
       " '0116367',\n",
       " '0163025',\n",
       " '0105323',\n",
       " '0094226',\n",
       " '0129387',\n",
       " '0175880']"
      ]
     },
     "execution_count": 14,
     "metadata": {},
     "output_type": "execute_result"
    }
   ],
   "source": [
    "test_fids = list(fids.keys())[:100]\n",
    "test_fids"
   ]
  },
  {
   "cell_type": "code",
   "execution_count": 11,
   "metadata": {},
   "outputs": [],
   "source": [
    "# with open('test.csv', 'w') as fw:\n",
    "#     # fw.write(f'fid,name,description,ratingCount,ratingValue,contentRating,genre,keywords,duration\\n')\n",
    "#     for fid in test_fids:\n",
    "#         json_film = get_film_data(fid)\n",
    "#         fw.write(f'\"{fid}\",\"{json_film['name']}\",\"{json_film['description']}\",{json_film['aggregateRating']['ratingCount']},')\n",
    "#         fw.write(f'{json_film['aggregateRating']['ratingValue']},{json_film['contentRating']},')\n",
    "#         fw.write(f'\"{','.join(json_film['genre'])}\",\"{json_film['keywords']}\",{int(pd.Timedelta(json_film['duration']).total_seconds())}\\n')"
   ]
  },
  {
   "cell_type": "code",
   "execution_count": 16,
   "metadata": {},
   "outputs": [],
   "source": [
    "def get_film_data(film_id: str):\n",
    "    \"\"\"Fetches film data from IMDb.\"\"\"\n",
    "    film_url = f'https://www.imdb.com/title/tt{film_id}'\n",
    "    try:\n",
    "        r = requests.get(\n",
    "            film_url,\n",
    "            headers={'User-Agent': random.choice(USER_AGENTS)}\n",
    "        )\n",
    "        if r.status_code != 200:\n",
    "            print(f\"Failed to fetch data for ID {film_id}. Status code: {r.status_code}\")\n",
    "            return None\n",
    "\n",
    "        soup = BeautifulSoup(r.text, 'html.parser').head\n",
    "        ld_json_script = soup.find('script', type='application/ld+json')\n",
    "        if not ld_json_script:\n",
    "            print(f\"No ld+json script found for ID {film_id}\")\n",
    "            return None\n",
    "\n",
    "        json_data = loads(ld_json_script.string)\n",
    "        return json_data\n",
    "\n",
    "    except requests.exceptions.RequestException as e:\n",
    "        print(f\"Request failed for ID {film_id}: {e}\")\n",
    "        return None\n",
    "    except Exception as e:\n",
    "        print(f\"An error occurred for ID {film_id}: {e}\")\n",
    "        return None\n",
    "\n",
    "def process_film(fid: str):\n",
    "    \"\"\"Fetches film data and formats it as a CSV row.\"\"\"\n",
    "    json_film = get_film_data(fid)\n",
    "    if not json_film:\n",
    "        return None\n",
    "    \n",
    "    try:\n",
    "        name = unescape(json_film.get('name', ''))\n",
    "        description = unescape(json_film.get('description', ''))\n",
    "        rating_count = json_film.get('aggregateRating', {}).get('ratingCount', 0)\n",
    "        rating_value = json_film.get('aggregateRating', {}).get('ratingValue', 0.0)\n",
    "        content_rating = json_film.get('contentRating', '')\n",
    "        genre = unescape(','.join(json_film.get('genre', [])))\n",
    "        keywords = unescape(json_film.get('keywords', ''))\n",
    "        duration = int(pd.Timedelta(json_film.get('duration', 'PT0S')).total_seconds())\n",
    "\n",
    "        return f'{fid},\"{name}\",\"{description}\",{rating_count},{rating_value},{content_rating},\"{genre}\",\"{keywords}\",{duration}\\n'\n",
    "    except Exception as e:\n",
    "        print(f\"Error processing data for ID {fid}: {e}\")\n",
    "        return None\n",
    "\n",
    "def main_parallel(test_fids):\n",
    "    \"\"\"Writes film data to a CSV file in parallel.\"\"\"\n",
    "    with open('test.csv', 'w') as fw:\n",
    "        # Write the header\n",
    "        fw.write('fid,name,description,ratingCount,ratingValue,contentRating,genre,keywords,duration\\n')\n",
    "\n",
    "        # Use a ThreadPoolExecutor for parallel processing\n",
    "        with concurrent.futures.ThreadPoolExecutor() as executor:\n",
    "            # Map film IDs to their processed data rows\n",
    "            futures = {executor.submit(process_film, fid): fid for fid in test_fids}\n",
    "            \n",
    "            for future in concurrent.futures.as_completed(futures):\n",
    "                result = future.result()\n",
    "                if result:\n",
    "                    fw.write(result)"
   ]
  },
  {
   "cell_type": "code",
   "execution_count": 17,
   "metadata": {},
   "outputs": [],
   "source": [
    "main_parallel(test_fids)"
   ]
  }
 ],
 "metadata": {
  "kernelspec": {
   "display_name": "thanh309-ml",
   "language": "python",
   "name": "python3"
  },
  "language_info": {
   "codemirror_mode": {
    "name": "ipython",
    "version": 3
   },
   "file_extension": ".py",
   "mimetype": "text/x-python",
   "name": "python",
   "nbconvert_exporter": "python",
   "pygments_lexer": "ipython3",
   "version": "3.12.2"
  }
 },
 "nbformat": 4,
 "nbformat_minor": 2
}
